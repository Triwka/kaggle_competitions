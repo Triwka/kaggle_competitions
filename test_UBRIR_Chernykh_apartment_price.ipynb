{
  "nbformat": 4,
  "nbformat_minor": 0,
  "metadata": {
    "colab": {
      "provenance": [],
      "collapsed_sections": [
        "4LwnYmAzRHNX",
        "UzOF53bkAoPQ",
        "Mp1X2s11dhlT",
        "uqIjfzinamFX",
        "UxdTAj_WkzyF",
        "wqX9VS8lta0c",
        "hKs5dR0q22Lk",
        "xwLZDU4l4WZV",
        "7iGwktRl5frp"
      ],
      "toc_visible": true
    },
    "kernelspec": {
      "name": "python3",
      "display_name": "Python 3"
    },
    "language_info": {
      "name": "python"
    }
  },
  "cells": [
    {
      "cell_type": "markdown",
      "source": [
        "## Импорт библиотек + загрузка данных\n",
        "\n"
      ],
      "metadata": {
        "id": "4LwnYmAzRHNX"
      }
    },
    {
      "cell_type": "code",
      "execution_count": 106,
      "metadata": {
        "id": "qQvwG3ZcvfQn"
      },
      "outputs": [],
      "source": [
        "import numpy as np\n",
        "import pandas as pd\n",
        "import datetime\n",
        "import re\n",
        "\n",
        "from sklearn.svm import LinearSVC\n",
        "from sklearn.model_selection import StratifiedKFold, cross_val_score, GridSearchCV, RandomizedSearchCV\n",
        "from sklearn.model_selection import StratifiedShuffleSplit\n",
        "from catboost import CatBoostRegressor\n",
        "import optuna\n",
        "from sklearn.model_selection import train_test_split, StratifiedKFold, RandomizedSearchCV\n",
        "from sklearn.linear_model import LogisticRegression\n",
        "from sklearn.cluster import KMeans\n",
        "from sklearn.neural_network import MLPRegressor\n",
        "from sklearn.neighbors import KNeighborsRegressor\n",
        "from sklearn.svm import SVC\n",
        "from lazypredict.Supervised import LazyRegressor\n",
        "from sklearn.gaussian_process import GaussianProcessRegressor\n",
        "from sklearn.tree import DecisionTreeRegressor\n",
        "from sklearn.ensemble import RandomForestRegressor, AdaBoostRegressor\n",
        "from sklearn.naive_bayes import GaussianNB\n",
        "from sklearn.discriminant_analysis import QuadraticDiscriminantAnalysis\n",
        "from xgboost import XGBRegressor\n",
        "from sklearn.metrics import mean_absolute_error,classification_report\n",
        "from sklearn.preprocessing import StandardScaler, Normalizer\n",
        "from sklearn.model_selection import GridSearchCV\n",
        "from sklearn.ensemble import GradientBoostingRegressor\n",
        "from sklearn.model_selection import ShuffleSplit\n",
        "import lazypredict\n",
        "from sklearn.model_selection import cross_validate\n",
        "import joblib\n",
        "\n",
        "\n",
        "import matplotlib.pyplot as plt\n",
        "import seaborn as sns\n",
        "\n",
        "from statistics import mean\n",
        "\n",
        "import warnings\n",
        "warnings.filterwarnings(\"ignore\")\n",
        "\n",
        "from sklearn.preprocessing import LabelEncoder\n",
        "\n",
        "%matplotlib inline"
      ]
    },
    {
      "cell_type": "code",
      "source": [
        "SEED = 666"
      ],
      "metadata": {
        "id": "u295fBLFxYCI"
      },
      "execution_count": 2,
      "outputs": []
    },
    {
      "cell_type": "code",
      "source": [
        "macro = pd.read_csv('macro.csv')\n",
        "train = pd.read_csv('train.csv')\n",
        "test = pd.read_csv('test.csv')"
      ],
      "metadata": {
        "id": "Y-ngBPwwxX_a"
      },
      "execution_count": 3,
      "outputs": []
    },
    {
      "cell_type": "markdown",
      "source": [
        "# 1.EDA + заполнение пропусков + работа с выбросами\n",
        "\n"
      ],
      "metadata": {
        "id": "qagtm3bF1oAF"
      }
    },
    {
      "cell_type": "code",
      "source": [
        "train.info(), test.info()"
      ],
      "metadata": {
        "colab": {
          "base_uri": "https://localhost:8080/"
        },
        "id": "HMutDVFc1t6T",
        "outputId": "9f4e0244-1f6b-4073-cd86-275adae3881f"
      },
      "execution_count": 4,
      "outputs": [
        {
          "output_type": "stream",
          "name": "stdout",
          "text": [
            "<class 'pandas.core.frame.DataFrame'>\n",
            "RangeIndex: 15092 entries, 0 to 15091\n",
            "Data columns (total 14 columns):\n",
            " #   Column      Non-Null Count  Dtype  \n",
            "---  ------      --------------  -----  \n",
            " 0   id          15092 non-null  int64  \n",
            " 1   timestamp   15092 non-null  object \n",
            " 2   full_sq     15092 non-null  int64  \n",
            " 3   life_sq     13828 non-null  float64\n",
            " 4   floor       15069 non-null  float64\n",
            " 5   state       12366 non-null  float64\n",
            " 6   max_floor   13938 non-null  float64\n",
            " 7   material    13938 non-null  float64\n",
            " 8   build_year  13475 non-null  object \n",
            " 9   num_room    13938 non-null  float64\n",
            " 10  kitch_sq    13938 non-null  float64\n",
            " 11  full_all    15092 non-null  int64  \n",
            " 12  sub_area    15092 non-null  object \n",
            " 13  price_doc   15092 non-null  int64  \n",
            "dtypes: float64(7), int64(4), object(3)\n",
            "memory usage: 1.6+ MB\n",
            "<class 'pandas.core.frame.DataFrame'>\n",
            "RangeIndex: 3774 entries, 0 to 3773\n",
            "Data columns (total 13 columns):\n",
            " #   Column      Non-Null Count  Dtype  \n",
            "---  ------      --------------  -----  \n",
            " 0   id          3774 non-null   int64  \n",
            " 1   timestamp   3774 non-null   object \n",
            " 2   full_sq     3774 non-null   int64  \n",
            " 3   life_sq     3463 non-null   float64\n",
            " 4   floor       3769 non-null   float64\n",
            " 5   state       3139 non-null   float64\n",
            " 6   max_floor   3507 non-null   float64\n",
            " 7   material    3507 non-null   float64\n",
            " 8   build_year  3391 non-null   float64\n",
            " 9   num_room    3507 non-null   float64\n",
            " 10  kitch_sq    3507 non-null   float64\n",
            " 11  full_all    3774 non-null   int64  \n",
            " 12  sub_area    3774 non-null   object \n",
            "dtypes: float64(8), int64(3), object(2)\n",
            "memory usage: 383.4+ KB\n"
          ]
        },
        {
          "output_type": "execute_result",
          "data": {
            "text/plain": [
              "(None, None)"
            ]
          },
          "metadata": {},
          "execution_count": 4
        }
      ]
    },
    {
      "cell_type": "markdown",
      "source": [
        "Из явных проблем : 1)Присутствуют нечисловые признаки. 2)Имеется наличие nan-ов\n"
      ],
      "metadata": {
        "id": "AP3S4JO3-07o"
      }
    },
    {
      "cell_type": "markdown",
      "source": [
        "## 1)Приведение всех типов данных к числовым + заполнение пропусков + обработка выбросов"
      ],
      "metadata": {
        "id": "zqVMUVJ92mo5"
      }
    },
    {
      "cell_type": "markdown",
      "source": [
        "### timestamp"
      ],
      "metadata": {
        "id": "8lrUXB49Agln"
      }
    },
    {
      "cell_type": "code",
      "source": [
        "train.timestamp = train.timestamp.apply(lambda x: pd.to_datetime(x))\n",
        "test.timestamp = test.timestamp.apply(lambda x: pd.to_datetime(x))\n"
      ],
      "metadata": {
        "id": "icqbK_T_189a"
      },
      "execution_count": 5,
      "outputs": []
    },
    {
      "cell_type": "code",
      "source": [
        "train.timestamp.hist()"
      ],
      "metadata": {
        "colab": {
          "base_uri": "https://localhost:8080/",
          "height": 0
        },
        "id": "LY6iS_l9Fd_t",
        "outputId": "35c88ee2-c598-431a-ef3d-20afad0ca9ce"
      },
      "execution_count": 6,
      "outputs": [
        {
          "output_type": "execute_result",
          "data": {
            "text/plain": [
              "<AxesSubplot:>"
            ]
          },
          "metadata": {},
          "execution_count": 6
        },
        {
          "output_type": "display_data",
          "data": {
            "text/plain": [
              "<Figure size 640x480 with 1 Axes>"
            ],
            "image/png": "[encoded data removed]"
          },
          "metadata": {}
        }
      ]
    },
    {
      "cell_type": "code",
      "source": [
        "test.timestamp.hist()"
      ],
      "metadata": {
        "colab": {
          "base_uri": "https://localhost:8080/",
          "height": 0
        },
        "id": "OwT0s6ItFfVR",
        "outputId": "1d98b377-b5b9-48d8-b3b6-fa11ba77a69d"
      },
      "execution_count": 7,
      "outputs": [
        {
          "output_type": "execute_result",
          "data": {
            "text/plain": [
              "<AxesSubplot:>"
            ]
          },
          "metadata": {},
          "execution_count": 7
        },
        {
          "output_type": "display_data",
          "data": {
            "text/plain": [
              "<Figure size 640x480 with 1 Axes>"
            ],
            "image/png": "[encoded data removed]"
          },
          "metadata": {}
        }
      ]
    },
    {
      "cell_type": "markdown",
      "source": [
        "Выбросов и аномалий не наблюдается"
      ],
      "metadata": {
        "id": "QcJ59XjTFhHp"
      }
    },
    {
      "cell_type": "markdown",
      "source": [
        "### build_year"
      ],
      "metadata": {
        "id": "UzOF53bkAoPQ"
      }
    },
    {
      "cell_type": "markdown",
      "source": [
        "train"
      ],
      "metadata": {
        "id": "rRvFlLhkWVtL"
      }
    },
    {
      "cell_type": "code",
      "source": [
        "train.build_year.unique() #Проверяем всевозможные значения в колонке build_year"
      ],
      "metadata": {
        "colab": {
          "base_uri": "https://localhost:8080/"
        },
        "id": "U2gDnJ2RBt-7",
        "outputId": "1ecfae62-6abe-487b-87f6-516d1384f402"
      },
      "execution_count": 8,
      "outputs": [
        {
          "output_type": "execute_result",
          "data": {
            "text/plain": [
              "array(['1969.0', '1960.0', '1985.0', '2017.0', '2006.0', '1970.0',\n",
              "       '1986.0', '1984.0', '2013.0', '1980.0', '2014.0', '1993.0',\n",
              "       '1997.0', '1981.0', '1964.0', '1979.0', '2004.0', '0.0', '1994.0',\n",
              "       nan, '1972.0', '1.0', '2010.0', '2012.0', '1976.0', '2000.0',\n",
              "       '1966.0', '2015.0', '1989.0', '1987.0', '1932.0', '1977.0',\n",
              "       '1983.0', '1962.0', '2008.0', '2003.0', '1965.0', '1990.0',\n",
              "       '1971.0', '1978.0', '1974.0', '1961.0', '2016.0', '1959.0',\n",
              "       '1975.0', '1957.0', '1968.0', '1992.0', '1967.0', '1956.0',\n",
              "       '1995.0', '1988.0', '1958.0', '1973.0', '1999.0', '2005.0',\n",
              "       '2002.0', '2007.0', '2001.0', '1982.0', '1950.0', '2011.0',\n",
              "       '1951.0', '1955.0', '1991.0', '1952.0', '1963.0', '2009.0',\n",
              "       '1998.0', '1890.0', '1954.0', '1927.0', '1917.0', '1930.0',\n",
              "       '1937.0', '1996.0', '1929.0', '1910.0', '1926.0', '1928.0',\n",
              "       '1953.0', '1912.0', '1947.0', '1931.0', '1938.0', '1940.0', '20.0',\n",
              "       '1915.0', '1933.0', '1934.0', '1936.0', '1920.0', '20052009.0',\n",
              "       'o', '1914.0', '1943.0', '1939.0', '1941.0', '1946.0', '1860.0',\n",
              "       '2018.0', '1907.0', '1911.0', '1925.0', '1935.0', '1949.0',\n",
              "       '1924.0', '1948.0', '1691.0', '1876.0', '1900.0', '215.0',\n",
              "       '1896.0', '1904.0', '71.0', '1895.0', '3.0'], dtype=object)"
            ]
          },
          "metadata": {},
          "execution_count": 8
        }
      ]
    },
    {
      "cell_type": "code",
      "source": [
        "year_build_unique_bad = [x for x in train.build_year.unique() if len(str(x)) < 6 or len(str(x)) > 6]\n",
        "year_build_unique_bad"
      ],
      "metadata": {
        "colab": {
          "base_uri": "https://localhost:8080/"
        },
        "id": "znoVHD_p_LCS",
        "outputId": "8d088703-c948-42ce-85f2-618b82678851"
      },
      "execution_count": 9,
      "outputs": [
        {
          "output_type": "execute_result",
          "data": {
            "text/plain": [
              "['0.0', nan, '1.0', '20.0', '20052009.0', 'o', '215.0', '71.0', '3.0']"
            ]
          },
          "metadata": {},
          "execution_count": 9
        }
      ]
    },
    {
      "cell_type": "code",
      "source": [
        "sum = 0\n",
        "for year in year_build_unique_bad:\n",
        "  values_count = train[train.build_year == year].build_year.count()\n",
        "  print(f'Плохой \"год\" - {year}, значений с плохим \"годом\" {values_count}')\n",
        "  sum += values_count\n",
        "print('Кол-во плохих значений всего ' + str(sum))\n",
        "\n",
        "year_build_median = train[(train.build_year.isin(year_build_unique_bad) == False) & (train.build_year.isnull() == False)].build_year.map(float).median()\n",
        "year_build_mode = train[train.build_year.isin(year_build_unique_bad) == False].build_year.map(float).mode().iloc[0]\n",
        "year_build_mean = train[train.build_year.isin(year_build_unique_bad) == False].build_year.map(float).mean()\n",
        "n = '\\n'\n",
        "print(f'Среднее значение года постройки - {year_build_mean}{n}Мода - {year_build_mode}{n}Медиана - {year_build_median}')\n",
        "\n",
        "train.build_year = train.build_year.apply(lambda x: year_build_median if x in year_build_unique_bad else float(x))"
      ],
      "metadata": {
        "colab": {
          "base_uri": "https://localhost:8080/"
        },
        "id": "-Lhg_89C_SxE",
        "outputId": "17000e6c-441b-46c5-e173-9852f85d1546"
      },
      "execution_count": 10,
      "outputs": [
        {
          "output_type": "stream",
          "name": "stdout",
          "text": [
            "Плохой \"год\" - 0.0, значений с плохим \"годом\" 416\n",
            "Плохой \"год\" - nan, значений с плохим \"годом\" 0\n",
            "Плохой \"год\" - 1.0, значений с плохим \"годом\" 295\n",
            "Плохой \"год\" - 20.0, значений с плохим \"годом\" 1\n",
            "Плохой \"год\" - 20052009.0, значений с плохим \"годом\" 1\n",
            "Плохой \"год\" - o, значений с плохим \"годом\" 1\n",
            "Плохой \"год\" - 215.0, значений с плохим \"годом\" 1\n",
            "Плохой \"год\" - 71.0, значений с плохим \"годом\" 1\n",
            "Плохой \"год\" - 3.0, значений с плохим \"годом\" 1\n",
            "Кол-во плохих значений всего 717\n",
            "Среднее значение года постройки - 1985.3288916758113\n",
            "Мода - 2014.0\n",
            "Медиана - 1981.0\n"
          ]
        }
      ]
    },
    {
      "cell_type": "markdown",
      "source": [
        "test\n"
      ],
      "metadata": {
        "id": "hzVtoKUiWT0t"
      }
    },
    {
      "cell_type": "code",
      "source": [
        "test.build_year.unique() #Проверяем всевозможные значения в колонке build_year"
      ],
      "metadata": {
        "colab": {
          "base_uri": "https://localhost:8080/"
        },
        "id": "1xxYgjSsWX95",
        "outputId": "bf5ce728-4d47-4f5f-b263-87def5923d3c"
      },
      "execution_count": 11,
      "outputs": [
        {
          "output_type": "execute_result",
          "data": {
            "text/plain": [
              "array([      nan, 1.969e+03, 1.970e+03, 2.003e+03, 1.965e+03, 1.966e+03,\n",
              "       1.928e+03, 1.982e+03, 1.959e+03, 1.978e+03, 1.964e+03, 1.985e+03,\n",
              "       1.983e+03, 2.004e+03, 1.986e+03, 1.960e+03, 1.952e+03, 1.988e+03,\n",
              "       1.961e+03, 1.987e+03, 2.014e+03, 1.996e+03, 1.981e+03, 1.976e+03,\n",
              "       2.010e+03, 1.962e+03, 2.015e+03, 1.984e+03, 1.000e+00, 1.995e+03,\n",
              "       2.007e+03, 1.974e+03, 2.005e+03, 1.967e+03, 1.939e+03, 2.013e+03,\n",
              "       1.968e+03, 1.979e+03, 1.973e+03, 2.009e+03, 0.000e+00, 1.963e+03,\n",
              "       1.972e+03, 1.994e+03, 1.958e+03, 1.998e+03, 1.980e+03, 2.012e+03,\n",
              "       2.016e+03, 2.008e+03, 1.975e+03, 2.006e+03, 1.971e+03, 1.900e+03,\n",
              "       1.997e+03, 2.017e+03, 1.935e+03, 1.991e+03, 1.957e+03, 1.977e+03,\n",
              "       1.924e+03, 1.993e+03, 1.992e+03, 1.917e+03, 1.989e+03, 1.936e+03,\n",
              "       1.956e+03, 1.915e+03, 1.990e+03, 1.999e+03, 2.002e+03, 1.954e+03,\n",
              "       2.011e+03, 1.949e+03, 1.912e+03, 2.001e+03, 2.000e+03, 1.933e+03,\n",
              "       1.955e+03, 1.932e+03, 1.940e+03, 1.926e+03, 1.950e+03, 1.934e+03,\n",
              "       1.890e+03, 1.953e+03, 1.938e+03, 3.000e+00, 1.930e+03, 1.929e+03,\n",
              "       1.886e+03, 1.906e+03, 4.965e+03, 1.905e+03, 1.937e+03, 1.951e+03,\n",
              "       1.907e+03])"
            ]
          },
          "metadata": {},
          "execution_count": 11
        }
      ]
    },
    {
      "cell_type": "code",
      "source": [
        "test.build_year.hist() ## Визуализация для поиска выбросов"
      ],
      "metadata": {
        "colab": {
          "base_uri": "https://localhost:8080/",
          "height": 0
        },
        "id": "tVrkQ_ZIWdox",
        "outputId": "4581597d-066e-4c9b-fb95-3847d8fd04fb"
      },
      "execution_count": 12,
      "outputs": [
        {
          "output_type": "execute_result",
          "data": {
            "text/plain": [
              "<AxesSubplot:>"
            ]
          },
          "metadata": {},
          "execution_count": 12
        },
        {
          "output_type": "display_data",
          "data": {
            "text/plain": [
              "<Figure size 640x480 with 1 Axes>"
            ],
            "image/png": "[encoded data removed]"
          },
          "metadata": {}
        }
      ]
    },
    {
      "cell_type": "markdown",
      "source": [
        "Видны выбросы в виде экстремально низких значений, а также, раз график построился аж до 5000 значения, то присутсвуют и экстремально высокие значения"
      ],
      "metadata": {
        "id": "RzD0jnRWYALg"
      }
    },
    {
      "cell_type": "code",
      "source": [
        "test_year_build_median = test[test.build_year > 1900].build_year.median()\n",
        "print(f'Медианный год постройки на тестовых данных - {test_year_build_median}')\n",
        "\n",
        "test.build_year = test.build_year.fillna(test_year_build_median)\n",
        "test.build_year = test.build_year.apply(lambda x: test_year_build_median if x < 1900 or x > 2023 else x)\n",
        "\n",
        "test.build_year.hist() ## Визуализация после удаления выбросов"
      ],
      "metadata": {
        "colab": {
          "base_uri": "https://localhost:8080/",
          "height": 0
        },
        "id": "tAvQ1y99YML1",
        "outputId": "fd4fc5a8-a2f0-4458-fc02-87f278b0c06d"
      },
      "execution_count": 13,
      "outputs": [
        {
          "output_type": "stream",
          "name": "stdout",
          "text": [
            "Медианный год постройки на тестовых данных - 1982.0\n"
          ]
        },
        {
          "output_type": "execute_result",
          "data": {
            "text/plain": [
              "<AxesSubplot:>"
            ]
          },
          "metadata": {},
          "execution_count": 13
        },
        {
          "output_type": "display_data",
          "data": {
            "text/plain": [
              "<Figure size 640x480 with 1 Axes>"
            ],
            "image/png": "[encoded data removed]"
          },
          "metadata": {}
        }
      ]
    },
    {
      "cell_type": "markdown",
      "source": [
        "### full_sq"
      ],
      "metadata": {
        "id": "Mp1X2s11dhlT"
      }
    },
    {
      "cell_type": "markdown",
      "source": [
        "train"
      ],
      "metadata": {
        "id": "KJWpHoNTdkZl"
      }
    },
    {
      "cell_type": "code",
      "source": [
        "train.full_sq.unique()"
      ],
      "metadata": {
        "colab": {
          "base_uri": "https://localhost:8080/"
        },
        "id": "kIMDN8bndj-C",
        "outputId": "efe46cda-a1cc-443a-8afc-855d9bd26452"
      },
      "execution_count": 14,
      "outputs": [
        {
          "output_type": "execute_result",
          "data": {
            "text/plain": [
              "array([  42,   55,   43,   62,   80,   32,   37,   51,   79,   75,   77,\n",
              "         36,   38,   73,   59,   34,   90,   30,   44,   66,    1,  117,\n",
              "         94,  150,   31,   58,   76,   84,   68,   39,   74,  102,   56,\n",
              "         41,   45,  109,   61,  133,   50,   57,   25,   54,   97,   49,\n",
              "         33,   47,   52,   35,   46,   82,   63,   88,   72,   67,   89,\n",
              "         53,   28,   64,   83,   87,  110,   85,  107,  138,   86,   60,\n",
              "         81,   17,  186,   65,   40,   29,   78,  132,  103,   20,   91,\n",
              "        120,   48,   71,   69,  134,  101,  106,   98,  104,   27,   99,\n",
              "        135,   19,  114,   96,  136,   92,   24,   70,  121,   93,  126,\n",
              "         95,  137,  105,   14,  100,  143,  112,  131,  127,   26,   13,\n",
              "        170,  119,  124,  144,  113,  116,  160,  139,   12,  123,   18,\n",
              "        115,  108,  128,  146,  151,  125,   21,  183,  111,  148,   23,\n",
              "        197,   22,   15,  159,  199,  167,   16,  122,  165,  157,  412,\n",
              "        142,  219,  176,  129,  155,    0,  158,  202,  156,  174,  169,\n",
              "        207,  187,  179,  149,  275,  172,  118,  130,  166,  189,  303,\n",
              "        216,  181,  185,  220,  182,  209,  637,  218,  153,  193,  177,\n",
              "       5326,  211,  154,  215], dtype=int64)"
            ]
          },
          "metadata": {},
          "execution_count": 14
        }
      ]
    },
    {
      "cell_type": "code",
      "source": [
        "train.full_sq.hist()  ## Визуализация для поиска выбросов"
      ],
      "metadata": {
        "colab": {
          "base_uri": "https://localhost:8080/",
          "height": 0
        },
        "id": "bWF1dOFwdsSy",
        "outputId": "9a54f8a1-1c64-4dcd-9426-e56e6857f001"
      },
      "execution_count": 15,
      "outputs": [
        {
          "output_type": "execute_result",
          "data": {
            "text/plain": [
              "<AxesSubplot:>"
            ]
          },
          "metadata": {},
          "execution_count": 15
        },
        {
          "output_type": "display_data",
          "data": {
            "text/plain": [
              "<Figure size 640x480 with 1 Axes>"
            ],
            "image/png": "[encoded data removed]"
          },
          "metadata": {}
        }
      ]
    },
    {
      "cell_type": "code",
      "source": [
        "question_full_sq = train[(train.full_sq > 400) | (train.full_sq < 10)]\n",
        "train = train.drop(question_full_sq.index).reset_index(drop=True)\n",
        "train"
      ],
      "metadata": {
        "colab": {
          "base_uri": "https://localhost:8080/",
          "height": 0
        },
        "id": "qnBeJFlUe37c",
        "outputId": "d11ead0a-c7a6-486a-aada-ac4ca3973194"
      },
      "execution_count": 16,
      "outputs": [
        {
          "output_type": "execute_result",
          "data": {
            "text/plain": [
              "          id  timestamp  full_sq  life_sq  floor  state  max_floor  material  \\\n",
              "0      13324 2013-12-23       42    28.00   8.00   2.00       9.00      1.00   \n",
              "1      10064 2013-08-26       55    41.00   4.00   3.00       5.00      2.00   \n",
              "2      12022 2013-11-11       43    29.00   4.00   2.00       5.00      2.00   \n",
              "3      10186 2013-08-30       62    35.00  15.00    NaN      22.00      1.00   \n",
              "4      30052 2015-05-29       80    55.00  15.00   1.00      24.00      6.00   \n",
              "...      ...        ...      ...      ...    ...    ...        ...       ...   \n",
              "15062  23382 2014-10-08       69    48.00   2.00   2.00       4.00      2.00   \n",
              "15063  24264 2014-10-31       78    75.00   4.00   1.00      17.00      1.00   \n",
              "15064  16165 2014-03-18       38    19.00  15.00   3.00      17.00      1.00   \n",
              "15065  10635 2013-09-20       54    32.00  11.00   3.00      16.00      1.00   \n",
              "15066  29081 2015-04-13      154   108.00  14.00   3.00      18.00      4.00   \n",
              "\n",
              "       build_year  num_room  kitch_sq  full_all           sub_area  price_doc  \n",
              "0         1969.00      2.00      6.00     43795         Pechatniki    7100000  \n",
              "1         1960.00      3.00      5.00     21040       Dorogomilovo   11500000  \n",
              "2         1960.00      2.00      5.00    157010         Ivanovskoe    5800000  \n",
              "3         1985.00      2.00     10.00    178264           Jasenevo   11400000  \n",
              "4         2017.00      3.00     12.00     76284  Nagatinskij Zaton   12697154  \n",
              "...           ...       ...       ...       ...                ...        ...  \n",
              "15062     1950.00      3.00      7.00    101982     Tekstil'shhiki    9100000  \n",
              "15063     2014.00      3.00      1.00    247469         Nekrasovka    7722400  \n",
              "15064     1990.00      1.00      8.00    101708     Juzhnoportovoe    7000000  \n",
              "15065     1979.00      2.00      9.00    178264           Jasenevo    7000000  \n",
              "15066     2006.00      4.00      5.00     80791       Horoshevskoe   50000000  \n",
              "\n",
              "[15067 rows x 14 columns]"
            ],
            "text/html": [
              "<div>\n",
              "<style scoped>\n",
              "    .dataframe tbody tr th:only-of-type {\n",
              "        vertical-align: middle;\n",
              "    }\n",
              "\n",
              "    .dataframe tbody tr th {\n",
              "        vertical-align: top;\n",
              "    }\n",
              "\n",
              "    .dataframe thead th {\n",
              "        text-align: right;\n",
              "    }\n",
              "</style>\n",
              "<table border=\"1\" class=\"dataframe\">\n",
              "  <thead>\n",
              "    <tr style=\"text-align: right;\">\n",
              "      <th></th>\n",
              "      <th>id</th>\n",
              "      <th>timestamp</th>\n",
              "      <th>full_sq</th>\n",
              "      <th>life_sq</th>\n",
              "      <th>floor</th>\n",
              "      <th>state</th>\n",
              "      <th>max_floor</th>\n",
              "      <th>material</th>\n",
              "      <th>build_year</th>\n",
              "      <th>num_room</th>\n",
              "      <th>kitch_sq</th>\n",
              "      <th>full_all</th>\n",
              "      <th>sub_area</th>\n",
              "      <th>price_doc</th>\n",
              "    </tr>\n",
              "  </thead>\n",
              "  <tbody>\n",
              "    <tr>\n",
              "      <th>0</th>\n",
              "      <td>13324</td>\n",
              "      <td>2013-12-23</td>\n",
              "      <td>42</td>\n",
              "      <td>28.00</td>\n",
              "      <td>8.00</td>\n",
              "      <td>2.00</td>\n",
              "      <td>9.00</td>\n",
              "      <td>1.00</td>\n",
              "      <td>1969.00</td>\n",
              "      <td>2.00</td>\n",
              "      <td>6.00</td>\n",
              "      <td>43795</td>\n",
              "      <td>Pechatniki</td>\n",
              "      <td>7100000</td>\n",
              "    </tr>\n",
              "    <tr>\n",
              "      <th>1</th>\n",
              "      <td>10064</td>\n",
              "      <td>2013-08-26</td>\n",
              "      <td>55</td>\n",
              "      <td>41.00</td>\n",
              "      <td>4.00</td>\n",
              "      <td>3.00</td>\n",
              "      <td>5.00</td>\n",
              "      <td>2.00</td>\n",
              "      <td>1960.00</td>\n",
              "      <td>3.00</td>\n",
              "      <td>5.00</td>\n",
              "      <td>21040</td>\n",
              "      <td>Dorogomilovo</td>\n",
              "      <td>11500000</td>\n",
              "    </tr>\n",
              "    <tr>\n",
              "      <th>2</th>\n",
              "      <td>12022</td>\n",
              "      <td>2013-11-11</td>\n",
              "      <td>43</td>\n",
              "      <td>29.00</td>\n",
              "      <td>4.00</td>\n",
              "      <td>2.00</td>\n",
              "      <td>5.00</td>\n",
              "      <td>2.00</td>\n",
              "      <td>1960.00</td>\n",
              "      <td>2.00</td>\n",
              "      <td>5.00</td>\n",
              "      <td>157010</td>\n",
              "      <td>Ivanovskoe</td>\n",
              "      <td>5800000</td>\n",
              "    </tr>\n",
              "    <tr>\n",
              "      <th>3</th>\n",
              "      <td>10186</td>\n",
              "      <td>2013-08-30</td>\n",
              "      <td>62</td>\n",
              "      <td>35.00</td>\n",
              "      <td>15.00</td>\n",
              "      <td>NaN</td>\n",
              "      <td>22.00</td>\n",
              "      <td>1.00</td>\n",
              "      <td>1985.00</td>\n",
              "      <td>2.00</td>\n",
              "      <td>10.00</td>\n",
              "      <td>178264</td>\n",
              "      <td>Jasenevo</td>\n",
              "      <td>11400000</td>\n",
              "    </tr>\n",
              "    <tr>\n",
              "      <th>4</th>\n",
              "      <td>30052</td>\n",
              "      <td>2015-05-29</td>\n",
              "      <td>80</td>\n",
              "      <td>55.00</td>\n",
              "      <td>15.00</td>\n",
              "      <td>1.00</td>\n",
              "      <td>24.00</td>\n",
              "      <td>6.00</td>\n",
              "      <td>2017.00</td>\n",
              "      <td>3.00</td>\n",
              "      <td>12.00</td>\n",
              "      <td>76284</td>\n",
              "      <td>Nagatinskij Zaton</td>\n",
              "      <td>12697154</td>\n",
              "    </tr>\n",
              "    <tr>\n",
              "      <th>...</th>\n",
              "      <td>...</td>\n",
              "      <td>...</td>\n",
              "      <td>...</td>\n",
              "      <td>...</td>\n",
              "      <td>...</td>\n",
              "      <td>...</td>\n",
              "      <td>...</td>\n",
              "      <td>...</td>\n",
              "      <td>...</td>\n",
              "      <td>...</td>\n",
              "      <td>...</td>\n",
              "      <td>...</td>\n",
              "      <td>...</td>\n",
              "      <td>...</td>\n",
              "    </tr>\n",
              "    <tr>\n",
              "      <th>15062</th>\n",
              "      <td>23382</td>\n",
              "      <td>2014-10-08</td>\n",
              "      <td>69</td>\n",
              "      <td>48.00</td>\n",
              "      <td>2.00</td>\n",
              "      <td>2.00</td>\n",
              "      <td>4.00</td>\n",
              "      <td>2.00</td>\n",
              "      <td>1950.00</td>\n",
              "      <td>3.00</td>\n",
              "      <td>7.00</td>\n",
              "      <td>101982</td>\n",
              "      <td>Tekstil'shhiki</td>\n",
              "      <td>9100000</td>\n",
              "    </tr>\n",
              "    <tr>\n",
              "      <th>15063</th>\n",
              "      <td>24264</td>\n",
              "      <td>2014-10-31</td>\n",
              "      <td>78</td>\n",
              "      <td>75.00</td>\n",
              "      <td>4.00</td>\n",
              "      <td>1.00</td>\n",
              "      <td>17.00</td>\n",
              "      <td>1.00</td>\n",
              "      <td>2014.00</td>\n",
              "      <td>3.00</td>\n",
              "      <td>1.00</td>\n",
              "      <td>247469</td>\n",
              "      <td>Nekrasovka</td>\n",
              "      <td>7722400</td>\n",
              "    </tr>\n",
              "    <tr>\n",
              "      <th>15064</th>\n",
              "      <td>16165</td>\n",
              "      <td>2014-03-18</td>\n",
              "      <td>38</td>\n",
              "      <td>19.00</td>\n",
              "      <td>15.00</td>\n",
              "      <td>3.00</td>\n",
              "      <td>17.00</td>\n",
              "      <td>1.00</td>\n",
              "      <td>1990.00</td>\n",
              "      <td>1.00</td>\n",
              "      <td>8.00</td>\n",
              "      <td>101708</td>\n",
              "      <td>Juzhnoportovoe</td>\n",
              "      <td>7000000</td>\n",
              "    </tr>\n",
              "    <tr>\n",
              "      <th>15065</th>\n",
              "      <td>10635</td>\n",
              "      <td>2013-09-20</td>\n",
              "      <td>54</td>\n",
              "      <td>32.00</td>\n",
              "      <td>11.00</td>\n",
              "      <td>3.00</td>\n",
              "      <td>16.00</td>\n",
              "      <td>1.00</td>\n",
              "      <td>1979.00</td>\n",
              "      <td>2.00</td>\n",
              "      <td>9.00</td>\n",
              "      <td>178264</td>\n",
              "      <td>Jasenevo</td>\n",
              "      <td>7000000</td>\n",
              "    </tr>\n",
              "    <tr>\n",
              "      <th>15066</th>\n",
              "      <td>29081</td>\n",
              "      <td>2015-04-13</td>\n",
              "      <td>154</td>\n",
              "      <td>108.00</td>\n",
              "      <td>14.00</td>\n",
              "      <td>3.00</td>\n",
              "      <td>18.00</td>\n",
              "      <td>4.00</td>\n",
              "      <td>2006.00</td>\n",
              "      <td>4.00</td>\n",
              "      <td>5.00</td>\n",
              "      <td>80791</td>\n",
              "      <td>Horoshevskoe</td>\n",
              "      <td>50000000</td>\n",
              "    </tr>\n",
              "  </tbody>\n",
              "</table>\n",
              "<p>15067 rows × 14 columns</p>\n",
              "</div>"
            ]
          },
          "metadata": {},
          "execution_count": 16
        }
      ]
    },
    {
      "cell_type": "code",
      "source": [
        "train.full_sq.hist()  ## Визуализация после удаления выбросов"
      ],
      "metadata": {
        "colab": {
          "base_uri": "https://localhost:8080/",
          "height": 0
        },
        "id": "FS2t40Ome34l",
        "outputId": "ae89543b-8f10-4823-b005-89f611a9c5e2"
      },
      "execution_count": 17,
      "outputs": [
        {
          "output_type": "execute_result",
          "data": {
            "text/plain": [
              "<AxesSubplot:>"
            ]
          },
          "metadata": {},
          "execution_count": 17
        },
        {
          "output_type": "display_data",
          "data": {
            "text/plain": [
              "<Figure size 640x480 with 1 Axes>"
            ],
            "image/png": "[encoded data removed]"
          },
          "metadata": {}
        }
      ]
    },
    {
      "cell_type": "markdown",
      "source": [
        "test"
      ],
      "metadata": {
        "id": "bOk7J3T0hEy3"
      }
    },
    {
      "cell_type": "code",
      "source": [
        "test.full_sq.unique()"
      ],
      "metadata": {
        "colab": {
          "base_uri": "https://localhost:8080/"
        },
        "id": "2NjIJEgSe303",
        "outputId": "fb801193-4aeb-42a8-e56c-20146dbe63ff"
      },
      "execution_count": 18,
      "outputs": [
        {
          "output_type": "execute_result",
          "data": {
            "text/plain": [
              "array([ 51,  44,  32,  31,  37,  33,  64,  34,  28,  41,  66,  77,  73,\n",
              "        43,  48,  79,  74,  38,  39,  53,  61,  62,  56,  58,  76,  52,\n",
              "        30,  60,  54,  36, 131,  84,  45,  50,  35,  29,  59,  55,  94,\n",
              "        72, 106,  75,  40, 118,  87,  65,  67,  57, 151,  63, 121,  78,\n",
              "        46,  71,  26, 116,  80,  70,  69,  81, 100,  42,  82,  47,  49,\n",
              "       219, 113,  27,  23,  16, 101,  22, 195, 134,  93, 105,  85,  86,\n",
              "       148,  18, 103,  97,  95, 102,  68,  99,  25,  88,  96, 138, 112,\n",
              "       108,  83, 143, 407,  14, 107,  98,  89, 172, 110, 165, 202, 122,\n",
              "       124, 141,  92, 111,  90,  91, 115, 133, 170,  20, 119, 150, 135,\n",
              "       161, 129,   1, 117, 184, 146,  15, 114, 187, 155, 154, 183, 160,\n",
              "       179, 206,  11, 120,   5,  21, 109, 145], dtype=int64)"
            ]
          },
          "metadata": {},
          "execution_count": 18
        }
      ]
    },
    {
      "cell_type": "code",
      "source": [
        "test.full_sq.hist()"
      ],
      "metadata": {
        "colab": {
          "base_uri": "https://localhost:8080/",
          "height": 0
        },
        "id": "o6etKaYKe3yK",
        "outputId": "0c5cc5ca-201e-4c88-d2e1-16c4fe883678"
      },
      "execution_count": 19,
      "outputs": [
        {
          "output_type": "execute_result",
          "data": {
            "text/plain": [
              "<AxesSubplot:>"
            ]
          },
          "metadata": {},
          "execution_count": 19
        },
        {
          "output_type": "display_data",
          "data": {
            "text/plain": [
              "<Figure size 640x480 with 1 Axes>"
            ],
            "image/png": "[encoded data removed]"
          },
          "metadata": {}
        }
      ]
    },
    {
      "cell_type": "markdown",
      "source": [
        "### life_sq"
      ],
      "metadata": {
        "id": "uqIjfzinamFX"
      }
    },
    {
      "cell_type": "markdown",
      "source": [
        "train"
      ],
      "metadata": {
        "id": "FKyiayyZh3TE"
      }
    },
    {
      "cell_type": "code",
      "source": [
        "train.life_sq.unique() #Проверяем всевозможные значения в колонке life_sq"
      ],
      "metadata": {
        "colab": {
          "base_uri": "https://localhost:8080/"
        },
        "id": "FN-x51Jda39t",
        "outputId": "4618edcf-c705-479a-87ad-6eca751697a9"
      },
      "execution_count": 20,
      "outputs": [
        {
          "output_type": "execute_result",
          "data": {
            "text/plain": [
              "array([ 28.,  41.,  29.,  35.,  55.,  18.,  19.,  40.,  77.,  44.,  75.,\n",
              "        20.,  32.,  48.,   0.,  46.,  66.,  nan,  43.,  52.,  80.,  37.,\n",
              "        45.,  62.,  30.,  23.,  63.,  34.,  50.,  22.,  36.,  79.,  74.,\n",
              "        14.,  42.,  31.,  59.,  69.,  27.,  47.,   1.,  15.,  17.,  51.,\n",
              "        54.,  21.,  73.,  16.,  64.,  38.,  33., 107.,  89.,  39.,  26.,\n",
              "        76.,  70.,  49.,  81.,  53.,  13.,  60.,  86.,  56.,  57.,  58.,\n",
              "       103.,  87.,  82.,  93.,  71., 134.,  10.,  83.,  25.,  24.,  61.,\n",
              "        12.,  96.,  65.,  94.,  85., 121.,  78., 136.,  68.,  91., 104.,\n",
              "         8., 112., 108., 458., 102., 113., 349., 160.,   9.,  67.,   7.,\n",
              "        72.,  11., 435., 146.,  98., 125.,  97., 148., 114.,  95.,  88.,\n",
              "       197.,  84., 101., 159., 116., 157.,  99., 122., 163., 100., 259.,\n",
              "       133., 158., 117., 165., 120., 110., 115., 126., 179., 123.,  90.,\n",
              "       232.,  92., 139., 149., 144., 106., 118., 124., 209., 301., 105.,\n",
              "       174., 138., 119., 162., 145., 176., 142., 167., 153.])"
            ]
          },
          "metadata": {},
          "execution_count": 20
        }
      ]
    },
    {
      "cell_type": "code",
      "source": [
        "train.life_sq.hist()  ## Визуализация для поиска выбросов"
      ],
      "metadata": {
        "colab": {
          "base_uri": "https://localhost:8080/",
          "height": 0
        },
        "id": "bBqGR8BObxIa",
        "outputId": "6babb15c-5d90-4160-d7c0-4d59f79e24ac"
      },
      "execution_count": 21,
      "outputs": [
        {
          "output_type": "execute_result",
          "data": {
            "text/plain": [
              "<AxesSubplot:>"
            ]
          },
          "metadata": {},
          "execution_count": 21
        },
        {
          "output_type": "display_data",
          "data": {
            "text/plain": [
              "<Figure size 640x480 with 1 Axes>"
            ],
            "image/png": "[encoded data removed]"
          },
          "metadata": {}
        }
      ]
    },
    {
      "cell_type": "code",
      "source": [
        "train.life_sq.isnull().value_counts()"
      ],
      "metadata": {
        "colab": {
          "base_uri": "https://localhost:8080/"
        },
        "id": "c2sOj0h5hwaU",
        "outputId": "17f6b6d5-79f4-4204-bb0d-700b20c6aedd"
      },
      "execution_count": 22,
      "outputs": [
        {
          "output_type": "execute_result",
          "data": {
            "text/plain": [
              "False    13803\n",
              "True      1264\n",
              "Name: life_sq, dtype: int64"
            ]
          },
          "metadata": {},
          "execution_count": 22
        }
      ]
    },
    {
      "cell_type": "markdown",
      "source": [
        "Заполним пропуски значением, которое определяется 80% площади full_sq\n"
      ],
      "metadata": {
        "id": "6yvOnuoriN07"
      }
    },
    {
      "cell_type": "code",
      "source": [
        "for i in range(train.life_sq.shape[0]):\n",
        "  if train.life_sq.iloc[i] < 20:\n",
        "    train.at[i, 'life_sq'] = train.at[i, 'full_sq'] * 0.8  ## заменим экстремально низкие значения"
      ],
      "metadata": {
        "id": "EmAe4Mpb7X5p"
      },
      "execution_count": 23,
      "outputs": []
    },
    {
      "cell_type": "code",
      "source": [
        "train.life_sq.fillna(train.full_sq * 0.8,inplace=True)\n",
        "train.life_sq.isnull().value_counts()"
      ],
      "metadata": {
        "colab": {
          "base_uri": "https://localhost:8080/"
        },
        "id": "_FTC9A6ciUTp",
        "outputId": "3e3c0f4e-9d39-43df-dd43-e8bf08b36617"
      },
      "execution_count": 24,
      "outputs": [
        {
          "output_type": "execute_result",
          "data": {
            "text/plain": [
              "False    15067\n",
              "Name: life_sq, dtype: int64"
            ]
          },
          "metadata": {},
          "execution_count": 24
        }
      ]
    },
    {
      "cell_type": "markdown",
      "source": [
        "test"
      ],
      "metadata": {
        "id": "57CpwyKIi5fa"
      }
    },
    {
      "cell_type": "code",
      "source": [
        "test.life_sq.unique() #Проверяем всевозможные значения в колонке life_sq"
      ],
      "metadata": {
        "colab": {
          "base_uri": "https://localhost:8080/"
        },
        "id": "5i7t9RlIi8VN",
        "outputId": "f2fc4d74-18ec-46e1-b029-161b6a8df1c0"
      },
      "execution_count": 25,
      "outputs": [
        {
          "output_type": "execute_result",
          "data": {
            "text/plain": [
              "array([3.100e+01, 2.900e+01, 1.800e+01, 3.000e+01, 2.800e+01, 2.100e+01,\n",
              "       1.700e+01,       nan, 4.300e+01, 1.900e+01, 4.400e+01, 1.100e+01,\n",
              "       2.600e+01, 4.600e+01, 3.800e+01, 2.700e+01, 1.400e+01, 4.100e+01,\n",
              "       2.000e+01, 3.200e+01, 5.100e+01, 3.300e+01, 5.800e+01, 4.500e+01,\n",
              "       1.000e+00, 3.400e+01, 2.300e+01, 1.180e+02, 2.400e+01, 8.400e+01,\n",
              "       4.200e+01, 7.400e+01, 3.700e+01, 5.200e+01, 1.600e+01, 5.600e+01,\n",
              "       3.900e+01, 5.500e+01, 6.700e+01, 5.900e+01, 7.600e+01, 2.500e+01,\n",
              "       8.200e+01, 3.500e+01, 6.200e+01, 1.500e+01, 5.400e+01, 4.700e+01,\n",
              "       5.000e+01, 7.700e+01, 6.600e+01, 3.600e+01, 9.000e+00, 7.000e+01,\n",
              "       4.800e+01, 6.100e+01, 2.200e+01, 4.900e+01, 4.000e+01, 6.400e+01,\n",
              "       6.300e+01, 7.800e+01, 5.700e+01, 5.300e+01, 6.800e+01, 8.100e+01,\n",
              "       1.190e+02, 7.200e+01, 7.300e+01, 9.700e+01, 8.500e+01, 6.000e+01,\n",
              "       8.600e+01, 6.500e+01, 7.900e+01, 9.500e+01, 8.700e+01, 9.000e+01,\n",
              "       0.000e+00, 7.500e+01, 1.030e+02, 8.000e+01, 4.070e+02, 6.900e+01,\n",
              "       1.300e+01, 9.800e+01, 8.900e+01, 1.000e+02, 1.000e+01, 8.800e+01,\n",
              "       1.650e+02, 1.010e+02, 1.240e+02, 1.410e+02, 8.300e+01, 1.110e+02,\n",
              "       9.200e+01, 1.200e+01, 1.720e+02, 7.478e+03, 9.400e+01, 9.100e+01,\n",
              "       1.080e+02, 7.100e+01, 1.460e+02, 9.600e+01, 1.120e+02, 1.390e+02,\n",
              "       1.500e+02, 1.600e+02, 1.170e+02, 1.780e+02, 1.340e+02, 1.020e+02,\n",
              "       1.090e+02, 1.550e+02])"
            ]
          },
          "metadata": {},
          "execution_count": 25
        }
      ]
    },
    {
      "cell_type": "code",
      "source": [
        "test.life_sq.describe()"
      ],
      "metadata": {
        "colab": {
          "base_uri": "https://localhost:8080/"
        },
        "id": "o0LFrUprjJGH",
        "outputId": "69ce4aa9-d61a-4148-f4f2-0b6d79d41865"
      },
      "execution_count": 26,
      "outputs": [
        {
          "output_type": "execute_result",
          "data": {
            "text/plain": [
              "count   3463.00\n",
              "mean      36.15\n",
              "std      127.97\n",
              "min        0.00\n",
              "25%       20.00\n",
              "50%       30.00\n",
              "75%       43.00\n",
              "max     7478.00\n",
              "Name: life_sq, dtype: float64"
            ]
          },
          "metadata": {},
          "execution_count": 26
        }
      ]
    },
    {
      "cell_type": "code",
      "source": [
        "test.life_sq.hist()  ## Визуализация для поиска выбросов"
      ],
      "metadata": {
        "colab": {
          "base_uri": "https://localhost:8080/",
          "height": 0
        },
        "id": "ue6KGTWPjBfT",
        "outputId": "220bb23b-682b-4dce-b746-c771b632f896"
      },
      "execution_count": 27,
      "outputs": [
        {
          "output_type": "execute_result",
          "data": {
            "text/plain": [
              "<AxesSubplot:>"
            ]
          },
          "metadata": {},
          "execution_count": 27
        },
        {
          "output_type": "display_data",
          "data": {
            "text/plain": [
              "<Figure size 640x480 with 1 Axes>"
            ],
            "image/png": "[encoded data removed]"
          },
          "metadata": {}
        }
      ]
    },
    {
      "cell_type": "markdown",
      "source": [
        "Очевидны выбросы"
      ],
      "metadata": {
        "id": "_H70g5KUjREz"
      }
    },
    {
      "cell_type": "code",
      "source": [
        "test[test.life_sq > 100]"
      ],
      "metadata": {
        "colab": {
          "base_uri": "https://localhost:8080/",
          "height": 0
        },
        "id": "dIaogib7i8SY",
        "outputId": "41f13e14-982b-46d3-a3e7-c1d2b26c87bc"
      },
      "execution_count": 28,
      "outputs": [
        {
          "output_type": "execute_result",
          "data": {
            "text/plain": [
              "         id  timestamp  full_sq  life_sq  floor  state  max_floor  material  \\\n",
              "58    15699 2014-03-04      131   118.00  10.00   1.00      39.00      4.00   \n",
              "272   17713 2014-04-22      219   118.00  31.00   1.00      48.00      4.00   \n",
              "363   28958 2015-04-07      195   119.00   1.00   1.00       2.00      4.00   \n",
              "908   29436 2015-04-27      103   103.00  15.00   1.00      25.00      6.00   \n",
              "968   27796 2015-02-09      407   407.00   4.00   1.00       4.00      4.00   \n",
              "1331   6002 2013-02-12      165   165.00  11.00    NaN        NaN       NaN   \n",
              "1351  28700 2015-03-30      101   101.00  10.00   1.00      10.00      1.00   \n",
              "1416  19931 2014-06-21      124   124.00  24.00   1.00      24.00      1.00   \n",
              "1438  24720 2014-11-13      141   141.00   3.00   1.00       3.00      4.00   \n",
              "1520  26869 2014-12-19      111   111.00  11.00   1.00      15.00      6.00   \n",
              "1627  25609 2014-12-01      101   101.00   2.00    NaN      17.00      1.00   \n",
              "1643  10298 2013-09-05      133   124.00   8.00   1.00      25.00      2.00   \n",
              "1669  17141 2014-04-08      172   172.00  10.00   1.00      12.00      2.00   \n",
              "1746  13549 2013-12-30       79  7478.00   8.00   1.00      17.00      1.00   \n",
              "1886  30082 2015-06-02      150   108.00   8.00   2.00      24.00      4.00   \n",
              "2114  26641 2014-12-17      150   146.00  14.00   1.00      17.00      4.00   \n",
              "2174  20087 2014-06-25      112   112.00   7.00   1.00       9.00      4.00   \n",
              "2336  29520 2015-05-02      187   139.00   3.00   4.00       6.00      2.00   \n",
              "2399  22668 2014-09-19      155   101.00   7.00   2.00       8.00      2.00   \n",
              "2511  18081 2014-04-30      154   150.00   1.00   4.00       3.00      5.00   \n",
              "2591  21924 2014-08-27      160   160.00   0.00   1.00       3.00      2.00   \n",
              "2669  22554 2014-09-16      101   101.00   7.00   2.00       1.00      1.00   \n",
              "2902  26590 2014-12-16      117   117.00   1.00   1.00       2.00      1.00   \n",
              "2914   5505 2012-12-26      179   178.00   3.00    NaN        NaN       NaN   \n",
              "3010  18726 2014-05-21      143   117.00   3.00   1.00      14.00      6.00   \n",
              "3060  19516 2014-06-09      206   134.00   6.00   4.00      25.00      4.00   \n",
              "3102  27303 2015-01-15      102   102.00  12.00   1.00      25.00      1.00   \n",
              "3109  22449 2014-09-11      117   117.00   4.00   1.00       1.00      1.00   \n",
              "3367  26926 2014-12-20      134   134.00   2.00   1.00       2.00      1.00   \n",
              "3430  18993 2014-05-28      145   109.00   5.00   3.00       6.00      2.00   \n",
              "3435  23405 2014-10-09      102   102.00  21.00   1.00       1.00      4.00   \n",
              "3483  25373 2014-11-26      112   112.00   3.00   3.00       3.00      5.00   \n",
              "3618  25307 2014-11-25      160   155.00   3.00   1.00      17.00      4.00   \n",
              "3643  27576 2015-01-28      103   103.00   5.00   1.00      17.00      1.00   \n",
              "3644  22026 2014-08-29      146   102.00   4.00   4.00      12.00      4.00   \n",
              "3751  26658 2014-12-17      150   146.00  13.00   1.00      17.00      4.00   \n",
              "\n",
              "      build_year  num_room  kitch_sq  full_all                 sub_area  \n",
              "58       2009.00      1.00      3.00    116742                 Tverskoe  \n",
              "272      2010.00      3.00      4.00    102726                Jakimanka  \n",
              "363      2010.00      5.00     10.00      5740   Poselenie Pervomajskoe  \n",
              "908      1982.00      4.00     12.00      7341     Poselenie Moskovskij  \n",
              "968      2015.00      1.00     10.00    112804           Filevskij Park  \n",
              "1331     1982.00       NaN       NaN     90114              Teplyj Stan  \n",
              "1351     1982.00      3.00      1.00     13890      Poselenie Sosenskoe  \n",
              "1416     2015.00      3.00     19.00     81887                  Hovrino  \n",
              "1438     2012.00      3.00     10.00    143661           Troickij okrug  \n",
              "1520     2016.00      3.00     17.00      7341     Poselenie Moskovskij  \n",
              "1627     2014.00      3.00     10.00    221709                 Krjukovo  \n",
              "1643     2011.00      1.00      1.00     75377                Hamovniki  \n",
              "1669     1955.00      1.00     15.00     80791             Horoshevskoe  \n",
              "1746     2014.00      3.00      1.00      9553  Poselenie Voskresenskoe  \n",
              "1886     2004.00      3.00     23.00     57999              Presnenskoe  \n",
              "2114     2017.00      4.00      1.00     57999              Presnenskoe  \n",
              "2174     2017.00      3.00     12.00     57999              Presnenskoe  \n",
              "2336     1982.00      8.00     13.00     75377                Hamovniki  \n",
              "2399     1906.00      5.00     12.00     55590           Krasnosel'skoe  \n",
              "2511     2004.00      3.00      1.00     13890      Poselenie Sosenskoe  \n",
              "2591     1982.00      3.00      0.00    116742                 Tverskoe  \n",
              "2669     2016.00      3.00      1.00     13890      Poselenie Sosenskoe  \n",
              "2902     2016.00      4.00      1.00    116742                 Tverskoe  \n",
              "2914     1982.00       NaN       NaN     39873     Poselenie Shherbinka  \n",
              "3010     2013.00      1.00     14.00    108171           Zamoskvorech'e  \n",
              "3060     2000.00      5.00     57.00    142462               Mozhajskoe  \n",
              "3102     1982.00      3.00      1.00      7341     Poselenie Moskovskij  \n",
              "3109     2014.00      3.00      1.00    122862                Izmajlovo  \n",
              "3367     1982.00      3.00      1.00      6161      Poselenie Rogovskoe  \n",
              "3430     1936.00      7.00      9.00    116742                 Tverskoe  \n",
              "3435     2014.00      3.00      1.00    156377                 Strogino  \n",
              "3483     2016.00      3.00     10.00     13890      Poselenie Sosenskoe  \n",
              "3618     1982.00      4.00     20.00     57999              Presnenskoe  \n",
              "3643     2015.00      3.00      0.00     13890      Poselenie Sosenskoe  \n",
              "3644     2005.00      4.00      1.00     80791             Horoshevskoe  \n",
              "3751     2017.00      4.00      1.00     57999              Presnenskoe  "
            ],
            "text/html": [
              "<div>\n",
              "<style scoped>\n",
              "    .dataframe tbody tr th:only-of-type {\n",
              "        vertical-align: middle;\n",
              "    }\n",
              "\n",
              "    .dataframe tbody tr th {\n",
              "        vertical-align: top;\n",
              "    }\n",
              "\n",
              "    .dataframe thead th {\n",
              "        text-align: right;\n",
              "    }\n",
              "</style>\n",
              "<table border=\"1\" class=\"dataframe\">\n",
              "  <thead>\n",
              "    <tr style=\"text-align: right;\">\n",
              "      <th></th>\n",
              "      <th>id</th>\n",
              "      <th>timestamp</th>\n",
              "      <th>full_sq</th>\n",
              "      <th>life_sq</th>\n",
              "      <th>floor</th>\n",
              "      <th>state</th>\n",
              "      <th>max_floor</th>\n",
              "      <th>material</th>\n",
              "      <th>build_year</th>\n",
              "      <th>num_room</th>\n",
              "      <th>kitch_sq</th>\n",
              "      <th>full_all</th>\n",
              "      <th>sub_area</th>\n",
              "    </tr>\n",
              "  </thead>\n",
              "  <tbody>\n",
              "    <tr>\n",
              "      <th>58</th>\n",
              "      <td>15699</td>\n",
              "      <td>2014-03-04</td>\n",
              "      <td>131</td>\n",
              "      <td>118.00</td>\n",
              "      <td>10.00</td>\n",
              "      <td>1.00</td>\n",
              "      <td>39.00</td>\n",
              "      <td>4.00</td>\n",
              "      <td>2009.00</td>\n",
              "      <td>1.00</td>\n",
              "      <td>3.00</td>\n",
              "      <td>116742</td>\n",
              "      <td>Tverskoe</td>\n",
              "    </tr>\n",
              "    <tr>\n",
              "      <th>272</th>\n",
              "      <td>17713</td>\n",
              "      <td>2014-04-22</td>\n",
              "      <td>219</td>\n",
              "      <td>118.00</td>\n",
              "      <td>31.00</td>\n",
              "      <td>1.00</td>\n",
              "      <td>48.00</td>\n",
              "      <td>4.00</td>\n",
              "      <td>2010.00</td>\n",
              "      <td>3.00</td>\n",
              "      <td>4.00</td>\n",
              "      <td>102726</td>\n",
              "      <td>Jakimanka</td>\n",
              "    </tr>\n",
              "    <tr>\n",
              "      <th>363</th>\n",
              "      <td>28958</td>\n",
              "      <td>2015-04-07</td>\n",
              "      <td>195</td>\n",
              "      <td>119.00</td>\n",
              "      <td>1.00</td>\n",
              "      <td>1.00</td>\n",
              "      <td>2.00</td>\n",
              "      <td>4.00</td>\n",
              "      <td>2010.00</td>\n",
              "      <td>5.00</td>\n",
              "      <td>10.00</td>\n",
              "      <td>5740</td>\n",
              "      <td>Poselenie Pervomajskoe</td>\n",
              "    </tr>\n",
              "    <tr>\n",
              "      <th>908</th>\n",
              "      <td>29436</td>\n",
              "      <td>2015-04-27</td>\n",
              "      <td>103</td>\n",
              "      <td>103.00</td>\n",
              "      <td>15.00</td>\n",
              "      <td>1.00</td>\n",
              "      <td>25.00</td>\n",
              "      <td>6.00</td>\n",
              "      <td>1982.00</td>\n",
              "      <td>4.00</td>\n",
              "      <td>12.00</td>\n",
              "      <td>7341</td>\n",
              "      <td>Poselenie Moskovskij</td>\n",
              "    </tr>\n",
              "    <tr>\n",
              "      <th>968</th>\n",
              "      <td>27796</td>\n",
              "      <td>2015-02-09</td>\n",
              "      <td>407</td>\n",
              "      <td>407.00</td>\n",
              "      <td>4.00</td>\n",
              "      <td>1.00</td>\n",
              "      <td>4.00</td>\n",
              "      <td>4.00</td>\n",
              "      <td>2015.00</td>\n",
              "      <td>1.00</td>\n",
              "      <td>10.00</td>\n",
              "      <td>112804</td>\n",
              "      <td>Filevskij Park</td>\n",
              "    </tr>\n",
              "    <tr>\n",
              "      <th>1331</th>\n",
              "      <td>6002</td>\n",
              "      <td>2013-02-12</td>\n",
              "      <td>165</td>\n",
              "      <td>165.00</td>\n",
              "      <td>11.00</td>\n",
              "      <td>NaN</td>\n",
              "      <td>NaN</td>\n",
              "      <td>NaN</td>\n",
              "      <td>1982.00</td>\n",
              "      <td>NaN</td>\n",
              "      <td>NaN</td>\n",
              "      <td>90114</td>\n",
              "      <td>Teplyj Stan</td>\n",
              "    </tr>\n",
              "    <tr>\n",
              "      <th>1351</th>\n",
              "      <td>28700</td>\n",
              "      <td>2015-03-30</td>\n",
              "      <td>101</td>\n",
              "      <td>101.00</td>\n",
              "      <td>10.00</td>\n",
              "      <td>1.00</td>\n",
              "      <td>10.00</td>\n",
              "      <td>1.00</td>\n",
              "      <td>1982.00</td>\n",
              "      <td>3.00</td>\n",
              "      <td>1.00</td>\n",
              "      <td>13890</td>\n",
              "      <td>Poselenie Sosenskoe</td>\n",
              "    </tr>\n",
              "    <tr>\n",
              "      <th>1416</th>\n",
              "      <td>19931</td>\n",
              "      <td>2014-06-21</td>\n",
              "      <td>124</td>\n",
              "      <td>124.00</td>\n",
              "      <td>24.00</td>\n",
              "      <td>1.00</td>\n",
              "      <td>24.00</td>\n",
              "      <td>1.00</td>\n",
              "      <td>2015.00</td>\n",
              "      <td>3.00</td>\n",
              "      <td>19.00</td>\n",
              "      <td>81887</td>\n",
              "      <td>Hovrino</td>\n",
              "    </tr>\n",
              "    <tr>\n",
              "      <th>1438</th>\n",
              "      <td>24720</td>\n",
              "      <td>2014-11-13</td>\n",
              "      <td>141</td>\n",
              "      <td>141.00</td>\n",
              "      <td>3.00</td>\n",
              "      <td>1.00</td>\n",
              "      <td>3.00</td>\n",
              "      <td>4.00</td>\n",
              "      <td>2012.00</td>\n",
              "      <td>3.00</td>\n",
              "      <td>10.00</td>\n",
              "      <td>143661</td>\n",
              "      <td>Troickij okrug</td>\n",
              "    </tr>\n",
              "    <tr>\n",
              "      <th>1520</th>\n",
              "      <td>26869</td>\n",
              "      <td>2014-12-19</td>\n",
              "      <td>111</td>\n",
              "      <td>111.00</td>\n",
              "      <td>11.00</td>\n",
              "      <td>1.00</td>\n",
              "      <td>15.00</td>\n",
              "      <td>6.00</td>\n",
              "      <td>2016.00</td>\n",
              "      <td>3.00</td>\n",
              "      <td>17.00</td>\n",
              "      <td>7341</td>\n",
              "      <td>Poselenie Moskovskij</td>\n",
              "    </tr>\n",
              "    <tr>\n",
              "      <th>1627</th>\n",
              "      <td>25609</td>\n",
              "      <td>2014-12-01</td>\n",
              "      <td>101</td>\n",
              "      <td>101.00</td>\n",
              "      <td>2.00</td>\n",
              "      <td>NaN</td>\n",
              "      <td>17.00</td>\n",
              "      <td>1.00</td>\n",
              "      <td>2014.00</td>\n",
              "      <td>3.00</td>\n",
              "      <td>10.00</td>\n",
              "      <td>221709</td>\n",
              "      <td>Krjukovo</td>\n",
              "    </tr>\n",
              "    <tr>\n",
              "      <th>1643</th>\n",
              "      <td>10298</td>\n",
              "      <td>2013-09-05</td>\n",
              "      <td>133</td>\n",
              "      <td>124.00</td>\n",
              "      <td>8.00</td>\n",
              "      <td>1.00</td>\n",
              "      <td>25.00</td>\n",
              "      <td>2.00</td>\n",
              "      <td>2011.00</td>\n",
              "      <td>1.00</td>\n",
              "      <td>1.00</td>\n",
              "      <td>75377</td>\n",
              "      <td>Hamovniki</td>\n",
              "    </tr>\n",
              "    <tr>\n",
              "      <th>1669</th>\n",
              "      <td>17141</td>\n",
              "      <td>2014-04-08</td>\n",
              "      <td>172</td>\n",
              "      <td>172.00</td>\n",
              "      <td>10.00</td>\n",
              "      <td>1.00</td>\n",
              "      <td>12.00</td>\n",
              "      <td>2.00</td>\n",
              "      <td>1955.00</td>\n",
              "      <td>1.00</td>\n",
              "      <td>15.00</td>\n",
              "      <td>80791</td>\n",
              "      <td>Horoshevskoe</td>\n",
              "    </tr>\n",
              "    <tr>\n",
              "      <th>1746</th>\n",
              "      <td>13549</td>\n",
              "      <td>2013-12-30</td>\n",
              "      <td>79</td>\n",
              "      <td>7478.00</td>\n",
              "      <td>8.00</td>\n",
              "      <td>1.00</td>\n",
              "      <td>17.00</td>\n",
              "      <td>1.00</td>\n",
              "      <td>2014.00</td>\n",
              "      <td>3.00</td>\n",
              "      <td>1.00</td>\n",
              "      <td>9553</td>\n",
              "      <td>Poselenie Voskresenskoe</td>\n",
              "    </tr>\n",
              "    <tr>\n",
              "      <th>1886</th>\n",
              "      <td>30082</td>\n",
              "      <td>2015-06-02</td>\n",
              "      <td>150</td>\n",
              "      <td>108.00</td>\n",
              "      <td>8.00</td>\n",
              "      <td>2.00</td>\n",
              "      <td>24.00</td>\n",
              "      <td>4.00</td>\n",
              "      <td>2004.00</td>\n",
              "      <td>3.00</td>\n",
              "      <td>23.00</td>\n",
              "      <td>57999</td>\n",
              "      <td>Presnenskoe</td>\n",
              "    </tr>\n",
              "    <tr>\n",
              "      <th>2114</th>\n",
              "      <td>26641</td>\n",
              "      <td>2014-12-17</td>\n",
              "      <td>150</td>\n",
              "      <td>146.00</td>\n",
              "      <td>14.00</td>\n",
              "      <td>1.00</td>\n",
              "      <td>17.00</td>\n",
              "      <td>4.00</td>\n",
              "      <td>2017.00</td>\n",
              "      <td>4.00</td>\n",
              "      <td>1.00</td>\n",
              "      <td>57999</td>\n",
              "      <td>Presnenskoe</td>\n",
              "    </tr>\n",
              "    <tr>\n",
              "      <th>2174</th>\n",
              "      <td>20087</td>\n",
              "      <td>2014-06-25</td>\n",
              "      <td>112</td>\n",
              "      <td>112.00</td>\n",
              "      <td>7.00</td>\n",
              "      <td>1.00</td>\n",
              "      <td>9.00</td>\n",
              "      <td>4.00</td>\n",
              "      <td>2017.00</td>\n",
              "      <td>3.00</td>\n",
              "      <td>12.00</td>\n",
              "      <td>57999</td>\n",
              "      <td>Presnenskoe</td>\n",
              "    </tr>\n",
              "    <tr>\n",
              "      <th>2336</th>\n",
              "      <td>29520</td>\n",
              "      <td>2015-05-02</td>\n",
              "      <td>187</td>\n",
              "      <td>139.00</td>\n",
              "      <td>3.00</td>\n",
              "      <td>4.00</td>\n",
              "      <td>6.00</td>\n",
              "      <td>2.00</td>\n",
              "      <td>1982.00</td>\n",
              "      <td>8.00</td>\n",
              "      <td>13.00</td>\n",
              "      <td>75377</td>\n",
              "      <td>Hamovniki</td>\n",
              "    </tr>\n",
              "    <tr>\n",
              "      <th>2399</th>\n",
              "      <td>22668</td>\n",
              "      <td>2014-09-19</td>\n",
              "      <td>155</td>\n",
              "      <td>101.00</td>\n",
              "      <td>7.00</td>\n",
              "      <td>2.00</td>\n",
              "      <td>8.00</td>\n",
              "      <td>2.00</td>\n",
              "      <td>1906.00</td>\n",
              "      <td>5.00</td>\n",
              "      <td>12.00</td>\n",
              "      <td>55590</td>\n",
              "      <td>Krasnosel'skoe</td>\n",
              "    </tr>\n",
              "    <tr>\n",
              "      <th>2511</th>\n",
              "      <td>18081</td>\n",
              "      <td>2014-04-30</td>\n",
              "      <td>154</td>\n",
              "      <td>150.00</td>\n",
              "      <td>1.00</td>\n",
              "      <td>4.00</td>\n",
              "      <td>3.00</td>\n",
              "      <td>5.00</td>\n",
              "      <td>2004.00</td>\n",
              "      <td>3.00</td>\n",
              "      <td>1.00</td>\n",
              "      <td>13890</td>\n",
              "      <td>Poselenie Sosenskoe</td>\n",
              "    </tr>\n",
              "    <tr>\n",
              "      <th>2591</th>\n",
              "      <td>21924</td>\n",
              "      <td>2014-08-27</td>\n",
              "      <td>160</td>\n",
              "      <td>160.00</td>\n",
              "      <td>0.00</td>\n",
              "      <td>1.00</td>\n",
              "      <td>3.00</td>\n",
              "      <td>2.00</td>\n",
              "      <td>1982.00</td>\n",
              "      <td>3.00</td>\n",
              "      <td>0.00</td>\n",
              "      <td>116742</td>\n",
              "      <td>Tverskoe</td>\n",
              "    </tr>\n",
              "    <tr>\n",
              "      <th>2669</th>\n",
              "      <td>22554</td>\n",
              "      <td>2014-09-16</td>\n",
              "      <td>101</td>\n",
              "      <td>101.00</td>\n",
              "      <td>7.00</td>\n",
              "      <td>2.00</td>\n",
              "      <td>1.00</td>\n",
              "      <td>1.00</td>\n",
              "      <td>2016.00</td>\n",
              "      <td>3.00</td>\n",
              "      <td>1.00</td>\n",
              "      <td>13890</td>\n",
              "      <td>Poselenie Sosenskoe</td>\n",
              "    </tr>\n",
              "    <tr>\n",
              "      <th>2902</th>\n",
              "      <td>26590</td>\n",
              "      <td>2014-12-16</td>\n",
              "      <td>117</td>\n",
              "      <td>117.00</td>\n",
              "      <td>1.00</td>\n",
              "      <td>1.00</td>\n",
              "      <td>2.00</td>\n",
              "      <td>1.00</td>\n",
              "      <td>2016.00</td>\n",
              "      <td>4.00</td>\n",
              "      <td>1.00</td>\n",
              "      <td>116742</td>\n",
              "      <td>Tverskoe</td>\n",
              "    </tr>\n",
              "    <tr>\n",
              "      <th>2914</th>\n",
              "      <td>5505</td>\n",
              "      <td>2012-12-26</td>\n",
              "      <td>179</td>\n",
              "      <td>178.00</td>\n",
              "      <td>3.00</td>\n",
              "      <td>NaN</td>\n",
              "      <td>NaN</td>\n",
              "      <td>NaN</td>\n",
              "      <td>1982.00</td>\n",
              "      <td>NaN</td>\n",
              "      <td>NaN</td>\n",
              "      <td>39873</td>\n",
              "      <td>Poselenie Shherbinka</td>\n",
              "    </tr>\n",
              "    <tr>\n",
              "      <th>3010</th>\n",
              "      <td>18726</td>\n",
              "      <td>2014-05-21</td>\n",
              "      <td>143</td>\n",
              "      <td>117.00</td>\n",
              "      <td>3.00</td>\n",
              "      <td>1.00</td>\n",
              "      <td>14.00</td>\n",
              "      <td>6.00</td>\n",
              "      <td>2013.00</td>\n",
              "      <td>1.00</td>\n",
              "      <td>14.00</td>\n",
              "      <td>108171</td>\n",
              "      <td>Zamoskvorech'e</td>\n",
              "    </tr>\n",
              "    <tr>\n",
              "      <th>3060</th>\n",
              "      <td>19516</td>\n",
              "      <td>2014-06-09</td>\n",
              "      <td>206</td>\n",
              "      <td>134.00</td>\n",
              "      <td>6.00</td>\n",
              "      <td>4.00</td>\n",
              "      <td>25.00</td>\n",
              "      <td>4.00</td>\n",
              "      <td>2000.00</td>\n",
              "      <td>5.00</td>\n",
              "      <td>57.00</td>\n",
              "      <td>142462</td>\n",
              "      <td>Mozhajskoe</td>\n",
              "    </tr>\n",
              "    <tr>\n",
              "      <th>3102</th>\n",
              "      <td>27303</td>\n",
              "      <td>2015-01-15</td>\n",
              "      <td>102</td>\n",
              "      <td>102.00</td>\n",
              "      <td>12.00</td>\n",
              "      <td>1.00</td>\n",
              "      <td>25.00</td>\n",
              "      <td>1.00</td>\n",
              "      <td>1982.00</td>\n",
              "      <td>3.00</td>\n",
              "      <td>1.00</td>\n",
              "      <td>7341</td>\n",
              "      <td>Poselenie Moskovskij</td>\n",
              "    </tr>\n",
              "    <tr>\n",
              "      <th>3109</th>\n",
              "      <td>22449</td>\n",
              "      <td>2014-09-11</td>\n",
              "      <td>117</td>\n",
              "      <td>117.00</td>\n",
              "      <td>4.00</td>\n",
              "      <td>1.00</td>\n",
              "      <td>1.00</td>\n",
              "      <td>1.00</td>\n",
              "      <td>2014.00</td>\n",
              "      <td>3.00</td>\n",
              "      <td>1.00</td>\n",
              "      <td>122862</td>\n",
              "      <td>Izmajlovo</td>\n",
              "    </tr>\n",
              "    <tr>\n",
              "      <th>3367</th>\n",
              "      <td>26926</td>\n",
              "      <td>2014-12-20</td>\n",
              "      <td>134</td>\n",
              "      <td>134.00</td>\n",
              "      <td>2.00</td>\n",
              "      <td>1.00</td>\n",
              "      <td>2.00</td>\n",
              "      <td>1.00</td>\n",
              "      <td>1982.00</td>\n",
              "      <td>3.00</td>\n",
              "      <td>1.00</td>\n",
              "      <td>6161</td>\n",
              "      <td>Poselenie Rogovskoe</td>\n",
              "    </tr>\n",
              "    <tr>\n",
              "      <th>3430</th>\n",
              "      <td>18993</td>\n",
              "      <td>2014-05-28</td>\n",
              "      <td>145</td>\n",
              "      <td>109.00</td>\n",
              "      <td>5.00</td>\n",
              "      <td>3.00</td>\n",
              "      <td>6.00</td>\n",
              "      <td>2.00</td>\n",
              "      <td>1936.00</td>\n",
              "      <td>7.00</td>\n",
              "      <td>9.00</td>\n",
              "      <td>116742</td>\n",
              "      <td>Tverskoe</td>\n",
              "    </tr>\n",
              "    <tr>\n",
              "      <th>3435</th>\n",
              "      <td>23405</td>\n",
              "      <td>2014-10-09</td>\n",
              "      <td>102</td>\n",
              "      <td>102.00</td>\n",
              "      <td>21.00</td>\n",
              "      <td>1.00</td>\n",
              "      <td>1.00</td>\n",
              "      <td>4.00</td>\n",
              "      <td>2014.00</td>\n",
              "      <td>3.00</td>\n",
              "      <td>1.00</td>\n",
              "      <td>156377</td>\n",
              "      <td>Strogino</td>\n",
              "    </tr>\n",
              "    <tr>\n",
              "      <th>3483</th>\n",
              "      <td>25373</td>\n",
              "      <td>2014-11-26</td>\n",
              "      <td>112</td>\n",
              "      <td>112.00</td>\n",
              "      <td>3.00</td>\n",
              "      <td>3.00</td>\n",
              "      <td>3.00</td>\n",
              "      <td>5.00</td>\n",
              "      <td>2016.00</td>\n",
              "      <td>3.00</td>\n",
              "      <td>10.00</td>\n",
              "      <td>13890</td>\n",
              "      <td>Poselenie Sosenskoe</td>\n",
              "    </tr>\n",
              "    <tr>\n",
              "      <th>3618</th>\n",
              "      <td>25307</td>\n",
              "      <td>2014-11-25</td>\n",
              "      <td>160</td>\n",
              "      <td>155.00</td>\n",
              "      <td>3.00</td>\n",
              "      <td>1.00</td>\n",
              "      <td>17.00</td>\n",
              "      <td>4.00</td>\n",
              "      <td>1982.00</td>\n",
              "      <td>4.00</td>\n",
              "      <td>20.00</td>\n",
              "      <td>57999</td>\n",
              "      <td>Presnenskoe</td>\n",
              "    </tr>\n",
              "    <tr>\n",
              "      <th>3643</th>\n",
              "      <td>27576</td>\n",
              "      <td>2015-01-28</td>\n",
              "      <td>103</td>\n",
              "      <td>103.00</td>\n",
              "      <td>5.00</td>\n",
              "      <td>1.00</td>\n",
              "      <td>17.00</td>\n",
              "      <td>1.00</td>\n",
              "      <td>2015.00</td>\n",
              "      <td>3.00</td>\n",
              "      <td>0.00</td>\n",
              "      <td>13890</td>\n",
              "      <td>Poselenie Sosenskoe</td>\n",
              "    </tr>\n",
              "    <tr>\n",
              "      <th>3644</th>\n",
              "      <td>22026</td>\n",
              "      <td>2014-08-29</td>\n",
              "      <td>146</td>\n",
              "      <td>102.00</td>\n",
              "      <td>4.00</td>\n",
              "      <td>4.00</td>\n",
              "      <td>12.00</td>\n",
              "      <td>4.00</td>\n",
              "      <td>2005.00</td>\n",
              "      <td>4.00</td>\n",
              "      <td>1.00</td>\n",
              "      <td>80791</td>\n",
              "      <td>Horoshevskoe</td>\n",
              "    </tr>\n",
              "    <tr>\n",
              "      <th>3751</th>\n",
              "      <td>26658</td>\n",
              "      <td>2014-12-17</td>\n",
              "      <td>150</td>\n",
              "      <td>146.00</td>\n",
              "      <td>13.00</td>\n",
              "      <td>1.00</td>\n",
              "      <td>17.00</td>\n",
              "      <td>4.00</td>\n",
              "      <td>2017.00</td>\n",
              "      <td>4.00</td>\n",
              "      <td>1.00</td>\n",
              "      <td>57999</td>\n",
              "      <td>Presnenskoe</td>\n",
              "    </tr>\n",
              "  </tbody>\n",
              "</table>\n",
              "</div>"
            ]
          },
          "metadata": {},
          "execution_count": 28
        }
      ]
    },
    {
      "cell_type": "markdown",
      "source": [
        "Нашелся один такой выброс с life_sq 7478.00, очевидно опечатка, просто поделим это значение на 100, учитывая full_sq 78"
      ],
      "metadata": {
        "id": "azz7TnkWjern"
      }
    },
    {
      "cell_type": "code",
      "source": [
        "test.life_sq = test.life_sq.replace([7478.00], 7478.00/100)"
      ],
      "metadata": {
        "id": "Fb2ciNOqkYW_"
      },
      "execution_count": 29,
      "outputs": []
    },
    {
      "cell_type": "code",
      "source": [
        "test.iloc[1746].life_sq"
      ],
      "metadata": {
        "colab": {
          "base_uri": "https://localhost:8080/"
        },
        "id": "08nDIF36i8L0",
        "outputId": "49c40c92-21a0-4ada-c24e-83fbc592a8fc"
      },
      "execution_count": 30,
      "outputs": [
        {
          "output_type": "execute_result",
          "data": {
            "text/plain": [
              "74.78"
            ]
          },
          "metadata": {},
          "execution_count": 30
        }
      ]
    },
    {
      "cell_type": "code",
      "source": [
        "test.life_sq.hist()  ## Визуализация после работы над выбросами"
      ],
      "metadata": {
        "colab": {
          "base_uri": "https://localhost:8080/",
          "height": 0
        },
        "id": "jTLslHwmksy2",
        "outputId": "aef418ca-f2ac-4359-9fa0-f5d0ca391d5d"
      },
      "execution_count": 31,
      "outputs": [
        {
          "output_type": "execute_result",
          "data": {
            "text/plain": [
              "<AxesSubplot:>"
            ]
          },
          "metadata": {},
          "execution_count": 31
        },
        {
          "output_type": "display_data",
          "data": {
            "text/plain": [
              "<Figure size 640x480 with 1 Axes>"
            ],
            "image/png": "[encoded data removed]"
          },
          "metadata": {}
        }
      ]
    },
    {
      "cell_type": "code",
      "source": [
        "test.life_sq.fillna(test.full_sq * 0.8,inplace=True)\n",
        "test.life_sq.isnull().value_counts()"
      ],
      "metadata": {
        "colab": {
          "base_uri": "https://localhost:8080/"
        },
        "id": "RriWX82Vk4LG",
        "outputId": "e2c14a8f-4fc1-4296-8166-e28f20e6e00a"
      },
      "execution_count": 32,
      "outputs": [
        {
          "output_type": "execute_result",
          "data": {
            "text/plain": [
              "False    3774\n",
              "Name: life_sq, dtype: int64"
            ]
          },
          "metadata": {},
          "execution_count": 32
        }
      ]
    },
    {
      "cell_type": "markdown",
      "source": [
        "### floor"
      ],
      "metadata": {
        "id": "UxdTAj_WkzyF"
      }
    },
    {
      "cell_type": "markdown",
      "source": [
        "train"
      ],
      "metadata": {
        "id": "QNHKwDsutjt7"
      }
    },
    {
      "cell_type": "code",
      "source": [
        "train.floor.unique() #Проверяем всевозможные значения в колонке floor"
      ],
      "metadata": {
        "colab": {
          "base_uri": "https://localhost:8080/"
        },
        "id": "oE93p67klDZ8",
        "outputId": "962505de-b764-4946-e04c-3894b55e09f5"
      },
      "execution_count": 33,
      "outputs": [
        {
          "output_type": "execute_result",
          "data": {
            "text/plain": [
              "array([ 8.,  4., 15., 19.,  1.,  7.,  6.,  5.,  9., 10., 11., 12.,  3.,\n",
              "       16., 13., 20., 22.,  2., 14., 18., 23., 17., 37., 26., 24., nan,\n",
              "       25., 21., 27., 34., 28., 77., 41., 32., 31., 33.,  0., 36., 30.,\n",
              "       44.])"
            ]
          },
          "metadata": {},
          "execution_count": 33
        }
      ]
    },
    {
      "cell_type": "code",
      "source": [
        "train[train.floor == 44]"
      ],
      "metadata": {
        "colab": {
          "base_uri": "https://localhost:8080/",
          "height": 0
        },
        "id": "y1aXFfUNlDXn",
        "outputId": "065483ff-d267-4d9d-fe87-13034067acbb"
      },
      "execution_count": 34,
      "outputs": [
        {
          "output_type": "execute_result",
          "data": {
            "text/plain": [
              "          id  timestamp  full_sq  life_sq  floor  state  max_floor  material  \\\n",
              "13138  30314 2015-06-18       65    39.00  44.00   4.00      48.00      4.00   \n",
              "\n",
              "       build_year  num_room  kitch_sq  full_all   sub_area  price_doc  \n",
              "13138     2000.00      2.00      5.00    102726  Jakimanka    8857680  "
            ],
            "text/html": [
              "<div>\n",
              "<style scoped>\n",
              "    .dataframe tbody tr th:only-of-type {\n",
              "        vertical-align: middle;\n",
              "    }\n",
              "\n",
              "    .dataframe tbody tr th {\n",
              "        vertical-align: top;\n",
              "    }\n",
              "\n",
              "    .dataframe thead th {\n",
              "        text-align: right;\n",
              "    }\n",
              "</style>\n",
              "<table border=\"1\" class=\"dataframe\">\n",
              "  <thead>\n",
              "    <tr style=\"text-align: right;\">\n",
              "      <th></th>\n",
              "      <th>id</th>\n",
              "      <th>timestamp</th>\n",
              "      <th>full_sq</th>\n",
              "      <th>life_sq</th>\n",
              "      <th>floor</th>\n",
              "      <th>state</th>\n",
              "      <th>max_floor</th>\n",
              "      <th>material</th>\n",
              "      <th>build_year</th>\n",
              "      <th>num_room</th>\n",
              "      <th>kitch_sq</th>\n",
              "      <th>full_all</th>\n",
              "      <th>sub_area</th>\n",
              "      <th>price_doc</th>\n",
              "    </tr>\n",
              "  </thead>\n",
              "  <tbody>\n",
              "    <tr>\n",
              "      <th>13138</th>\n",
              "      <td>30314</td>\n",
              "      <td>2015-06-18</td>\n",
              "      <td>65</td>\n",
              "      <td>39.00</td>\n",
              "      <td>44.00</td>\n",
              "      <td>4.00</td>\n",
              "      <td>48.00</td>\n",
              "      <td>4.00</td>\n",
              "      <td>2000.00</td>\n",
              "      <td>2.00</td>\n",
              "      <td>5.00</td>\n",
              "      <td>102726</td>\n",
              "      <td>Jakimanka</td>\n",
              "      <td>8857680</td>\n",
              "    </tr>\n",
              "  </tbody>\n",
              "</table>\n",
              "</div>"
            ]
          },
          "metadata": {},
          "execution_count": 34
        }
      ]
    },
    {
      "cell_type": "markdown",
      "source": [
        "Учитывая Max_floor не похоже, чтобы это значение было выбросом"
      ],
      "metadata": {
        "id": "WNK1QCN4sylm"
      }
    },
    {
      "cell_type": "code",
      "source": [
        "train.floor.median()"
      ],
      "metadata": {
        "colab": {
          "base_uri": "https://localhost:8080/"
        },
        "id": "NRJ9qzyXtFpf",
        "outputId": "a5bc97c9-10a1-43d0-a20f-5452ea484e91"
      },
      "execution_count": 35,
      "outputs": [
        {
          "output_type": "execute_result",
          "data": {
            "text/plain": [
              "6.0"
            ]
          },
          "metadata": {},
          "execution_count": 35
        }
      ]
    },
    {
      "cell_type": "code",
      "source": [
        "train.floor.fillna(train.floor.median(),inplace=True)"
      ],
      "metadata": {
        "id": "zJU7HQM0lDVA"
      },
      "execution_count": 36,
      "outputs": []
    },
    {
      "cell_type": "markdown",
      "source": [
        "test"
      ],
      "metadata": {
        "id": "rLz6uBM6tk1Y"
      }
    },
    {
      "cell_type": "code",
      "source": [
        "test.floor.fillna(test.floor.median(),inplace=True)"
      ],
      "metadata": {
        "id": "ExhiyE0UlDSb"
      },
      "execution_count": 37,
      "outputs": []
    },
    {
      "cell_type": "markdown",
      "source": [
        "### state\n"
      ],
      "metadata": {
        "id": "wqX9VS8lta0c"
      }
    },
    {
      "cell_type": "markdown",
      "source": [
        "train"
      ],
      "metadata": {
        "id": "GBqOK_gWthul"
      }
    },
    {
      "cell_type": "code",
      "source": [
        "train.state.unique()"
      ],
      "metadata": {
        "colab": {
          "base_uri": "https://localhost:8080/"
        },
        "id": "ea35TNAutcjV",
        "outputId": "42933e73-abaf-4735-dc31-dbda0d38b5eb"
      },
      "execution_count": 38,
      "outputs": [
        {
          "output_type": "execute_result",
          "data": {
            "text/plain": [
              "array([ 2.,  3., nan,  1.,  4., 33.])"
            ]
          },
          "metadata": {},
          "execution_count": 38
        }
      ]
    },
    {
      "cell_type": "code",
      "source": [
        "train.state.hist()"
      ],
      "metadata": {
        "colab": {
          "base_uri": "https://localhost:8080/",
          "height": 0
        },
        "id": "vnQ_Uwkbtcgt",
        "outputId": "d06317bb-6514-45ba-9423-79d21a40f29f"
      },
      "execution_count": 39,
      "outputs": [
        {
          "output_type": "execute_result",
          "data": {
            "text/plain": [
              "<AxesSubplot:>"
            ]
          },
          "metadata": {},
          "execution_count": 39
        },
        {
          "output_type": "display_data",
          "data": {
            "text/plain": [
              "<Figure size 640x480 with 1 Axes>"
            ],
            "image/png": "[encoded data removed]"
          },
          "metadata": {}
        }
      ]
    },
    {
      "cell_type": "markdown",
      "source": [
        "Выбросы очевидны"
      ],
      "metadata": {
        "id": "9zXHzE1gtsdJ"
      }
    },
    {
      "cell_type": "code",
      "source": [
        "train.state.mode(), train.state.median() "
      ],
      "metadata": {
        "colab": {
          "base_uri": "https://localhost:8080/"
        },
        "id": "zYqrqiNQ1elc",
        "outputId": "cc7a55ce-8498-4892-e001-91763bd56aaf"
      },
      "execution_count": 40,
      "outputs": [
        {
          "output_type": "execute_result",
          "data": {
            "text/plain": [
              "(0   2.00\n",
              " Name: state, dtype: float64,\n",
              " 2.0)"
            ]
          },
          "metadata": {},
          "execution_count": 40
        }
      ]
    },
    {
      "cell_type": "markdown",
      "source": [
        "не прогадаем если заполним nan-ы на 2.0"
      ],
      "metadata": {
        "id": "ycgSXzLQ1pCr"
      }
    },
    {
      "cell_type": "code",
      "source": [
        "train.state = train.state.replace([33.00], 2.0)"
      ],
      "metadata": {
        "id": "15Z9FUGt1-JH"
      },
      "execution_count": 41,
      "outputs": []
    },
    {
      "cell_type": "code",
      "source": [
        "train.state.fillna(2.0,inplace=True)"
      ],
      "metadata": {
        "id": "fNmGpmBi2M3K"
      },
      "execution_count": 42,
      "outputs": []
    },
    {
      "cell_type": "markdown",
      "source": [
        "test"
      ],
      "metadata": {
        "id": "IesEZsQ32SZ1"
      }
    },
    {
      "cell_type": "code",
      "source": [
        "test.state.unique()"
      ],
      "metadata": {
        "colab": {
          "base_uri": "https://localhost:8080/"
        },
        "id": "KYqAawjk2Tbe",
        "outputId": "0a307857-a612-4780-8d2b-73e4801416bc"
      },
      "execution_count": 43,
      "outputs": [
        {
          "output_type": "execute_result",
          "data": {
            "text/plain": [
              "array([nan,  3.,  1.,  2.,  4.])"
            ]
          },
          "metadata": {},
          "execution_count": 43
        }
      ]
    },
    {
      "cell_type": "code",
      "source": [
        "test.state.mode(), test.state.median() "
      ],
      "metadata": {
        "colab": {
          "base_uri": "https://localhost:8080/"
        },
        "id": "_oexZ_So2XrC",
        "outputId": "d751114a-9627-4e6d-a4cf-ba894cede9a5"
      },
      "execution_count": 44,
      "outputs": [
        {
          "output_type": "execute_result",
          "data": {
            "text/plain": [
              "(0   3.00\n",
              " Name: state, dtype: float64,\n",
              " 2.0)"
            ]
          },
          "metadata": {},
          "execution_count": 44
        }
      ]
    },
    {
      "cell_type": "markdown",
      "source": [
        "Категориальные пропуски принято заполнять модой"
      ],
      "metadata": {
        "id": "wb9uCdnJ2eKQ"
      }
    },
    {
      "cell_type": "code",
      "source": [
        "test.state.fillna(3.0,inplace=True)"
      ],
      "metadata": {
        "id": "WLxvghpX2vEj"
      },
      "execution_count": 45,
      "outputs": []
    },
    {
      "cell_type": "markdown",
      "source": [
        "### max_floor"
      ],
      "metadata": {
        "id": "hKs5dR0q22Lk"
      }
    },
    {
      "cell_type": "markdown",
      "source": [
        "train"
      ],
      "metadata": {
        "id": "JSuLcNWW4Hwq"
      }
    },
    {
      "cell_type": "code",
      "source": [
        "train.max_floor.unique()"
      ],
      "metadata": {
        "colab": {
          "base_uri": "https://localhost:8080/"
        },
        "id": "4r3Q6oI923z4",
        "outputId": "23523a05-af76-43bc-9108-f5843ce1a4d3"
      },
      "execution_count": 46,
      "outputs": [
        {
          "output_type": "execute_result",
          "data": {
            "text/plain": [
              "array([ 9.,  5., 22., 24., 23., 17., 16.,  6., 14., 12., 20., nan, 27.,\n",
              "        0., 13., 25., 40., 18., 10.,  1.,  8.,  2., 19.,  4.,  3., 15.,\n",
              "       38., 30., 21.,  7., 36., 29., 26., 32., 11., 28., 37., 39., 34.,\n",
              "       48., 47., 41., 57., 42., 33., 31.])"
            ]
          },
          "metadata": {},
          "execution_count": 46
        }
      ]
    },
    {
      "cell_type": "code",
      "source": [
        "train[train.max_floor > 40]"
      ],
      "metadata": {
        "colab": {
          "base_uri": "https://localhost:8080/",
          "height": 0
        },
        "id": "Df52koPd23xs",
        "outputId": "4a543e00-b69b-46ea-d245-5358a03d1048"
      },
      "execution_count": 47,
      "outputs": [
        {
          "output_type": "execute_result",
          "data": {
            "text/plain": [
              "          id  timestamp  full_sq  life_sq  floor  state  max_floor  material  \\\n",
              "4073   21609 2014-08-18       74    38.00  41.00   3.00      48.00      4.00   \n",
              "4308   15108 2014-02-17      126   103.00  20.00   1.00      47.00      4.00   \n",
              "4317   29712 2015-05-14      116    98.00  11.00   1.00      41.00      4.00   \n",
              "8422   26668 2014-12-17      126    98.00  31.00   1.00      48.00      6.00   \n",
              "9552   24023 2014-10-28      135    59.00   9.00   4.00      57.00      4.00   \n",
              "11290  19420 2014-06-06       71    38.00  36.00   3.00      48.00      4.00   \n",
              "11691  18865 2014-05-26       94    79.00  18.00   1.00      42.00      4.00   \n",
              "13138  30314 2015-06-18       65    39.00  44.00   4.00      48.00      4.00   \n",
              "13675  20490 2014-07-01      125    74.00  34.00   1.00      48.00      4.00   \n",
              "\n",
              "       build_year  num_room  kitch_sq  full_all            sub_area  price_doc  \n",
              "4073      2013.00      2.00      5.00    102726           Jakimanka   14500000  \n",
              "4308      2012.00      1.00     14.00     61039             Ramenki   16000000  \n",
              "4317      2011.00      1.00      8.00    116742            Tverskoe    3700000  \n",
              "8422      2003.00      1.00     17.00    166803            Shhukino   41500000  \n",
              "9552      2007.00      3.00     22.00     80791        Horoshevskoe   56500000  \n",
              "11290     2010.00      2.00      5.00    102726           Jakimanka   18700000  \n",
              "11691     2010.00      1.00      4.00    116742            Tverskoe    5588313  \n",
              "13138     2000.00      2.00      5.00    102726           Jakimanka    8857680  \n",
              "13675     2011.00      3.00     17.00    155427  Horoshevo-Mnevniki   16200000  "
            ],
            "text/html": [
              "<div>\n",
              "<style scoped>\n",
              "    .dataframe tbody tr th:only-of-type {\n",
              "        vertical-align: middle;\n",
              "    }\n",
              "\n",
              "    .dataframe tbody tr th {\n",
              "        vertical-align: top;\n",
              "    }\n",
              "\n",
              "    .dataframe thead th {\n",
              "        text-align: right;\n",
              "    }\n",
              "</style>\n",
              "<table border=\"1\" class=\"dataframe\">\n",
              "  <thead>\n",
              "    <tr style=\"text-align: right;\">\n",
              "      <th></th>\n",
              "      <th>id</th>\n",
              "      <th>timestamp</th>\n",
              "      <th>full_sq</th>\n",
              "      <th>life_sq</th>\n",
              "      <th>floor</th>\n",
              "      <th>state</th>\n",
              "      <th>max_floor</th>\n",
              "      <th>material</th>\n",
              "      <th>build_year</th>\n",
              "      <th>num_room</th>\n",
              "      <th>kitch_sq</th>\n",
              "      <th>full_all</th>\n",
              "      <th>sub_area</th>\n",
              "      <th>price_doc</th>\n",
              "    </tr>\n",
              "  </thead>\n",
              "  <tbody>\n",
              "    <tr>\n",
              "      <th>4073</th>\n",
              "      <td>21609</td>\n",
              "      <td>2014-08-18</td>\n",
              "      <td>74</td>\n",
              "      <td>38.00</td>\n",
              "      <td>41.00</td>\n",
              "      <td>3.00</td>\n",
              "      <td>48.00</td>\n",
              "      <td>4.00</td>\n",
              "      <td>2013.00</td>\n",
              "      <td>2.00</td>\n",
              "      <td>5.00</td>\n",
              "      <td>102726</td>\n",
              "      <td>Jakimanka</td>\n",
              "      <td>14500000</td>\n",
              "    </tr>\n",
              "    <tr>\n",
              "      <th>4308</th>\n",
              "      <td>15108</td>\n",
              "      <td>2014-02-17</td>\n",
              "      <td>126</td>\n",
              "      <td>103.00</td>\n",
              "      <td>20.00</td>\n",
              "      <td>1.00</td>\n",
              "      <td>47.00</td>\n",
              "      <td>4.00</td>\n",
              "      <td>2012.00</td>\n",
              "      <td>1.00</td>\n",
              "      <td>14.00</td>\n",
              "      <td>61039</td>\n",
              "      <td>Ramenki</td>\n",
              "      <td>16000000</td>\n",
              "    </tr>\n",
              "    <tr>\n",
              "      <th>4317</th>\n",
              "      <td>29712</td>\n",
              "      <td>2015-05-14</td>\n",
              "      <td>116</td>\n",
              "      <td>98.00</td>\n",
              "      <td>11.00</td>\n",
              "      <td>1.00</td>\n",
              "      <td>41.00</td>\n",
              "      <td>4.00</td>\n",
              "      <td>2011.00</td>\n",
              "      <td>1.00</td>\n",
              "      <td>8.00</td>\n",
              "      <td>116742</td>\n",
              "      <td>Tverskoe</td>\n",
              "      <td>3700000</td>\n",
              "    </tr>\n",
              "    <tr>\n",
              "      <th>8422</th>\n",
              "      <td>26668</td>\n",
              "      <td>2014-12-17</td>\n",
              "      <td>126</td>\n",
              "      <td>98.00</td>\n",
              "      <td>31.00</td>\n",
              "      <td>1.00</td>\n",
              "      <td>48.00</td>\n",
              "      <td>6.00</td>\n",
              "      <td>2003.00</td>\n",
              "      <td>1.00</td>\n",
              "      <td>17.00</td>\n",
              "      <td>166803</td>\n",
              "      <td>Shhukino</td>\n",
              "      <td>41500000</td>\n",
              "    </tr>\n",
              "    <tr>\n",
              "      <th>9552</th>\n",
              "      <td>24023</td>\n",
              "      <td>2014-10-28</td>\n",
              "      <td>135</td>\n",
              "      <td>59.00</td>\n",
              "      <td>9.00</td>\n",
              "      <td>4.00</td>\n",
              "      <td>57.00</td>\n",
              "      <td>4.00</td>\n",
              "      <td>2007.00</td>\n",
              "      <td>3.00</td>\n",
              "      <td>22.00</td>\n",
              "      <td>80791</td>\n",
              "      <td>Horoshevskoe</td>\n",
              "      <td>56500000</td>\n",
              "    </tr>\n",
              "    <tr>\n",
              "      <th>11290</th>\n",
              "      <td>19420</td>\n",
              "      <td>2014-06-06</td>\n",
              "      <td>71</td>\n",
              "      <td>38.00</td>\n",
              "      <td>36.00</td>\n",
              "      <td>3.00</td>\n",
              "      <td>48.00</td>\n",
              "      <td>4.00</td>\n",
              "      <td>2010.00</td>\n",
              "      <td>2.00</td>\n",
              "      <td>5.00</td>\n",
              "      <td>102726</td>\n",
              "      <td>Jakimanka</td>\n",
              "      <td>18700000</td>\n",
              "    </tr>\n",
              "    <tr>\n",
              "      <th>11691</th>\n",
              "      <td>18865</td>\n",
              "      <td>2014-05-26</td>\n",
              "      <td>94</td>\n",
              "      <td>79.00</td>\n",
              "      <td>18.00</td>\n",
              "      <td>1.00</td>\n",
              "      <td>42.00</td>\n",
              "      <td>4.00</td>\n",
              "      <td>2010.00</td>\n",
              "      <td>1.00</td>\n",
              "      <td>4.00</td>\n",
              "      <td>116742</td>\n",
              "      <td>Tverskoe</td>\n",
              "      <td>5588313</td>\n",
              "    </tr>\n",
              "    <tr>\n",
              "      <th>13138</th>\n",
              "      <td>30314</td>\n",
              "      <td>2015-06-18</td>\n",
              "      <td>65</td>\n",
              "      <td>39.00</td>\n",
              "      <td>44.00</td>\n",
              "      <td>4.00</td>\n",
              "      <td>48.00</td>\n",
              "      <td>4.00</td>\n",
              "      <td>2000.00</td>\n",
              "      <td>2.00</td>\n",
              "      <td>5.00</td>\n",
              "      <td>102726</td>\n",
              "      <td>Jakimanka</td>\n",
              "      <td>8857680</td>\n",
              "    </tr>\n",
              "    <tr>\n",
              "      <th>13675</th>\n",
              "      <td>20490</td>\n",
              "      <td>2014-07-01</td>\n",
              "      <td>125</td>\n",
              "      <td>74.00</td>\n",
              "      <td>34.00</td>\n",
              "      <td>1.00</td>\n",
              "      <td>48.00</td>\n",
              "      <td>4.00</td>\n",
              "      <td>2011.00</td>\n",
              "      <td>3.00</td>\n",
              "      <td>17.00</td>\n",
              "      <td>155427</td>\n",
              "      <td>Horoshevo-Mnevniki</td>\n",
              "      <td>16200000</td>\n",
              "    </tr>\n",
              "  </tbody>\n",
              "</table>\n",
              "</div>"
            ]
          },
          "metadata": {},
          "execution_count": 47
        }
      ]
    },
    {
      "cell_type": "markdown",
      "source": [
        "Не похоже на выбросы"
      ],
      "metadata": {
        "id": "pLLGQFTX3bDF"
      }
    },
    {
      "cell_type": "code",
      "source": [
        "train.max_floor.median()"
      ],
      "metadata": {
        "colab": {
          "base_uri": "https://localhost:8080/"
        },
        "id": "kj84R2t33mA9",
        "outputId": "7f6a0b54-ed8c-4381-bd15-f6be05108090"
      },
      "execution_count": 48,
      "outputs": [
        {
          "output_type": "execute_result",
          "data": {
            "text/plain": [
              "12.0"
            ]
          },
          "metadata": {},
          "execution_count": 48
        }
      ]
    },
    {
      "cell_type": "markdown",
      "source": [
        "Заполним пропуски медианным значением"
      ],
      "metadata": {
        "id": "v-jxUYa53y9-"
      }
    },
    {
      "cell_type": "code",
      "source": [
        "train.max_floor.fillna(train.max_floor.median(),inplace=True)"
      ],
      "metadata": {
        "id": "ctAoPVky31cK"
      },
      "execution_count": 49,
      "outputs": []
    },
    {
      "cell_type": "markdown",
      "source": [
        "test"
      ],
      "metadata": {
        "id": "kig-WDEl4JkP"
      }
    },
    {
      "cell_type": "code",
      "source": [
        "test.max_floor.median()"
      ],
      "metadata": {
        "colab": {
          "base_uri": "https://localhost:8080/"
        },
        "id": "Qm4OUWIy4LAU",
        "outputId": "7a8dd51e-4187-439f-b5fb-04cf6ef033b5"
      },
      "execution_count": 50,
      "outputs": [
        {
          "output_type": "execute_result",
          "data": {
            "text/plain": [
              "12.0"
            ]
          },
          "metadata": {},
          "execution_count": 50
        }
      ]
    },
    {
      "cell_type": "code",
      "source": [
        "test.max_floor.fillna(test.max_floor.median(),inplace=True)"
      ],
      "metadata": {
        "id": "77MIG4sY4Sh5"
      },
      "execution_count": 51,
      "outputs": []
    },
    {
      "cell_type": "markdown",
      "source": [
        "### material"
      ],
      "metadata": {
        "id": "xwLZDU4l4WZV"
      }
    },
    {
      "cell_type": "markdown",
      "source": [
        "train"
      ],
      "metadata": {
        "id": "0xCtfNT64bQJ"
      }
    },
    {
      "cell_type": "code",
      "source": [
        "train.material.unique()"
      ],
      "metadata": {
        "colab": {
          "base_uri": "https://localhost:8080/"
        },
        "id": "QG7l4aMP4X4T",
        "outputId": "f15bedc8-6f5d-4a97-929c-1298b583fbb8"
      },
      "execution_count": 52,
      "outputs": [
        {
          "output_type": "execute_result",
          "data": {
            "text/plain": [
              "array([ 1.,  2.,  6.,  4.,  5., nan,  3.])"
            ]
          },
          "metadata": {},
          "execution_count": 52
        }
      ]
    },
    {
      "cell_type": "code",
      "source": [
        "train.material.mode()"
      ],
      "metadata": {
        "colab": {
          "base_uri": "https://localhost:8080/"
        },
        "id": "7Ycu1xjw4ixi",
        "outputId": "a15d53ce-33fa-423a-d671-a184dfab7ef0"
      },
      "execution_count": 53,
      "outputs": [
        {
          "output_type": "execute_result",
          "data": {
            "text/plain": [
              "0   1.00\n",
              "Name: material, dtype: float64"
            ]
          },
          "metadata": {},
          "execution_count": 53
        }
      ]
    },
    {
      "cell_type": "code",
      "source": [
        "train.material.fillna(1.00,inplace=True)"
      ],
      "metadata": {
        "id": "RxoHHyLJ4sq8"
      },
      "execution_count": 54,
      "outputs": []
    },
    {
      "cell_type": "markdown",
      "source": [
        "test"
      ],
      "metadata": {
        "id": "8LIi65dQ4xZ6"
      }
    },
    {
      "cell_type": "code",
      "source": [
        "test.material.unique()"
      ],
      "metadata": {
        "colab": {
          "base_uri": "https://localhost:8080/"
        },
        "id": "Ro3mtuqY4yKe",
        "outputId": "b59cbb16-1297-4b5e-e70d-71ad39b27b4c"
      },
      "execution_count": 55,
      "outputs": [
        {
          "output_type": "execute_result",
          "data": {
            "text/plain": [
              "array([nan,  1.,  5.,  2.,  4.,  6.])"
            ]
          },
          "metadata": {},
          "execution_count": 55
        }
      ]
    },
    {
      "cell_type": "code",
      "source": [
        "test.material.mode()"
      ],
      "metadata": {
        "colab": {
          "base_uri": "https://localhost:8080/"
        },
        "id": "j6IP8sMH40rn",
        "outputId": "84a9eeaa-4bef-4348-8dee-962198a1200c"
      },
      "execution_count": 56,
      "outputs": [
        {
          "output_type": "execute_result",
          "data": {
            "text/plain": [
              "0   1.00\n",
              "Name: material, dtype: float64"
            ]
          },
          "metadata": {},
          "execution_count": 56
        }
      ]
    },
    {
      "cell_type": "code",
      "source": [
        "test.material.fillna(1.00,inplace=True)"
      ],
      "metadata": {
        "id": "i9akSk7d42jE"
      },
      "execution_count": 57,
      "outputs": []
    },
    {
      "cell_type": "markdown",
      "source": [
        "### num_rum"
      ],
      "metadata": {
        "id": "7iGwktRl5frp"
      }
    },
    {
      "cell_type": "markdown",
      "source": [
        "train"
      ],
      "metadata": {
        "id": "LEJ7N-Dy5k7B"
      }
    },
    {
      "cell_type": "code",
      "source": [
        "train.num_room.unique()"
      ],
      "metadata": {
        "colab": {
          "base_uri": "https://localhost:8080/"
        },
        "id": "mDDWeQ8n5mEO",
        "outputId": "2c4c5175-6f48-4221-cdb2-d1f0fa7f543e"
      },
      "execution_count": 58,
      "outputs": [
        {
          "output_type": "execute_result",
          "data": {
            "text/plain": [
              "array([ 2.,  3.,  1., nan,  4., 10.,  6.,  5.,  0., 17., 19.,  9.,  8.])"
            ]
          },
          "metadata": {},
          "execution_count": 58
        }
      ]
    },
    {
      "cell_type": "markdown",
      "source": [
        "Средняя площадь комнаты в мск - 17.3 кв.м., применим это значение для замены в выбросах"
      ],
      "metadata": {
        "id": "Xbed4BkU8wqi"
      }
    },
    {
      "cell_type": "code",
      "source": [
        "for i in range(train.num_room.shape[0]):\n",
        "  if train.num_room.iloc[i] > 8 or pd.isnull(train.num_room.iloc[i]):\n",
        "    train.at[i, 'num_room'] = int(train.at[i, 'life_sq'] / 17.3)  ## заменяем количество комнат на число, которое определяется как жилая площадь деленная на ср. площадь комнаты мск."
      ],
      "metadata": {
        "id": "se6M9-aW9H-x"
      },
      "execution_count": 59,
      "outputs": []
    },
    {
      "cell_type": "code",
      "source": [
        "train.num_room = train.num_room.apply(lambda x : 1 if x == 0 else x) ## заменим нулевые значения на единицу"
      ],
      "metadata": {
        "id": "JcgvlSGw_1mK"
      },
      "execution_count": 60,
      "outputs": []
    },
    {
      "cell_type": "markdown",
      "source": [
        "test"
      ],
      "metadata": {
        "id": "ZuUmN4Ud5k17"
      }
    },
    {
      "cell_type": "code",
      "source": [
        "test.num_room.unique()"
      ],
      "metadata": {
        "colab": {
          "base_uri": "https://localhost:8080/"
        },
        "id": "yOqMTtFJ_iSc",
        "outputId": "d2101881-7595-4b09-d93f-031e92d27e85"
      },
      "execution_count": 61,
      "outputs": [
        {
          "output_type": "execute_result",
          "data": {
            "text/plain": [
              "array([nan,  2.,  1.,  3.,  4.,  0.,  5.,  6.,  8.,  7.])"
            ]
          },
          "metadata": {},
          "execution_count": 61
        }
      ]
    },
    {
      "cell_type": "code",
      "source": [
        "for i in range(test.num_room.shape[0]):\n",
        "  if test.num_room.iloc[i] > 8 or pd.isnull(test.num_room.iloc[i]):\n",
        "    test.at[i, 'num_room'] = int(test.at[i, 'life_sq'] / 17.3)  ## заменяем количество комнат на число, которое определяется как жилая площадь деленная на ср. площадь комнаты мск.\n",
        "\n",
        "test.num_room = test.num_room.apply(lambda x : 1 if x == 0 else x) ## заменим нулевые значения на единицу"
      ],
      "metadata": {
        "id": "GYu-bkJhAF3W"
      },
      "execution_count": 62,
      "outputs": []
    },
    {
      "cell_type": "markdown",
      "source": [
        "### kitch_sq"
      ],
      "metadata": {
        "id": "075NmnpkAcId"
      }
    },
    {
      "cell_type": "markdown",
      "source": [
        "train"
      ],
      "metadata": {
        "id": "uEMaql9QAh0q"
      }
    },
    {
      "cell_type": "code",
      "source": [
        "train.kitch_sq.unique()"
      ],
      "metadata": {
        "colab": {
          "base_uri": "https://localhost:8080/"
        },
        "id": "6ZY0ckafAkcO",
        "outputId": "e775cafa-31eb-4a05-fd57-32abf4716628"
      },
      "execution_count": 63,
      "outputs": [
        {
          "output_type": "execute_result",
          "data": {
            "text/plain": [
              "array([6.000e+00, 5.000e+00, 1.000e+01, 1.200e+01, 7.000e+00, 9.000e+00,\n",
              "       1.000e+00, 1.100e+01, 8.000e+00, 0.000e+00,       nan, 2.500e+01,\n",
              "       4.000e+00, 1.400e+01, 2.400e+01, 1.600e+01, 1.700e+01, 4.200e+01,\n",
              "       3.700e+01, 3.200e+01, 1.300e+01, 1.800e+01, 1.900e+01, 3.000e+00,\n",
              "       2.000e+01, 6.100e+01, 4.000e+01, 1.500e+01, 4.300e+01, 3.300e+01,\n",
              "       1.120e+02, 2.300e+01, 6.300e+01, 2.800e+01, 2.000e+00, 4.100e+01,\n",
              "       2.100e+01, 3.000e+01, 2.200e+01, 9.600e+01, 3.900e+01, 2.014e+03,\n",
              "       4.800e+01, 5.800e+01, 3.600e+01, 5.100e+01, 1.230e+02, 2.600e+01,\n",
              "       6.200e+02, 8.600e+01, 7.200e+01, 5.300e+01, 3.100e+01, 6.000e+01,\n",
              "       4.400e+01, 3.400e+01, 8.400e+01, 1.974e+03, 2.900e+01, 6.600e+01,\n",
              "       6.500e+01, 2.700e+01, 5.700e+01, 2.013e+03])"
            ]
          },
          "metadata": {},
          "execution_count": 63
        }
      ]
    },
    {
      "cell_type": "code",
      "source": [
        "train.kitch_sq.hist()"
      ],
      "metadata": {
        "colab": {
          "base_uri": "https://localhost:8080/",
          "height": 448
        },
        "id": "jnTmDXn2AoFy",
        "outputId": "d9a90cd3-ca28-4e89-8b68-c8d72e875356"
      },
      "execution_count": 64,
      "outputs": [
        {
          "output_type": "execute_result",
          "data": {
            "text/plain": [
              "<AxesSubplot:>"
            ]
          },
          "metadata": {},
          "execution_count": 64
        },
        {
          "output_type": "display_data",
          "data": {
            "text/plain": [
              "<Figure size 640x480 with 1 Axes>"
            ],
            "image/png": "[encoded data removed]"
          },
          "metadata": {}
        }
      ]
    },
    {
      "cell_type": "code",
      "source": [
        "train[train.kitch_sq > 25].kitch_sq.count() ## смотрим на количество значений с аномальной площадью"
      ],
      "metadata": {
        "colab": {
          "base_uri": "https://localhost:8080/"
        },
        "id": "_VluBGqHDDrS",
        "outputId": "7c5e3210-e428-4300-81e2-45417700af41"
      },
      "execution_count": 65,
      "outputs": [
        {
          "output_type": "execute_result",
          "data": {
            "text/plain": [
              "58"
            ]
          },
          "metadata": {},
          "execution_count": 65
        }
      ]
    },
    {
      "cell_type": "markdown",
      "source": [
        "По своду правил минимальная площадь кухни - 8кв.м."
      ],
      "metadata": {
        "id": "P30BpfnmDpOk"
      }
    },
    {
      "cell_type": "code",
      "source": [
        "train.kitch_sq = train.kitch_sq.apply(lambda x: 8.0 if x <= 8 or pd.isnull(x) == True else x) ## заполняем пропуски и несоответствующие значения нормативным значением"
      ],
      "metadata": {
        "id": "O-BmJnwwDcqx"
      },
      "execution_count": 66,
      "outputs": []
    },
    {
      "cell_type": "code",
      "source": [
        "question_kitch_sq = train[train.kitch_sq > 25]\n",
        "train = train.drop(question_kitch_sq.index).reset_index(drop=True) ## избавляемся от выбросов"
      ],
      "metadata": {
        "id": "K0gPoUVHBw9r"
      },
      "execution_count": 67,
      "outputs": []
    },
    {
      "cell_type": "code",
      "source": [
        "train.kitch_sq.hist()"
      ],
      "metadata": {
        "colab": {
          "base_uri": "https://localhost:8080/",
          "height": 448
        },
        "id": "sHly_HJ5CVNd",
        "outputId": "bad12152-5fa9-4b63-ae75-5911c78f32da"
      },
      "execution_count": 68,
      "outputs": [
        {
          "output_type": "execute_result",
          "data": {
            "text/plain": [
              "<AxesSubplot:>"
            ]
          },
          "metadata": {},
          "execution_count": 68
        },
        {
          "output_type": "display_data",
          "data": {
            "text/plain": [
              "<Figure size 640x480 with 1 Axes>"
            ],
            "image/png": "[encoded data removed]"
          },
          "metadata": {}
        }
      ]
    },
    {
      "cell_type": "markdown",
      "source": [
        "test"
      ],
      "metadata": {
        "id": "PnyuYFeyEUnG"
      }
    },
    {
      "cell_type": "code",
      "source": [
        "test.kitch_sq.unique()"
      ],
      "metadata": {
        "colab": {
          "base_uri": "https://localhost:8080/"
        },
        "id": "vMQZHGnoCgKB",
        "outputId": "2c1696cd-f67b-430a-e246-0793855b4e76"
      },
      "execution_count": 69,
      "outputs": [
        {
          "output_type": "execute_result",
          "data": {
            "text/plain": [
              "array([nan,  5.,  6.,  9.,  0.,  8.,  7.,  4., 10., 12.,  1., 13., 62.,\n",
              "        3., 11., 16., 14., 19., 15., 33., 23.,  2., 20., 18., 24., 35.,\n",
              "       22., 37., 17., 78., 51., 97., 31., 54., 74., 39., 32., 57., 95.,\n",
              "       29., 60., 73.])"
            ]
          },
          "metadata": {},
          "execution_count": 69
        }
      ]
    },
    {
      "cell_type": "code",
      "source": [
        "test[test.kitch_sq > 15]"
      ],
      "metadata": {
        "colab": {
          "base_uri": "https://localhost:8080/",
          "height": 1000
        },
        "id": "ZScsbMN7EY6M",
        "outputId": "364ce394-d93b-4c5b-c5b1-30651ec5520f"
      },
      "execution_count": 70,
      "outputs": [
        {
          "output_type": "execute_result",
          "data": {
            "text/plain": [
              "         id  timestamp  full_sq  life_sq  floor  state  max_floor  material  \\\n",
              "51    15973 2014-03-13       62    33.00   1.00   1.00       7.00      1.00   \n",
              "129   16955 2014-04-03       57    25.00   5.00   3.00      17.00      4.00   \n",
              "148   21152 2014-07-29      121    62.00  19.00   4.00      23.00      4.00   \n",
              "279   21102 2014-07-25      113    64.00   8.00   3.00      16.00      4.00   \n",
              "357   12248 2013-11-18       22    14.00   3.00   1.00       5.00      2.00   \n",
              "395   22106 2014-09-02      105    52.00  25.00   3.00      25.00      4.00   \n",
              "421   12560 2013-11-27       66    36.00   6.00   1.00      17.00      6.00   \n",
              "431   20222 2014-06-26      148    97.00   6.00   4.00       7.00      2.00   \n",
              "774   29281 2015-04-21      108    90.00  12.00   1.00      24.00      6.00   \n",
              "839   30106 2015-06-03       87    32.00   3.00   3.00      18.00      2.00   \n",
              "924   29807 2015-05-19      143    78.00   2.00   1.00      24.00      4.00   \n",
              "1046  21938 2014-08-27      121    62.00  19.00   4.00      23.00      4.00   \n",
              "1058  14035 2014-01-23       93    45.00  24.00   4.00      32.00      6.00   \n",
              "1090  15591 2014-03-01       35    19.00   4.00   1.00      14.00      1.00   \n",
              "1222  17986 2014-04-29       68    26.00   3.00   1.00       5.00      4.00   \n",
              "1241  23222 2014-10-02       37    37.00  17.00   3.00      19.00      1.00   \n",
              "1306  14682 2014-02-06       77    39.00  16.00   3.00      18.00      6.00   \n",
              "1324  18389 2014-05-14      110    52.00  11.00   3.00      30.00      4.00   \n",
              "1416  19931 2014-06-21      124   124.00  24.00   1.00      24.00      1.00   \n",
              "1424  17904 2014-04-26       78    78.00  10.00   1.00      15.00      1.00   \n",
              "1520  26869 2014-12-19      111   111.00  11.00   1.00      15.00      6.00   \n",
              "1700  13601 2014-01-09      121    61.00  14.00   1.00      15.00      6.00   \n",
              "1806  20425 2014-06-30       51    51.00  10.00   3.00      17.00      1.00   \n",
              "1831  29000 2015-04-09       50    30.00   4.00   1.00      17.00      1.00   \n",
              "1886  30082 2015-06-02      150   108.00   8.00   2.00      24.00      4.00   \n",
              "1925  26286 2014-12-11       87    51.00  31.00   1.00      40.00      4.00   \n",
              "1997  17529 2014-04-17      161    73.00  15.00   3.00      24.00      4.00   \n",
              "2051  18488 2014-05-16      129    60.00  16.00   4.00      17.00      4.00   \n",
              "2063  24536 2014-11-11      117    66.00   6.00   1.00      10.00      4.00   \n",
              "2074  24275 2014-10-31       48    17.00   1.00   1.00      14.00      2.00   \n",
              "2084  19098 2014-05-29      184    85.00  10.00   4.00      47.00      4.00   \n",
              "2310  16415 2014-03-24       74    51.00   1.00   3.00       9.00      1.00   \n",
              "2363  11695 2013-10-30      118    86.00  16.00   1.00      22.00      6.00   \n",
              "2537  20871 2014-07-15      183    62.00   3.00   4.00       3.00      2.00   \n",
              "2583  12870 2013-12-06      108    58.00   7.00   3.00      20.00      4.00   \n",
              "2592  10190 2013-08-30       54    54.00  25.00   1.00      25.00      6.00   \n",
              "2604  17392 2014-04-14      141    88.00   5.00   3.00      15.00      4.00   \n",
              "2647  28684 2015-03-27      108    59.00   5.00   1.00      12.00      4.00   \n",
              "2786  11865 2013-11-06       54     1.00  22.00   1.00      22.00      6.00   \n",
              "2894  24757 2014-11-14       49    25.00  12.00   1.00      17.00      1.00   \n",
              "2949  27556 2015-01-27      105    34.00  36.00   1.00      40.00      4.00   \n",
              "3060  19516 2014-06-09      206   134.00   6.00   4.00      25.00      4.00   \n",
              "3098  21126 2014-07-28      143    78.00  20.00   1.00      30.00      4.00   \n",
              "3293  26816 2014-12-18       95    95.00  14.00   1.00      14.00      1.00   \n",
              "3350  27121 2014-12-24       78    23.00   6.00   1.00      40.00      4.00   \n",
              "3454  27571 2015-01-28       87    44.00   5.00   3.00      14.00      6.00   \n",
              "3477  15933 2014-03-12       63    60.00  14.00   1.00      20.00      1.00   \n",
              "3499  18140 2014-05-05      116    77.00  12.00   3.00      17.00      1.00   \n",
              "3618  25307 2014-11-25      160   155.00   3.00   1.00      17.00      4.00   \n",
              "3659  11792 2013-11-05       78    40.00   2.00   1.00      31.00      4.00   \n",
              "3690   9175 2013-07-12       37    19.00   9.00   2.00      10.00      1.00   \n",
              "\n",
              "      build_year  num_room  kitch_sq  full_all                   sub_area  \n",
              "51       2014.00      1.00     62.00     12061  Poselenie Krasnopahorskoe  \n",
              "129      2006.00      1.00     16.00     41504            Beskudnikovskoe  \n",
              "148      2007.00      3.00     19.00    123000                   Kon'kovo  \n",
              "279      2009.00      3.00     16.00      7538       Poselenie Kokoshkino  \n",
              "357      1970.00      1.00     33.00   1452550                Bogorodskoe  \n",
              "395      2009.00      3.00     16.00    125111                   Solncevo  \n",
              "421      2012.00      2.00     16.00     13890        Poselenie Sosenskoe  \n",
              "431      1912.00      4.00     23.00     28179                  Basmannoe  \n",
              "774      2017.00      4.00     20.00     76284          Nagatinskij Zaton  \n",
              "839      2013.00      2.00     18.00    111023       Ochakovo-Matveevskoe  \n",
              "924      2009.00      3.00     16.00    113897         Troparevo-Nikulino  \n",
              "1046     2005.00      3.00     19.00    123000                   Kon'kovo  \n",
              "1058     2006.00      2.00     24.00     80791               Horoshevskoe  \n",
              "1090     1970.00      1.00     35.00    111874     Chertanovo Central'noe  \n",
              "1222     2010.00      1.00     22.00      5740     Poselenie Pervomajskoe  \n",
              "1241     2016.00      1.00     37.00     39873       Poselenie Shherbinka  \n",
              "1306     2004.00      2.00     17.00    942118                    Kurkino  \n",
              "1324     2004.00      3.00     17.00     57995                      Sokol  \n",
              "1416     2015.00      3.00     19.00     81887                    Hovrino  \n",
              "1424     2014.00      2.00     78.00    122862                  Izmajlovo  \n",
              "1520     2016.00      3.00     17.00      7341       Poselenie Moskovskij  \n",
              "1700     2012.00      3.00     17.00   1716730       Birjulevo Vostochnoe  \n",
              "1806     2017.00      1.00     51.00     13890        Poselenie Sosenskoe  \n",
              "1831     2014.00      2.00     97.00    247469                 Nekrasovka  \n",
              "1886     2004.00      3.00     23.00     57999                Presnenskoe  \n",
              "1925     2012.00      2.00     16.00   1362363             Akademicheskoe  \n",
              "1997     2003.00      4.00     31.00    130396                Cheremushki  \n",
              "2051     2006.00      2.00     16.00    123000                   Kon'kovo  \n",
              "2063     2002.00      3.00     17.00    942118                    Kurkino  \n",
              "2074     2010.00      1.00     16.00      7122     Poselenie Rjazanovskoe  \n",
              "2084     2004.00      1.00     54.00     61039                    Ramenki  \n",
              "2310     1985.00      4.00     74.00    102590                Danilovskoe  \n",
              "2363     2010.00      1.00     17.00    118843       Prospekt Vernadskogo  \n",
              "2537     2005.00      4.00     39.00     21155                     Mitino  \n",
              "2583     2009.00      3.00     18.00     61039                    Ramenki  \n",
              "2592     2015.00      2.00     54.00     21155                     Mitino  \n",
              "2604     2003.00      3.00     16.00    123280                  Taganskoe  \n",
              "2647     2008.00      3.00     17.00     80791               Horoshevskoe  \n",
              "2786     2013.00      2.00     54.00     21155                     Mitino  \n",
              "2894     2016.00      2.00     16.00      7341       Poselenie Moskovskij  \n",
              "2949     2012.00      2.00     32.00   1362363             Akademicheskoe  \n",
              "3060     2000.00      5.00     57.00    142462                 Mozhajskoe  \n",
              "3098     2010.00      4.00     16.00     76670                    Zjuzino  \n",
              "3293     2014.00      3.00     95.00     13890        Poselenie Sosenskoe  \n",
              "3350     2014.00      1.00     29.00   1362363             Akademicheskoe  \n",
              "3454     2007.00      2.00     16.00      7122     Poselenie Rjazanovskoe  \n",
              "3477     2015.00      2.00     60.00      9553    Poselenie Voskresenskoe  \n",
              "3499     1998.00      4.00     19.00     37502                   Sviblovo  \n",
              "3618     1982.00      4.00     20.00     57999                Presnenskoe  \n",
              "3659     2012.00      2.00     16.00     78507                    Kuncevo  \n",
              "3690     2006.00      1.00     73.00    102828           Kosino-Uhtomskoe  "
            ],
            "text/html": [
              "<div>\n",
              "<style scoped>\n",
              "    .dataframe tbody tr th:only-of-type {\n",
              "        vertical-align: middle;\n",
              "    }\n",
              "\n",
              "    .dataframe tbody tr th {\n",
              "        vertical-align: top;\n",
              "    }\n",
              "\n",
              "    .dataframe thead th {\n",
              "        text-align: right;\n",
              "    }\n",
              "</style>\n",
              "<table border=\"1\" class=\"dataframe\">\n",
              "  <thead>\n",
              "    <tr style=\"text-align: right;\">\n",
              "      <th></th>\n",
              "      <th>id</th>\n",
              "      <th>timestamp</th>\n",
              "      <th>full_sq</th>\n",
              "      <th>life_sq</th>\n",
              "      <th>floor</th>\n",
              "      <th>state</th>\n",
              "      <th>max_floor</th>\n",
              "      <th>material</th>\n",
              "      <th>build_year</th>\n",
              "      <th>num_room</th>\n",
              "      <th>kitch_sq</th>\n",
              "      <th>full_all</th>\n",
              "      <th>sub_area</th>\n",
              "    </tr>\n",
              "  </thead>\n",
              "  <tbody>\n",
              "    <tr>\n",
              "      <th>51</th>\n",
              "      <td>15973</td>\n",
              "      <td>2014-03-13</td>\n",
              "      <td>62</td>\n",
              "      <td>33.00</td>\n",
              "      <td>1.00</td>\n",
              "      <td>1.00</td>\n",
              "      <td>7.00</td>\n",
              "      <td>1.00</td>\n",
              "      <td>2014.00</td>\n",
              "      <td>1.00</td>\n",
              "      <td>62.00</td>\n",
              "      <td>12061</td>\n",
              "      <td>Poselenie Krasnopahorskoe</td>\n",
              "    </tr>\n",
              "    <tr>\n",
              "      <th>129</th>\n",
              "      <td>16955</td>\n",
              "      <td>2014-04-03</td>\n",
              "      <td>57</td>\n",
              "      <td>25.00</td>\n",
              "      <td>5.00</td>\n",
              "      <td>3.00</td>\n",
              "      <td>17.00</td>\n",
              "      <td>4.00</td>\n",
              "      <td>2006.00</td>\n",
              "      <td>1.00</td>\n",
              "      <td>16.00</td>\n",
              "      <td>41504</td>\n",
              "      <td>Beskudnikovskoe</td>\n",
              "    </tr>\n",
              "    <tr>\n",
              "      <th>148</th>\n",
              "      <td>21152</td>\n",
              "      <td>2014-07-29</td>\n",
              "      <td>121</td>\n",
              "      <td>62.00</td>\n",
              "      <td>19.00</td>\n",
              "      <td>4.00</td>\n",
              "      <td>23.00</td>\n",
              "      <td>4.00</td>\n",
              "      <td>2007.00</td>\n",
              "      <td>3.00</td>\n",
              "      <td>19.00</td>\n",
              "      <td>123000</td>\n",
              "      <td>Kon'kovo</td>\n",
              "    </tr>\n",
              "    <tr>\n",
              "      <th>279</th>\n",
              "      <td>21102</td>\n",
              "      <td>2014-07-25</td>\n",
              "      <td>113</td>\n",
              "      <td>64.00</td>\n",
              "      <td>8.00</td>\n",
              "      <td>3.00</td>\n",
              "      <td>16.00</td>\n",
              "      <td>4.00</td>\n",
              "      <td>2009.00</td>\n",
              "      <td>3.00</td>\n",
              "      <td>16.00</td>\n",
              "      <td>7538</td>\n",
              "      <td>Poselenie Kokoshkino</td>\n",
              "    </tr>\n",
              "    <tr>\n",
              "      <th>357</th>\n",
              "      <td>12248</td>\n",
              "      <td>2013-11-18</td>\n",
              "      <td>22</td>\n",
              "      <td>14.00</td>\n",
              "      <td>3.00</td>\n",
              "      <td>1.00</td>\n",
              "      <td>5.00</td>\n",
              "      <td>2.00</td>\n",
              "      <td>1970.00</td>\n",
              "      <td>1.00</td>\n",
              "      <td>33.00</td>\n",
              "      <td>1452550</td>\n",
              "      <td>Bogorodskoe</td>\n",
              "    </tr>\n",
              "    <tr>\n",
              "      <th>395</th>\n",
              "      <td>22106</td>\n",
              "      <td>2014-09-02</td>\n",
              "      <td>105</td>\n",
              "      <td>52.00</td>\n",
              "      <td>25.00</td>\n",
              "      <td>3.00</td>\n",
              "      <td>25.00</td>\n",
              "      <td>4.00</td>\n",
              "      <td>2009.00</td>\n",
              "      <td>3.00</td>\n",
              "      <td>16.00</td>\n",
              "      <td>125111</td>\n",
              "      <td>Solncevo</td>\n",
              "    </tr>\n",
              "    <tr>\n",
              "      <th>421</th>\n",
              "      <td>12560</td>\n",
              "      <td>2013-11-27</td>\n",
              "      <td>66</td>\n",
              "      <td>36.00</td>\n",
              "      <td>6.00</td>\n",
              "      <td>1.00</td>\n",
              "      <td>17.00</td>\n",
              "      <td>6.00</td>\n",
              "      <td>2012.00</td>\n",
              "      <td>2.00</td>\n",
              "      <td>16.00</td>\n",
              "      <td>13890</td>\n",
              "      <td>Poselenie Sosenskoe</td>\n",
              "    </tr>\n",
              "    <tr>\n",
              "      <th>431</th>\n",
              "      <td>20222</td>\n",
              "      <td>2014-06-26</td>\n",
              "      <td>148</td>\n",
              "      <td>97.00</td>\n",
              "      <td>6.00</td>\n",
              "      <td>4.00</td>\n",
              "      <td>7.00</td>\n",
              "      <td>2.00</td>\n",
              "      <td>1912.00</td>\n",
              "      <td>4.00</td>\n",
              "      <td>23.00</td>\n",
              "      <td>28179</td>\n",
              "      <td>Basmannoe</td>\n",
              "    </tr>\n",
              "    <tr>\n",
              "      <th>774</th>\n",
              "      <td>29281</td>\n",
              "      <td>2015-04-21</td>\n",
              "      <td>108</td>\n",
              "      <td>90.00</td>\n",
              "      <td>12.00</td>\n",
              "      <td>1.00</td>\n",
              "      <td>24.00</td>\n",
              "      <td>6.00</td>\n",
              "      <td>2017.00</td>\n",
              "      <td>4.00</td>\n",
              "      <td>20.00</td>\n",
              "      <td>76284</td>\n",
              "      <td>Nagatinskij Zaton</td>\n",
              "    </tr>\n",
              "    <tr>\n",
              "      <th>839</th>\n",
              "      <td>30106</td>\n",
              "      <td>2015-06-03</td>\n",
              "      <td>87</td>\n",
              "      <td>32.00</td>\n",
              "      <td>3.00</td>\n",
              "      <td>3.00</td>\n",
              "      <td>18.00</td>\n",
              "      <td>2.00</td>\n",
              "      <td>2013.00</td>\n",
              "      <td>2.00</td>\n",
              "      <td>18.00</td>\n",
              "      <td>111023</td>\n",
              "      <td>Ochakovo-Matveevskoe</td>\n",
              "    </tr>\n",
              "    <tr>\n",
              "      <th>924</th>\n",
              "      <td>29807</td>\n",
              "      <td>2015-05-19</td>\n",
              "      <td>143</td>\n",
              "      <td>78.00</td>\n",
              "      <td>2.00</td>\n",
              "      <td>1.00</td>\n",
              "      <td>24.00</td>\n",
              "      <td>4.00</td>\n",
              "      <td>2009.00</td>\n",
              "      <td>3.00</td>\n",
              "      <td>16.00</td>\n",
              "      <td>113897</td>\n",
              "      <td>Troparevo-Nikulino</td>\n",
              "    </tr>\n",
              "    <tr>\n",
              "      <th>1046</th>\n",
              "      <td>21938</td>\n",
              "      <td>2014-08-27</td>\n",
              "      <td>121</td>\n",
              "      <td>62.00</td>\n",
              "      <td>19.00</td>\n",
              "      <td>4.00</td>\n",
              "      <td>23.00</td>\n",
              "      <td>4.00</td>\n",
              "      <td>2005.00</td>\n",
              "      <td>3.00</td>\n",
              "      <td>19.00</td>\n",
              "      <td>123000</td>\n",
              "      <td>Kon'kovo</td>\n",
              "    </tr>\n",
              "    <tr>\n",
              "      <th>1058</th>\n",
              "      <td>14035</td>\n",
              "      <td>2014-01-23</td>\n",
              "      <td>93</td>\n",
              "      <td>45.00</td>\n",
              "      <td>24.00</td>\n",
              "      <td>4.00</td>\n",
              "      <td>32.00</td>\n",
              "      <td>6.00</td>\n",
              "      <td>2006.00</td>\n",
              "      <td>2.00</td>\n",
              "      <td>24.00</td>\n",
              "      <td>80791</td>\n",
              "      <td>Horoshevskoe</td>\n",
              "    </tr>\n",
              "    <tr>\n",
              "      <th>1090</th>\n",
              "      <td>15591</td>\n",
              "      <td>2014-03-01</td>\n",
              "      <td>35</td>\n",
              "      <td>19.00</td>\n",
              "      <td>4.00</td>\n",
              "      <td>1.00</td>\n",
              "      <td>14.00</td>\n",
              "      <td>1.00</td>\n",
              "      <td>1970.00</td>\n",
              "      <td>1.00</td>\n",
              "      <td>35.00</td>\n",
              "      <td>111874</td>\n",
              "      <td>Chertanovo Central'noe</td>\n",
              "    </tr>\n",
              "    <tr>\n",
              "      <th>1222</th>\n",
              "      <td>17986</td>\n",
              "      <td>2014-04-29</td>\n",
              "      <td>68</td>\n",
              "      <td>26.00</td>\n",
              "      <td>3.00</td>\n",
              "      <td>1.00</td>\n",
              "      <td>5.00</td>\n",
              "      <td>4.00</td>\n",
              "      <td>2010.00</td>\n",
              "      <td>1.00</td>\n",
              "      <td>22.00</td>\n",
              "      <td>5740</td>\n",
              "      <td>Poselenie Pervomajskoe</td>\n",
              "    </tr>\n",
              "    <tr>\n",
              "      <th>1241</th>\n",
              "      <td>23222</td>\n",
              "      <td>2014-10-02</td>\n",
              "      <td>37</td>\n",
              "      <td>37.00</td>\n",
              "      <td>17.00</td>\n",
              "      <td>3.00</td>\n",
              "      <td>19.00</td>\n",
              "      <td>1.00</td>\n",
              "      <td>2016.00</td>\n",
              "      <td>1.00</td>\n",
              "      <td>37.00</td>\n",
              "      <td>39873</td>\n",
              "      <td>Poselenie Shherbinka</td>\n",
              "    </tr>\n",
              "    <tr>\n",
              "      <th>1306</th>\n",
              "      <td>14682</td>\n",
              "      <td>2014-02-06</td>\n",
              "      <td>77</td>\n",
              "      <td>39.00</td>\n",
              "      <td>16.00</td>\n",
              "      <td>3.00</td>\n",
              "      <td>18.00</td>\n",
              "      <td>6.00</td>\n",
              "      <td>2004.00</td>\n",
              "      <td>2.00</td>\n",
              "      <td>17.00</td>\n",
              "      <td>942118</td>\n",
              "      <td>Kurkino</td>\n",
              "    </tr>\n",
              "    <tr>\n",
              "      <th>1324</th>\n",
              "      <td>18389</td>\n",
              "      <td>2014-05-14</td>\n",
              "      <td>110</td>\n",
              "      <td>52.00</td>\n",
              "      <td>11.00</td>\n",
              "      <td>3.00</td>\n",
              "      <td>30.00</td>\n",
              "      <td>4.00</td>\n",
              "      <td>2004.00</td>\n",
              "      <td>3.00</td>\n",
              "      <td>17.00</td>\n",
              "      <td>57995</td>\n",
              "      <td>Sokol</td>\n",
              "    </tr>\n",
              "    <tr>\n",
              "      <th>1416</th>\n",
              "      <td>19931</td>\n",
              "      <td>2014-06-21</td>\n",
              "      <td>124</td>\n",
              "      <td>124.00</td>\n",
              "      <td>24.00</td>\n",
              "      <td>1.00</td>\n",
              "      <td>24.00</td>\n",
              "      <td>1.00</td>\n",
              "      <td>2015.00</td>\n",
              "      <td>3.00</td>\n",
              "      <td>19.00</td>\n",
              "      <td>81887</td>\n",
              "      <td>Hovrino</td>\n",
              "    </tr>\n",
              "    <tr>\n",
              "      <th>1424</th>\n",
              "      <td>17904</td>\n",
              "      <td>2014-04-26</td>\n",
              "      <td>78</td>\n",
              "      <td>78.00</td>\n",
              "      <td>10.00</td>\n",
              "      <td>1.00</td>\n",
              "      <td>15.00</td>\n",
              "      <td>1.00</td>\n",
              "      <td>2014.00</td>\n",
              "      <td>2.00</td>\n",
              "      <td>78.00</td>\n",
              "      <td>122862</td>\n",
              "      <td>Izmajlovo</td>\n",
              "    </tr>\n",
              "    <tr>\n",
              "      <th>1520</th>\n",
              "      <td>26869</td>\n",
              "      <td>2014-12-19</td>\n",
              "      <td>111</td>\n",
              "      <td>111.00</td>\n",
              "      <td>11.00</td>\n",
              "      <td>1.00</td>\n",
              "      <td>15.00</td>\n",
              "      <td>6.00</td>\n",
              "      <td>2016.00</td>\n",
              "      <td>3.00</td>\n",
              "      <td>17.00</td>\n",
              "      <td>7341</td>\n",
              "      <td>Poselenie Moskovskij</td>\n",
              "    </tr>\n",
              "    <tr>\n",
              "      <th>1700</th>\n",
              "      <td>13601</td>\n",
              "      <td>2014-01-09</td>\n",
              "      <td>121</td>\n",
              "      <td>61.00</td>\n",
              "      <td>14.00</td>\n",
              "      <td>1.00</td>\n",
              "      <td>15.00</td>\n",
              "      <td>6.00</td>\n",
              "      <td>2012.00</td>\n",
              "      <td>3.00</td>\n",
              "      <td>17.00</td>\n",
              "      <td>1716730</td>\n",
              "      <td>Birjulevo Vostochnoe</td>\n",
              "    </tr>\n",
              "    <tr>\n",
              "      <th>1806</th>\n",
              "      <td>20425</td>\n",
              "      <td>2014-06-30</td>\n",
              "      <td>51</td>\n",
              "      <td>51.00</td>\n",
              "      <td>10.00</td>\n",
              "      <td>3.00</td>\n",
              "      <td>17.00</td>\n",
              "      <td>1.00</td>\n",
              "      <td>2017.00</td>\n",
              "      <td>1.00</td>\n",
              "      <td>51.00</td>\n",
              "      <td>13890</td>\n",
              "      <td>Poselenie Sosenskoe</td>\n",
              "    </tr>\n",
              "    <tr>\n",
              "      <th>1831</th>\n",
              "      <td>29000</td>\n",
              "      <td>2015-04-09</td>\n",
              "      <td>50</td>\n",
              "      <td>30.00</td>\n",
              "      <td>4.00</td>\n",
              "      <td>1.00</td>\n",
              "      <td>17.00</td>\n",
              "      <td>1.00</td>\n",
              "      <td>2014.00</td>\n",
              "      <td>2.00</td>\n",
              "      <td>97.00</td>\n",
              "      <td>247469</td>\n",
              "      <td>Nekrasovka</td>\n",
              "    </tr>\n",
              "    <tr>\n",
              "      <th>1886</th>\n",
              "      <td>30082</td>\n",
              "      <td>2015-06-02</td>\n",
              "      <td>150</td>\n",
              "      <td>108.00</td>\n",
              "      <td>8.00</td>\n",
              "      <td>2.00</td>\n",
              "      <td>24.00</td>\n",
              "      <td>4.00</td>\n",
              "      <td>2004.00</td>\n",
              "      <td>3.00</td>\n",
              "      <td>23.00</td>\n",
              "      <td>57999</td>\n",
              "      <td>Presnenskoe</td>\n",
              "    </tr>\n",
              "    <tr>\n",
              "      <th>1925</th>\n",
              "      <td>26286</td>\n",
              "      <td>2014-12-11</td>\n",
              "      <td>87</td>\n",
              "      <td>51.00</td>\n",
              "      <td>31.00</td>\n",
              "      <td>1.00</td>\n",
              "      <td>40.00</td>\n",
              "      <td>4.00</td>\n",
              "      <td>2012.00</td>\n",
              "      <td>2.00</td>\n",
              "      <td>16.00</td>\n",
              "      <td>1362363</td>\n",
              "      <td>Akademicheskoe</td>\n",
              "    </tr>\n",
              "    <tr>\n",
              "      <th>1997</th>\n",
              "      <td>17529</td>\n",
              "      <td>2014-04-17</td>\n",
              "      <td>161</td>\n",
              "      <td>73.00</td>\n",
              "      <td>15.00</td>\n",
              "      <td>3.00</td>\n",
              "      <td>24.00</td>\n",
              "      <td>4.00</td>\n",
              "      <td>2003.00</td>\n",
              "      <td>4.00</td>\n",
              "      <td>31.00</td>\n",
              "      <td>130396</td>\n",
              "      <td>Cheremushki</td>\n",
              "    </tr>\n",
              "    <tr>\n",
              "      <th>2051</th>\n",
              "      <td>18488</td>\n",
              "      <td>2014-05-16</td>\n",
              "      <td>129</td>\n",
              "      <td>60.00</td>\n",
              "      <td>16.00</td>\n",
              "      <td>4.00</td>\n",
              "      <td>17.00</td>\n",
              "      <td>4.00</td>\n",
              "      <td>2006.00</td>\n",
              "      <td>2.00</td>\n",
              "      <td>16.00</td>\n",
              "      <td>123000</td>\n",
              "      <td>Kon'kovo</td>\n",
              "    </tr>\n",
              "    <tr>\n",
              "      <th>2063</th>\n",
              "      <td>24536</td>\n",
              "      <td>2014-11-11</td>\n",
              "      <td>117</td>\n",
              "      <td>66.00</td>\n",
              "      <td>6.00</td>\n",
              "      <td>1.00</td>\n",
              "      <td>10.00</td>\n",
              "      <td>4.00</td>\n",
              "      <td>2002.00</td>\n",
              "      <td>3.00</td>\n",
              "      <td>17.00</td>\n",
              "      <td>942118</td>\n",
              "      <td>Kurkino</td>\n",
              "    </tr>\n",
              "    <tr>\n",
              "      <th>2074</th>\n",
              "      <td>24275</td>\n",
              "      <td>2014-10-31</td>\n",
              "      <td>48</td>\n",
              "      <td>17.00</td>\n",
              "      <td>1.00</td>\n",
              "      <td>1.00</td>\n",
              "      <td>14.00</td>\n",
              "      <td>2.00</td>\n",
              "      <td>2010.00</td>\n",
              "      <td>1.00</td>\n",
              "      <td>16.00</td>\n",
              "      <td>7122</td>\n",
              "      <td>Poselenie Rjazanovskoe</td>\n",
              "    </tr>\n",
              "    <tr>\n",
              "      <th>2084</th>\n",
              "      <td>19098</td>\n",
              "      <td>2014-05-29</td>\n",
              "      <td>184</td>\n",
              "      <td>85.00</td>\n",
              "      <td>10.00</td>\n",
              "      <td>4.00</td>\n",
              "      <td>47.00</td>\n",
              "      <td>4.00</td>\n",
              "      <td>2004.00</td>\n",
              "      <td>1.00</td>\n",
              "      <td>54.00</td>\n",
              "      <td>61039</td>\n",
              "      <td>Ramenki</td>\n",
              "    </tr>\n",
              "    <tr>\n",
              "      <th>2310</th>\n",
              "      <td>16415</td>\n",
              "      <td>2014-03-24</td>\n",
              "      <td>74</td>\n",
              "      <td>51.00</td>\n",
              "      <td>1.00</td>\n",
              "      <td>3.00</td>\n",
              "      <td>9.00</td>\n",
              "      <td>1.00</td>\n",
              "      <td>1985.00</td>\n",
              "      <td>4.00</td>\n",
              "      <td>74.00</td>\n",
              "      <td>102590</td>\n",
              "      <td>Danilovskoe</td>\n",
              "    </tr>\n",
              "    <tr>\n",
              "      <th>2363</th>\n",
              "      <td>11695</td>\n",
              "      <td>2013-10-30</td>\n",
              "      <td>118</td>\n",
              "      <td>86.00</td>\n",
              "      <td>16.00</td>\n",
              "      <td>1.00</td>\n",
              "      <td>22.00</td>\n",
              "      <td>6.00</td>\n",
              "      <td>2010.00</td>\n",
              "      <td>1.00</td>\n",
              "      <td>17.00</td>\n",
              "      <td>118843</td>\n",
              "      <td>Prospekt Vernadskogo</td>\n",
              "    </tr>\n",
              "    <tr>\n",
              "      <th>2537</th>\n",
              "      <td>20871</td>\n",
              "      <td>2014-07-15</td>\n",
              "      <td>183</td>\n",
              "      <td>62.00</td>\n",
              "      <td>3.00</td>\n",
              "      <td>4.00</td>\n",
              "      <td>3.00</td>\n",
              "      <td>2.00</td>\n",
              "      <td>2005.00</td>\n",
              "      <td>4.00</td>\n",
              "      <td>39.00</td>\n",
              "      <td>21155</td>\n",
              "      <td>Mitino</td>\n",
              "    </tr>\n",
              "    <tr>\n",
              "      <th>2583</th>\n",
              "      <td>12870</td>\n",
              "      <td>2013-12-06</td>\n",
              "      <td>108</td>\n",
              "      <td>58.00</td>\n",
              "      <td>7.00</td>\n",
              "      <td>3.00</td>\n",
              "      <td>20.00</td>\n",
              "      <td>4.00</td>\n",
              "      <td>2009.00</td>\n",
              "      <td>3.00</td>\n",
              "      <td>18.00</td>\n",
              "      <td>61039</td>\n",
              "      <td>Ramenki</td>\n",
              "    </tr>\n",
              "    <tr>\n",
              "      <th>2592</th>\n",
              "      <td>10190</td>\n",
              "      <td>2013-08-30</td>\n",
              "      <td>54</td>\n",
              "      <td>54.00</td>\n",
              "      <td>25.00</td>\n",
              "      <td>1.00</td>\n",
              "      <td>25.00</td>\n",
              "      <td>6.00</td>\n",
              "      <td>2015.00</td>\n",
              "      <td>2.00</td>\n",
              "      <td>54.00</td>\n",
              "      <td>21155</td>\n",
              "      <td>Mitino</td>\n",
              "    </tr>\n",
              "    <tr>\n",
              "      <th>2604</th>\n",
              "      <td>17392</td>\n",
              "      <td>2014-04-14</td>\n",
              "      <td>141</td>\n",
              "      <td>88.00</td>\n",
              "      <td>5.00</td>\n",
              "      <td>3.00</td>\n",
              "      <td>15.00</td>\n",
              "      <td>4.00</td>\n",
              "      <td>2003.00</td>\n",
              "      <td>3.00</td>\n",
              "      <td>16.00</td>\n",
              "      <td>123280</td>\n",
              "      <td>Taganskoe</td>\n",
              "    </tr>\n",
              "    <tr>\n",
              "      <th>2647</th>\n",
              "      <td>28684</td>\n",
              "      <td>2015-03-27</td>\n",
              "      <td>108</td>\n",
              "      <td>59.00</td>\n",
              "      <td>5.00</td>\n",
              "      <td>1.00</td>\n",
              "      <td>12.00</td>\n",
              "      <td>4.00</td>\n",
              "      <td>2008.00</td>\n",
              "      <td>3.00</td>\n",
              "      <td>17.00</td>\n",
              "      <td>80791</td>\n",
              "      <td>Horoshevskoe</td>\n",
              "    </tr>\n",
              "    <tr>\n",
              "      <th>2786</th>\n",
              "      <td>11865</td>\n",
              "      <td>2013-11-06</td>\n",
              "      <td>54</td>\n",
              "      <td>1.00</td>\n",
              "      <td>22.00</td>\n",
              "      <td>1.00</td>\n",
              "      <td>22.00</td>\n",
              "      <td>6.00</td>\n",
              "      <td>2013.00</td>\n",
              "      <td>2.00</td>\n",
              "      <td>54.00</td>\n",
              "      <td>21155</td>\n",
              "      <td>Mitino</td>\n",
              "    </tr>\n",
              "    <tr>\n",
              "      <th>2894</th>\n",
              "      <td>24757</td>\n",
              "      <td>2014-11-14</td>\n",
              "      <td>49</td>\n",
              "      <td>25.00</td>\n",
              "      <td>12.00</td>\n",
              "      <td>1.00</td>\n",
              "      <td>17.00</td>\n",
              "      <td>1.00</td>\n",
              "      <td>2016.00</td>\n",
              "      <td>2.00</td>\n",
              "      <td>16.00</td>\n",
              "      <td>7341</td>\n",
              "      <td>Poselenie Moskovskij</td>\n",
              "    </tr>\n",
              "    <tr>\n",
              "      <th>2949</th>\n",
              "      <td>27556</td>\n",
              "      <td>2015-01-27</td>\n",
              "      <td>105</td>\n",
              "      <td>34.00</td>\n",
              "      <td>36.00</td>\n",
              "      <td>1.00</td>\n",
              "      <td>40.00</td>\n",
              "      <td>4.00</td>\n",
              "      <td>2012.00</td>\n",
              "      <td>2.00</td>\n",
              "      <td>32.00</td>\n",
              "      <td>1362363</td>\n",
              "      <td>Akademicheskoe</td>\n",
              "    </tr>\n",
              "    <tr>\n",
              "      <th>3060</th>\n",
              "      <td>19516</td>\n",
              "      <td>2014-06-09</td>\n",
              "      <td>206</td>\n",
              "      <td>134.00</td>\n",
              "      <td>6.00</td>\n",
              "      <td>4.00</td>\n",
              "      <td>25.00</td>\n",
              "      <td>4.00</td>\n",
              "      <td>2000.00</td>\n",
              "      <td>5.00</td>\n",
              "      <td>57.00</td>\n",
              "      <td>142462</td>\n",
              "      <td>Mozhajskoe</td>\n",
              "    </tr>\n",
              "    <tr>\n",
              "      <th>3098</th>\n",
              "      <td>21126</td>\n",
              "      <td>2014-07-28</td>\n",
              "      <td>143</td>\n",
              "      <td>78.00</td>\n",
              "      <td>20.00</td>\n",
              "      <td>1.00</td>\n",
              "      <td>30.00</td>\n",
              "      <td>4.00</td>\n",
              "      <td>2010.00</td>\n",
              "      <td>4.00</td>\n",
              "      <td>16.00</td>\n",
              "      <td>76670</td>\n",
              "      <td>Zjuzino</td>\n",
              "    </tr>\n",
              "    <tr>\n",
              "      <th>3293</th>\n",
              "      <td>26816</td>\n",
              "      <td>2014-12-18</td>\n",
              "      <td>95</td>\n",
              "      <td>95.00</td>\n",
              "      <td>14.00</td>\n",
              "      <td>1.00</td>\n",
              "      <td>14.00</td>\n",
              "      <td>1.00</td>\n",
              "      <td>2014.00</td>\n",
              "      <td>3.00</td>\n",
              "      <td>95.00</td>\n",
              "      <td>13890</td>\n",
              "      <td>Poselenie Sosenskoe</td>\n",
              "    </tr>\n",
              "    <tr>\n",
              "      <th>3350</th>\n",
              "      <td>27121</td>\n",
              "      <td>2014-12-24</td>\n",
              "      <td>78</td>\n",
              "      <td>23.00</td>\n",
              "      <td>6.00</td>\n",
              "      <td>1.00</td>\n",
              "      <td>40.00</td>\n",
              "      <td>4.00</td>\n",
              "      <td>2014.00</td>\n",
              "      <td>1.00</td>\n",
              "      <td>29.00</td>\n",
              "      <td>1362363</td>\n",
              "      <td>Akademicheskoe</td>\n",
              "    </tr>\n",
              "    <tr>\n",
              "      <th>3454</th>\n",
              "      <td>27571</td>\n",
              "      <td>2015-01-28</td>\n",
              "      <td>87</td>\n",
              "      <td>44.00</td>\n",
              "      <td>5.00</td>\n",
              "      <td>3.00</td>\n",
              "      <td>14.00</td>\n",
              "      <td>6.00</td>\n",
              "      <td>2007.00</td>\n",
              "      <td>2.00</td>\n",
              "      <td>16.00</td>\n",
              "      <td>7122</td>\n",
              "      <td>Poselenie Rjazanovskoe</td>\n",
              "    </tr>\n",
              "    <tr>\n",
              "      <th>3477</th>\n",
              "      <td>15933</td>\n",
              "      <td>2014-03-12</td>\n",
              "      <td>63</td>\n",
              "      <td>60.00</td>\n",
              "      <td>14.00</td>\n",
              "      <td>1.00</td>\n",
              "      <td>20.00</td>\n",
              "      <td>1.00</td>\n",
              "      <td>2015.00</td>\n",
              "      <td>2.00</td>\n",
              "      <td>60.00</td>\n",
              "      <td>9553</td>\n",
              "      <td>Poselenie Voskresenskoe</td>\n",
              "    </tr>\n",
              "    <tr>\n",
              "      <th>3499</th>\n",
              "      <td>18140</td>\n",
              "      <td>2014-05-05</td>\n",
              "      <td>116</td>\n",
              "      <td>77.00</td>\n",
              "      <td>12.00</td>\n",
              "      <td>3.00</td>\n",
              "      <td>17.00</td>\n",
              "      <td>1.00</td>\n",
              "      <td>1998.00</td>\n",
              "      <td>4.00</td>\n",
              "      <td>19.00</td>\n",
              "      <td>37502</td>\n",
              "      <td>Sviblovo</td>\n",
              "    </tr>\n",
              "    <tr>\n",
              "      <th>3618</th>\n",
              "      <td>25307</td>\n",
              "      <td>2014-11-25</td>\n",
              "      <td>160</td>\n",
              "      <td>155.00</td>\n",
              "      <td>3.00</td>\n",
              "      <td>1.00</td>\n",
              "      <td>17.00</td>\n",
              "      <td>4.00</td>\n",
              "      <td>1982.00</td>\n",
              "      <td>4.00</td>\n",
              "      <td>20.00</td>\n",
              "      <td>57999</td>\n",
              "      <td>Presnenskoe</td>\n",
              "    </tr>\n",
              "    <tr>\n",
              "      <th>3659</th>\n",
              "      <td>11792</td>\n",
              "      <td>2013-11-05</td>\n",
              "      <td>78</td>\n",
              "      <td>40.00</td>\n",
              "      <td>2.00</td>\n",
              "      <td>1.00</td>\n",
              "      <td>31.00</td>\n",
              "      <td>4.00</td>\n",
              "      <td>2012.00</td>\n",
              "      <td>2.00</td>\n",
              "      <td>16.00</td>\n",
              "      <td>78507</td>\n",
              "      <td>Kuncevo</td>\n",
              "    </tr>\n",
              "    <tr>\n",
              "      <th>3690</th>\n",
              "      <td>9175</td>\n",
              "      <td>2013-07-12</td>\n",
              "      <td>37</td>\n",
              "      <td>19.00</td>\n",
              "      <td>9.00</td>\n",
              "      <td>2.00</td>\n",
              "      <td>10.00</td>\n",
              "      <td>1.00</td>\n",
              "      <td>2006.00</td>\n",
              "      <td>1.00</td>\n",
              "      <td>73.00</td>\n",
              "      <td>102828</td>\n",
              "      <td>Kosino-Uhtomskoe</td>\n",
              "    </tr>\n",
              "  </tbody>\n",
              "</table>\n",
              "</div>"
            ]
          },
          "metadata": {},
          "execution_count": 70
        }
      ]
    },
    {
      "cell_type": "code",
      "source": [
        "test.kitch_sq = test.kitch_sq.apply(lambda x: 8.0 if x <= 8 or pd.isnull(x) == True or x >= 15 else x) ## заполняем пропуски и несоответствующие значения нормативным значением"
      ],
      "metadata": {
        "id": "E8qA-ugjEpMo"
      },
      "execution_count": 71,
      "outputs": []
    },
    {
      "cell_type": "markdown",
      "source": [
        "### Приведение значений sub_area к числовому типу"
      ],
      "metadata": {
        "id": "OTbFXmMnrLqa"
      }
    },
    {
      "cell_type": "code",
      "source": [
        "le = LabelEncoder()\n",
        "\n",
        "le.fit(train.sub_area.unique())\n",
        "train.sub_area = le.transform(train.sub_area)\n",
        "test.sub_area = le.transform(test.sub_area)"
      ],
      "metadata": {
        "id": "wh4bUlY_rQY4"
      },
      "execution_count": 72,
      "outputs": []
    },
    {
      "cell_type": "markdown",
      "source": [
        "### итог"
      ],
      "metadata": {
        "id": "TTTYwlWTE16i"
      }
    },
    {
      "cell_type": "code",
      "source": [
        "train.info(), test.info()"
      ],
      "metadata": {
        "colab": {
          "base_uri": "https://localhost:8080/"
        },
        "id": "aE0IDsmvE4BM",
        "outputId": "56a86110-9e58-4452-cd1e-1b9c247185df"
      },
      "execution_count": 73,
      "outputs": [
        {
          "output_type": "stream",
          "name": "stdout",
          "text": [
            "<class 'pandas.core.frame.DataFrame'>\n",
            "RangeIndex: 15009 entries, 0 to 15008\n",
            "Data columns (total 14 columns):\n",
            " #   Column      Non-Null Count  Dtype         \n",
            "---  ------      --------------  -----         \n",
            " 0   id          15009 non-null  int64         \n",
            " 1   timestamp   15009 non-null  datetime64[ns]\n",
            " 2   full_sq     15009 non-null  int64         \n",
            " 3   life_sq     15009 non-null  float64       \n",
            " 4   floor       15009 non-null  float64       \n",
            " 5   state       15009 non-null  float64       \n",
            " 6   max_floor   15009 non-null  float64       \n",
            " 7   material    15009 non-null  float64       \n",
            " 8   build_year  15009 non-null  float64       \n",
            " 9   num_room    15009 non-null  float64       \n",
            " 10  kitch_sq    15009 non-null  float64       \n",
            " 11  full_all    15009 non-null  int64         \n",
            " 12  sub_area    15009 non-null  int32         \n",
            " 13  price_doc   15009 non-null  int64         \n",
            "dtypes: datetime64[ns](1), float64(8), int32(1), int64(4)\n",
            "memory usage: 1.5 MB\n",
            "<class 'pandas.core.frame.DataFrame'>\n",
            "RangeIndex: 3774 entries, 0 to 3773\n",
            "Data columns (total 13 columns):\n",
            " #   Column      Non-Null Count  Dtype         \n",
            "---  ------      --------------  -----         \n",
            " 0   id          3774 non-null   int64         \n",
            " 1   timestamp   3774 non-null   datetime64[ns]\n",
            " 2   full_sq     3774 non-null   int64         \n",
            " 3   life_sq     3774 non-null   float64       \n",
            " 4   floor       3774 non-null   float64       \n",
            " 5   state       3774 non-null   float64       \n",
            " 6   max_floor   3774 non-null   float64       \n",
            " 7   material    3774 non-null   float64       \n",
            " 8   build_year  3774 non-null   float64       \n",
            " 9   num_room    3774 non-null   float64       \n",
            " 10  kitch_sq    3774 non-null   float64       \n",
            " 11  full_all    3774 non-null   int64         \n",
            " 12  sub_area    3774 non-null   int32         \n",
            "dtypes: datetime64[ns](1), float64(8), int32(1), int64(3)\n",
            "memory usage: 368.7 KB\n"
          ]
        },
        {
          "output_type": "execute_result",
          "data": {
            "text/plain": [
              "(None, None)"
            ]
          },
          "metadata": {},
          "execution_count": 73
        }
      ]
    },
    {
      "cell_type": "markdown",
      "source": [
        "с пропусками и выбросами разобрались"
      ],
      "metadata": {
        "id": "fzXxvEEjE7LP"
      }
    },
    {
      "cell_type": "markdown",
      "source": [
        "## 2)Добавление колонок из таблицы macro в исходные датафреймы"
      ],
      "metadata": {
        "id": "g1QsY4c46bol"
      }
    },
    {
      "cell_type": "code",
      "source": [
        "macro.timestamp = macro.timestamp.apply(lambda x: pd.to_datetime(x))\n",
        "macro"
      ],
      "metadata": {
        "id": "EWlL9lQCGwQb",
        "colab": {
          "base_uri": "https://localhost:8080/",
          "height": 423
        },
        "outputId": "2b71043d-9914-4752-dd91-a2b662f322a8"
      },
      "execution_count": 74,
      "outputs": [
        {
          "output_type": "execute_result",
          "data": {
            "text/plain": [
              "      timestamp   salary  fixed_basket  rent_price_3room_eco  \\\n",
              "0    2010-01-01 38410.50      11443.63                   NaN   \n",
              "1    2010-01-02 38410.50      11443.63                   NaN   \n",
              "2    2010-01-03 38410.50      11443.63                   NaN   \n",
              "3    2010-01-04 38410.50      11443.63                   NaN   \n",
              "4    2010-01-05 38410.50      11443.63                   NaN   \n",
              "...         ...      ...           ...                   ...   \n",
              "2479 2016-10-15      NaN      20354.78                 45.71   \n",
              "2480 2016-10-16      NaN      20354.78                 45.71   \n",
              "2481 2016-10-17      NaN      20354.78                 45.71   \n",
              "2482 2016-10-18      NaN      20354.78                 45.71   \n",
              "2483 2016-10-19      NaN      20354.78                 45.71   \n",
              "\n",
              "      rent_price_2room_eco  rent_price_1room_eco  average_life_exp  \n",
              "0                      NaN                   NaN             74.20  \n",
              "1                      NaN                   NaN             74.20  \n",
              "2                      NaN                   NaN             74.20  \n",
              "3                      NaN                   NaN             74.20  \n",
              "4                      NaN                   NaN             74.20  \n",
              "...                    ...                   ...               ...  \n",
              "2479                 38.40                 29.78               NaN  \n",
              "2480                 38.40                 29.78               NaN  \n",
              "2481                 38.40                 29.78               NaN  \n",
              "2482                 38.40                 29.78               NaN  \n",
              "2483                 38.40                 29.78               NaN  \n",
              "\n",
              "[2484 rows x 7 columns]"
            ],
            "text/html": [
              "<div>\n",
              "<style scoped>\n",
              "    .dataframe tbody tr th:only-of-type {\n",
              "        vertical-align: middle;\n",
              "    }\n",
              "\n",
              "    .dataframe tbody tr th {\n",
              "        vertical-align: top;\n",
              "    }\n",
              "\n",
              "    .dataframe thead th {\n",
              "        text-align: right;\n",
              "    }\n",
              "</style>\n",
              "<table border=\"1\" class=\"dataframe\">\n",
              "  <thead>\n",
              "    <tr style=\"text-align: right;\">\n",
              "      <th></th>\n",
              "      <th>timestamp</th>\n",
              "      <th>salary</th>\n",
              "      <th>fixed_basket</th>\n",
              "      <th>rent_price_3room_eco</th>\n",
              "      <th>rent_price_2room_eco</th>\n",
              "      <th>rent_price_1room_eco</th>\n",
              "      <th>average_life_exp</th>\n",
              "    </tr>\n",
              "  </thead>\n",
              "  <tbody>\n",
              "    <tr>\n",
              "      <th>0</th>\n",
              "      <td>2010-01-01</td>\n",
              "      <td>38410.50</td>\n",
              "      <td>11443.63</td>\n",
              "      <td>NaN</td>\n",
              "      <td>NaN</td>\n",
              "      <td>NaN</td>\n",
              "      <td>74.20</td>\n",
              "    </tr>\n",
              "    <tr>\n",
              "      <th>1</th>\n",
              "      <td>2010-01-02</td>\n",
              "      <td>38410.50</td>\n",
              "      <td>11443.63</td>\n",
              "      <td>NaN</td>\n",
              "      <td>NaN</td>\n",
              "      <td>NaN</td>\n",
              "      <td>74.20</td>\n",
              "    </tr>\n",
              "    <tr>\n",
              "      <th>2</th>\n",
              "      <td>2010-01-03</td>\n",
              "      <td>38410.50</td>\n",
              "      <td>11443.63</td>\n",
              "      <td>NaN</td>\n",
              "      <td>NaN</td>\n",
              "      <td>NaN</td>\n",
              "      <td>74.20</td>\n",
              "    </tr>\n",
              "    <tr>\n",
              "      <th>3</th>\n",
              "      <td>2010-01-04</td>\n",
              "      <td>38410.50</td>\n",
              "      <td>11443.63</td>\n",
              "      <td>NaN</td>\n",
              "      <td>NaN</td>\n",
              "      <td>NaN</td>\n",
              "      <td>74.20</td>\n",
              "    </tr>\n",
              "    <tr>\n",
              "      <th>4</th>\n",
              "      <td>2010-01-05</td>\n",
              "      <td>38410.50</td>\n",
              "      <td>11443.63</td>\n",
              "      <td>NaN</td>\n",
              "      <td>NaN</td>\n",
              "      <td>NaN</td>\n",
              "      <td>74.20</td>\n",
              "    </tr>\n",
              "    <tr>\n",
              "      <th>...</th>\n",
              "      <td>...</td>\n",
              "      <td>...</td>\n",
              "      <td>...</td>\n",
              "      <td>...</td>\n",
              "      <td>...</td>\n",
              "      <td>...</td>\n",
              "      <td>...</td>\n",
              "    </tr>\n",
              "    <tr>\n",
              "      <th>2479</th>\n",
              "      <td>2016-10-15</td>\n",
              "      <td>NaN</td>\n",
              "      <td>20354.78</td>\n",
              "      <td>45.71</td>\n",
              "      <td>38.40</td>\n",
              "      <td>29.78</td>\n",
              "      <td>NaN</td>\n",
              "    </tr>\n",
              "    <tr>\n",
              "      <th>2480</th>\n",
              "      <td>2016-10-16</td>\n",
              "      <td>NaN</td>\n",
              "      <td>20354.78</td>\n",
              "      <td>45.71</td>\n",
              "      <td>38.40</td>\n",
              "      <td>29.78</td>\n",
              "      <td>NaN</td>\n",
              "    </tr>\n",
              "    <tr>\n",
              "      <th>2481</th>\n",
              "      <td>2016-10-17</td>\n",
              "      <td>NaN</td>\n",
              "      <td>20354.78</td>\n",
              "      <td>45.71</td>\n",
              "      <td>38.40</td>\n",
              "      <td>29.78</td>\n",
              "      <td>NaN</td>\n",
              "    </tr>\n",
              "    <tr>\n",
              "      <th>2482</th>\n",
              "      <td>2016-10-18</td>\n",
              "      <td>NaN</td>\n",
              "      <td>20354.78</td>\n",
              "      <td>45.71</td>\n",
              "      <td>38.40</td>\n",
              "      <td>29.78</td>\n",
              "      <td>NaN</td>\n",
              "    </tr>\n",
              "    <tr>\n",
              "      <th>2483</th>\n",
              "      <td>2016-10-19</td>\n",
              "      <td>NaN</td>\n",
              "      <td>20354.78</td>\n",
              "      <td>45.71</td>\n",
              "      <td>38.40</td>\n",
              "      <td>29.78</td>\n",
              "      <td>NaN</td>\n",
              "    </tr>\n",
              "  </tbody>\n",
              "</table>\n",
              "<p>2484 rows × 7 columns</p>\n",
              "</div>"
            ]
          },
          "metadata": {},
          "execution_count": 74
        }
      ]
    },
    {
      "cell_type": "markdown",
      "source": [
        "### salary"
      ],
      "metadata": {
        "id": "BvaN47BdGHtw"
      }
    },
    {
      "cell_type": "markdown",
      "source": [
        "train"
      ],
      "metadata": {
        "id": "2JaIjVBGGKFA"
      }
    },
    {
      "cell_type": "code",
      "source": [
        "train['salary'] = train.build_year\n",
        "for i in range(train.build_year.shape[0]):\n",
        "  train.at[i, 'salary'] = macro[macro.timestamp == train.timestamp.iloc[i]].salary.iloc[0] ##метчим по дате транзакции и дате, для которой актуальны макро показатели"
      ],
      "metadata": {
        "id": "yEk2HnLWFCSB"
      },
      "execution_count": 244,
      "outputs": []
    },
    {
      "cell_type": "markdown",
      "source": [
        "test\n"
      ],
      "metadata": {
        "id": "8hzidcZLSQWR"
      }
    },
    {
      "cell_type": "code",
      "source": [
        "test['salary'] = test.build_year\n",
        "\n",
        "for i in range(test.build_year.shape[0]):\n",
        "  test.at[i, 'salary'] = macro[macro.timestamp == test.timestamp.iloc[i]].salary.iloc[0]"
      ],
      "metadata": {
        "id": "DVI8BF3cSSFP"
      },
      "execution_count": 76,
      "outputs": []
    },
    {
      "cell_type": "markdown",
      "source": [
        "### fixed_basket"
      ],
      "metadata": {
        "id": "t-NUOPW_SjdJ"
      }
    },
    {
      "cell_type": "markdown",
      "source": [
        "train"
      ],
      "metadata": {
        "id": "wlm1XqLUSptT"
      }
    },
    {
      "cell_type": "code",
      "source": [
        "train['fixed_basket'] = train.build_year\n",
        "\n",
        "for i in range(train.build_year.shape[0]):\n",
        "  train.at[i, 'fixed_basket'] = macro[macro.timestamp == train.timestamp.iloc[i]].fixed_basket.iloc[0]"
      ],
      "metadata": {
        "id": "PJvicf0iWTsl"
      },
      "execution_count": 77,
      "outputs": []
    },
    {
      "cell_type": "markdown",
      "source": [
        "test"
      ],
      "metadata": {
        "id": "rijpOJ9yWaf4"
      }
    },
    {
      "cell_type": "code",
      "source": [
        "test['fixed_basket'] = test.build_year\n",
        "\n",
        "for i in range(test.build_year.shape[0]):\n",
        "  test.at[i, 'fixed_basket'] = macro[macro.timestamp == test.timestamp.iloc[i]].fixed_basket.iloc[0]"
      ],
      "metadata": {
        "id": "wgXcq0TbWbHw"
      },
      "execution_count": 78,
      "outputs": []
    },
    {
      "cell_type": "markdown",
      "source": [
        "### rent_price_3room_eco"
      ],
      "metadata": {
        "id": "Uw2gczfXWn3t"
      }
    },
    {
      "cell_type": "markdown",
      "source": [
        "train"
      ],
      "metadata": {
        "id": "X39y4GB4Wwc5"
      }
    },
    {
      "cell_type": "code",
      "source": [
        "train['rent_price_3room_eco'] = train.build_year\n",
        "\n",
        "for i in range(train.build_year.shape[0]):\n",
        "  train.at[i, 'rent_price_3room_eco'] = macro[macro.timestamp == train.timestamp.iloc[i]].rent_price_3room_eco.iloc[0]"
      ],
      "metadata": {
        "id": "oi45A-h3WvMJ"
      },
      "execution_count": 79,
      "outputs": []
    },
    {
      "cell_type": "markdown",
      "source": [
        "test"
      ],
      "metadata": {
        "id": "QkrHaFoWWzu8"
      }
    },
    {
      "cell_type": "code",
      "source": [
        "test['rent_price_3room_eco'] = test.build_year\n",
        "\n",
        "for i in range(test.build_year.shape[0]):\n",
        "  test.at[i, 'rent_price_3room_eco'] = macro[macro.timestamp == test.timestamp.iloc[i]].rent_price_3room_eco.iloc[0]"
      ],
      "metadata": {
        "id": "QFNOZITyW0bE"
      },
      "execution_count": 80,
      "outputs": []
    },
    {
      "cell_type": "markdown",
      "source": [
        "### rent_price_2room_eco"
      ],
      "metadata": {
        "id": "X7ivhaJIW2hq"
      }
    },
    {
      "cell_type": "markdown",
      "source": [
        "train"
      ],
      "metadata": {
        "id": "VgCSbo_GW7TS"
      }
    },
    {
      "cell_type": "code",
      "source": [
        "train['rent_price_2room_eco'] = train.build_year\n",
        "\n",
        "for i in range(train.build_year.shape[0]):\n",
        "  train.at[i, 'rent_price_2room_eco'] = macro[macro.timestamp == train.timestamp.iloc[i]].rent_price_2room_eco.iloc[0]"
      ],
      "metadata": {
        "id": "5CH5MKs5W8r9"
      },
      "execution_count": 81,
      "outputs": []
    },
    {
      "cell_type": "markdown",
      "source": [
        "test"
      ],
      "metadata": {
        "id": "hABsa5iaXAJv"
      }
    },
    {
      "cell_type": "code",
      "source": [
        "test['rent_price_2room_eco'] = test.build_year\n",
        "\n",
        "for i in range(test.build_year.shape[0]):\n",
        "  test.at[i, 'rent_price_2room_eco'] = macro[macro.timestamp == test.timestamp.iloc[i]].rent_price_2room_eco.iloc[0]"
      ],
      "metadata": {
        "id": "L6Vu75uEXA3r"
      },
      "execution_count": 82,
      "outputs": []
    },
    {
      "cell_type": "markdown",
      "source": [
        "### rent_price_1room_eco"
      ],
      "metadata": {
        "id": "2CtiJQeXXFCp"
      }
    },
    {
      "cell_type": "markdown",
      "source": [
        "train"
      ],
      "metadata": {
        "id": "y23seLacfe5j"
      }
    },
    {
      "cell_type": "code",
      "source": [
        "train['rent_price_1room_eco'] = train.build_year\n",
        "\n",
        "for i in range(train.build_year.shape[0]):\n",
        "  train.at[i, 'rent_price_1room_eco'] = macro[macro.timestamp == train.timestamp.iloc[i]].rent_price_1room_eco.iloc[0]"
      ],
      "metadata": {
        "id": "601ne3_KXLRh"
      },
      "execution_count": 83,
      "outputs": []
    },
    {
      "cell_type": "markdown",
      "source": [
        "test"
      ],
      "metadata": {
        "id": "VJaql4GpfgH-"
      }
    },
    {
      "cell_type": "code",
      "source": [
        "test['rent_price_1room_eco'] = test.build_year\n",
        "\n",
        "for i in range(test.build_year.shape[0]):\n",
        "  test.at[i, 'rent_price_1room_eco'] = macro[macro.timestamp == test.timestamp.iloc[i]].rent_price_1room_eco.iloc[0]"
      ],
      "metadata": {
        "id": "pcsnM08LfhCG"
      },
      "execution_count": 84,
      "outputs": []
    },
    {
      "cell_type": "markdown",
      "source": [
        "### average_life_exp"
      ],
      "metadata": {
        "id": "4JXClfgufjGw"
      }
    },
    {
      "cell_type": "markdown",
      "source": [
        "train"
      ],
      "metadata": {
        "id": "Zd4ZNDtNfntd"
      }
    },
    {
      "cell_type": "code",
      "source": [
        "train['average_life_exp'] = train.build_year\n",
        "\n",
        "for i in range(train.build_year.shape[0]):\n",
        "  train.at[i, 'average_life_exp'] = macro[macro.timestamp == train.timestamp.iloc[i]].average_life_exp.iloc[0]"
      ],
      "metadata": {
        "id": "3jHz_v5VfnUt"
      },
      "execution_count": 85,
      "outputs": []
    },
    {
      "cell_type": "markdown",
      "source": [
        "test"
      ],
      "metadata": {
        "id": "Pq0jW9BJfsfT"
      }
    },
    {
      "cell_type": "code",
      "source": [
        "test['average_life_exp'] = test.build_year\n",
        "\n",
        "for i in range(test.build_year.shape[0]):\n",
        "  test.at[i, 'average_life_exp'] = macro[macro.timestamp == test.timestamp.iloc[i]].average_life_exp.iloc[0]"
      ],
      "metadata": {
        "id": "B2kuf9wRftSc"
      },
      "execution_count": 86,
      "outputs": []
    },
    {
      "cell_type": "markdown",
      "source": [
        "### Итог"
      ],
      "metadata": {
        "id": "Kd9P-hndfyg0"
      }
    },
    {
      "cell_type": "code",
      "source": [
        "train"
      ],
      "metadata": {
        "colab": {
          "base_uri": "https://localhost:8080/",
          "height": 617
        },
        "id": "PB7_xXH9jLwJ",
        "outputId": "6d782e54-011a-45f6-9db2-cf6b96e87382"
      },
      "execution_count": 87,
      "outputs": [
        {
          "output_type": "execute_result",
          "data": {
            "text/plain": [
              "          id  timestamp  full_sq  life_sq  floor  state  max_floor  material  \\\n",
              "0      13324 2013-12-23       42    28.00   8.00   2.00       9.00      1.00   \n",
              "1      10064 2013-08-26       55    41.00   4.00   3.00       5.00      2.00   \n",
              "2      12022 2013-11-11       43    29.00   4.00   2.00       5.00      2.00   \n",
              "3      10186 2013-08-30       62    35.00  15.00   2.00      22.00      1.00   \n",
              "4      30052 2015-05-29       80    55.00  15.00   1.00      24.00      6.00   \n",
              "...      ...        ...      ...      ...    ...    ...        ...       ...   \n",
              "15004  23382 2014-10-08       69    48.00   2.00   2.00       4.00      2.00   \n",
              "15005  24264 2014-10-31       78    75.00   4.00   1.00      17.00      1.00   \n",
              "15006  16165 2014-03-18       38    30.40  15.00   3.00      17.00      1.00   \n",
              "15007  10635 2013-09-20       54    32.00  11.00   3.00      16.00      1.00   \n",
              "15008  29081 2015-04-13      154   108.00  14.00   3.00      18.00      4.00   \n",
              "\n",
              "       build_year  num_room  kitch_sq  full_all  sub_area  price_doc   salary  \\\n",
              "0         1969.00      2.00      8.00     43795        83    7100000 55485.20   \n",
              "1         1960.00      3.00      8.00     21040        23   11500000 55485.20   \n",
              "2         1960.00      2.00      8.00    157010        33    5800000 55485.20   \n",
              "3         1985.00      2.00     10.00    178264        37   11400000 55485.20   \n",
              "4         2017.00      3.00     12.00     76284        70   12697154 64310.00   \n",
              "...           ...       ...       ...       ...       ...        ...      ...   \n",
              "15004     1950.00      3.00      8.00    101982       129    9100000 61208.00   \n",
              "15005     2014.00      3.00      8.00    247469        72    7722400 61208.00   \n",
              "15006     1990.00      1.00      8.00    101708        41    7000000 61208.00   \n",
              "15007     1979.00      2.00      9.00    178264        37    7000000 55485.20   \n",
              "15008     2006.00      4.00      8.00     80791        31   50000000 64310.00   \n",
              "\n",
              "       fixed_basket  rent_price_3room_eco  rent_price_2room_eco  \\\n",
              "0          15417.34                 48.50                 42.00   \n",
              "1          15241.93                 48.22                 42.33   \n",
              "2          15367.58                 49.29                 42.02   \n",
              "3          15241.93                 48.22                 42.33   \n",
              "4          18745.28                 50.42                 39.16   \n",
              "...             ...                   ...                   ...   \n",
              "15004      16269.79                 52.82                 43.85   \n",
              "15005      16269.79                 52.82                 43.85   \n",
              "15006      15916.88                 49.75                 41.91   \n",
              "15007      15215.84                 49.12                 42.10   \n",
              "15008      18642.71                 50.36                 39.92   \n",
              "\n",
              "       rent_price_1room_eco  average_life_exp  \n",
              "0                     33.97             76.37  \n",
              "1                     33.15             76.37  \n",
              "2                     34.55             76.37  \n",
              "3                     33.15             76.37  \n",
              "4                     31.09             76.77  \n",
              "...                     ...               ...  \n",
              "15004                 35.37             76.70  \n",
              "15005                 35.37             76.70  \n",
              "15006                 33.26             76.70  \n",
              "15007                 34.53             76.37  \n",
              "15008                 31.41             76.77  \n",
              "\n",
              "[15009 rows x 20 columns]"
            ],
            "text/html": [
              "<div>\n",
              "<style scoped>\n",
              "    .dataframe tbody tr th:only-of-type {\n",
              "        vertical-align: middle;\n",
              "    }\n",
              "\n",
              "    .dataframe tbody tr th {\n",
              "        vertical-align: top;\n",
              "    }\n",
              "\n",
              "    .dataframe thead th {\n",
              "        text-align: right;\n",
              "    }\n",
              "</style>\n",
              "<table border=\"1\" class=\"dataframe\">\n",
              "  <thead>\n",
              "    <tr style=\"text-align: right;\">\n",
              "      <th></th>\n",
              "      <th>id</th>\n",
              "      <th>timestamp</th>\n",
              "      <th>full_sq</th>\n",
              "      <th>life_sq</th>\n",
              "      <th>floor</th>\n",
              "      <th>state</th>\n",
              "      <th>max_floor</th>\n",
              "      <th>material</th>\n",
              "      <th>build_year</th>\n",
              "      <th>num_room</th>\n",
              "      <th>kitch_sq</th>\n",
              "      <th>full_all</th>\n",
              "      <th>sub_area</th>\n",
              "      <th>price_doc</th>\n",
              "      <th>salary</th>\n",
              "      <th>fixed_basket</th>\n",
              "      <th>rent_price_3room_eco</th>\n",
              "      <th>rent_price_2room_eco</th>\n",
              "      <th>rent_price_1room_eco</th>\n",
              "      <th>average_life_exp</th>\n",
              "    </tr>\n",
              "  </thead>\n",
              "  <tbody>\n",
              "    <tr>\n",
              "      <th>0</th>\n",
              "      <td>13324</td>\n",
              "      <td>2013-12-23</td>\n",
              "      <td>42</td>\n",
              "      <td>28.00</td>\n",
              "      <td>8.00</td>\n",
              "      <td>2.00</td>\n",
              "      <td>9.00</td>\n",
              "      <td>1.00</td>\n",
              "      <td>1969.00</td>\n",
              "      <td>2.00</td>\n",
              "      <td>8.00</td>\n",
              "      <td>43795</td>\n",
              "      <td>83</td>\n",
              "      <td>7100000</td>\n",
              "      <td>55485.20</td>\n",
              "      <td>15417.34</td>\n",
              "      <td>48.50</td>\n",
              "      <td>42.00</td>\n",
              "      <td>33.97</td>\n",
              "      <td>76.37</td>\n",
              "    </tr>\n",
              "    <tr>\n",
              "      <th>1</th>\n",
              "      <td>10064</td>\n",
              "      <td>2013-08-26</td>\n",
              "      <td>55</td>\n",
              "      <td>41.00</td>\n",
              "      <td>4.00</td>\n",
              "      <td>3.00</td>\n",
              "      <td>5.00</td>\n",
              "      <td>2.00</td>\n",
              "      <td>1960.00</td>\n",
              "      <td>3.00</td>\n",
              "      <td>8.00</td>\n",
              "      <td>21040</td>\n",
              "      <td>23</td>\n",
              "      <td>11500000</td>\n",
              "      <td>55485.20</td>\n",
              "      <td>15241.93</td>\n",
              "      <td>48.22</td>\n",
              "      <td>42.33</td>\n",
              "      <td>33.15</td>\n",
              "      <td>76.37</td>\n",
              "    </tr>\n",
              "    <tr>\n",
              "      <th>2</th>\n",
              "      <td>12022</td>\n",
              "      <td>2013-11-11</td>\n",
              "      <td>43</td>\n",
              "      <td>29.00</td>\n",
              "      <td>4.00</td>\n",
              "      <td>2.00</td>\n",
              "      <td>5.00</td>\n",
              "      <td>2.00</td>\n",
              "      <td>1960.00</td>\n",
              "      <td>2.00</td>\n",
              "      <td>8.00</td>\n",
              "      <td>157010</td>\n",
              "      <td>33</td>\n",
              "      <td>5800000</td>\n",
              "      <td>55485.20</td>\n",
              "      <td>15367.58</td>\n",
              "      <td>49.29</td>\n",
              "      <td>42.02</td>\n",
              "      <td>34.55</td>\n",
              "      <td>76.37</td>\n",
              "    </tr>\n",
              "    <tr>\n",
              "      <th>3</th>\n",
              "      <td>10186</td>\n",
              "      <td>2013-08-30</td>\n",
              "      <td>62</td>\n",
              "      <td>35.00</td>\n",
              "      <td>15.00</td>\n",
              "      <td>2.00</td>\n",
              "      <td>22.00</td>\n",
              "      <td>1.00</td>\n",
              "      <td>1985.00</td>\n",
              "      <td>2.00</td>\n",
              "      <td>10.00</td>\n",
              "      <td>178264</td>\n",
              "      <td>37</td>\n",
              "      <td>11400000</td>\n",
              "      <td>55485.20</td>\n",
              "      <td>15241.93</td>\n",
              "      <td>48.22</td>\n",
              "      <td>42.33</td>\n",
              "      <td>33.15</td>\n",
              "      <td>76.37</td>\n",
              "    </tr>\n",
              "    <tr>\n",
              "      <th>4</th>\n",
              "      <td>30052</td>\n",
              "      <td>2015-05-29</td>\n",
              "      <td>80</td>\n",
              "      <td>55.00</td>\n",
              "      <td>15.00</td>\n",
              "      <td>1.00</td>\n",
              "      <td>24.00</td>\n",
              "      <td>6.00</td>\n",
              "      <td>2017.00</td>\n",
              "      <td>3.00</td>\n",
              "      <td>12.00</td>\n",
              "      <td>76284</td>\n",
              "      <td>70</td>\n",
              "      <td>12697154</td>\n",
              "      <td>64310.00</td>\n",
              "      <td>18745.28</td>\n",
              "      <td>50.42</td>\n",
              "      <td>39.16</td>\n",
              "      <td>31.09</td>\n",
              "      <td>76.77</td>\n",
              "    </tr>\n",
              "    <tr>\n",
              "      <th>...</th>\n",
              "      <td>...</td>\n",
              "      <td>...</td>\n",
              "      <td>...</td>\n",
              "      <td>...</td>\n",
              "      <td>...</td>\n",
              "      <td>...</td>\n",
              "      <td>...</td>\n",
              "      <td>...</td>\n",
              "      <td>...</td>\n",
              "      <td>...</td>\n",
              "      <td>...</td>\n",
              "      <td>...</td>\n",
              "      <td>...</td>\n",
              "      <td>...</td>\n",
              "      <td>...</td>\n",
              "      <td>...</td>\n",
              "      <td>...</td>\n",
              "      <td>...</td>\n",
              "      <td>...</td>\n",
              "      <td>...</td>\n",
              "    </tr>\n",
              "    <tr>\n",
              "      <th>15004</th>\n",
              "      <td>23382</td>\n",
              "      <td>2014-10-08</td>\n",
              "      <td>69</td>\n",
              "      <td>48.00</td>\n",
              "      <td>2.00</td>\n",
              "      <td>2.00</td>\n",
              "      <td>4.00</td>\n",
              "      <td>2.00</td>\n",
              "      <td>1950.00</td>\n",
              "      <td>3.00</td>\n",
              "      <td>8.00</td>\n",
              "      <td>101982</td>\n",
              "      <td>129</td>\n",
              "      <td>9100000</td>\n",
              "      <td>61208.00</td>\n",
              "      <td>16269.79</td>\n",
              "      <td>52.82</td>\n",
              "      <td>43.85</td>\n",
              "      <td>35.37</td>\n",
              "      <td>76.70</td>\n",
              "    </tr>\n",
              "    <tr>\n",
              "      <th>15005</th>\n",
              "      <td>24264</td>\n",
              "      <td>2014-10-31</td>\n",
              "      <td>78</td>\n",
              "      <td>75.00</td>\n",
              "      <td>4.00</td>\n",
              "      <td>1.00</td>\n",
              "      <td>17.00</td>\n",
              "      <td>1.00</td>\n",
              "      <td>2014.00</td>\n",
              "      <td>3.00</td>\n",
              "      <td>8.00</td>\n",
              "      <td>247469</td>\n",
              "      <td>72</td>\n",
              "      <td>7722400</td>\n",
              "      <td>61208.00</td>\n",
              "      <td>16269.79</td>\n",
              "      <td>52.82</td>\n",
              "      <td>43.85</td>\n",
              "      <td>35.37</td>\n",
              "      <td>76.70</td>\n",
              "    </tr>\n",
              "    <tr>\n",
              "      <th>15006</th>\n",
              "      <td>16165</td>\n",
              "      <td>2014-03-18</td>\n",
              "      <td>38</td>\n",
              "      <td>30.40</td>\n",
              "      <td>15.00</td>\n",
              "      <td>3.00</td>\n",
              "      <td>17.00</td>\n",
              "      <td>1.00</td>\n",
              "      <td>1990.00</td>\n",
              "      <td>1.00</td>\n",
              "      <td>8.00</td>\n",
              "      <td>101708</td>\n",
              "      <td>41</td>\n",
              "      <td>7000000</td>\n",
              "      <td>61208.00</td>\n",
              "      <td>15916.88</td>\n",
              "      <td>49.75</td>\n",
              "      <td>41.91</td>\n",
              "      <td>33.26</td>\n",
              "      <td>76.70</td>\n",
              "    </tr>\n",
              "    <tr>\n",
              "      <th>15007</th>\n",
              "      <td>10635</td>\n",
              "      <td>2013-09-20</td>\n",
              "      <td>54</td>\n",
              "      <td>32.00</td>\n",
              "      <td>11.00</td>\n",
              "      <td>3.00</td>\n",
              "      <td>16.00</td>\n",
              "      <td>1.00</td>\n",
              "      <td>1979.00</td>\n",
              "      <td>2.00</td>\n",
              "      <td>9.00</td>\n",
              "      <td>178264</td>\n",
              "      <td>37</td>\n",
              "      <td>7000000</td>\n",
              "      <td>55485.20</td>\n",
              "      <td>15215.84</td>\n",
              "      <td>49.12</td>\n",
              "      <td>42.10</td>\n",
              "      <td>34.53</td>\n",
              "      <td>76.37</td>\n",
              "    </tr>\n",
              "    <tr>\n",
              "      <th>15008</th>\n",
              "      <td>29081</td>\n",
              "      <td>2015-04-13</td>\n",
              "      <td>154</td>\n",
              "      <td>108.00</td>\n",
              "      <td>14.00</td>\n",
              "      <td>3.00</td>\n",
              "      <td>18.00</td>\n",
              "      <td>4.00</td>\n",
              "      <td>2006.00</td>\n",
              "      <td>4.00</td>\n",
              "      <td>8.00</td>\n",
              "      <td>80791</td>\n",
              "      <td>31</td>\n",
              "      <td>50000000</td>\n",
              "      <td>64310.00</td>\n",
              "      <td>18642.71</td>\n",
              "      <td>50.36</td>\n",
              "      <td>39.92</td>\n",
              "      <td>31.41</td>\n",
              "      <td>76.77</td>\n",
              "    </tr>\n",
              "  </tbody>\n",
              "</table>\n",
              "<p>15009 rows × 20 columns</p>\n",
              "</div>"
            ]
          },
          "metadata": {},
          "execution_count": 87
        }
      ]
    },
    {
      "cell_type": "code",
      "source": [
        "train.info(), test.info()"
      ],
      "metadata": {
        "colab": {
          "base_uri": "https://localhost:8080/"
        },
        "id": "i8nH7kwPfz8b",
        "outputId": "c0f13673-ea76-472a-b24c-dfa656e2a6c4"
      },
      "execution_count": 88,
      "outputs": [
        {
          "output_type": "stream",
          "name": "stdout",
          "text": [
            "<class 'pandas.core.frame.DataFrame'>\n",
            "RangeIndex: 15009 entries, 0 to 15008\n",
            "Data columns (total 20 columns):\n",
            " #   Column                Non-Null Count  Dtype         \n",
            "---  ------                --------------  -----         \n",
            " 0   id                    15009 non-null  int64         \n",
            " 1   timestamp             15009 non-null  datetime64[ns]\n",
            " 2   full_sq               15009 non-null  int64         \n",
            " 3   life_sq               15009 non-null  float64       \n",
            " 4   floor                 15009 non-null  float64       \n",
            " 5   state                 15009 non-null  float64       \n",
            " 6   max_floor             15009 non-null  float64       \n",
            " 7   material              15009 non-null  float64       \n",
            " 8   build_year            15009 non-null  float64       \n",
            " 9   num_room              15009 non-null  float64       \n",
            " 10  kitch_sq              15009 non-null  float64       \n",
            " 11  full_all              15009 non-null  int64         \n",
            " 12  sub_area              15009 non-null  int32         \n",
            " 13  price_doc             15009 non-null  int64         \n",
            " 14  salary                15009 non-null  float64       \n",
            " 15  fixed_basket          15009 non-null  float64       \n",
            " 16  rent_price_3room_eco  15009 non-null  float64       \n",
            " 17  rent_price_2room_eco  15009 non-null  float64       \n",
            " 18  rent_price_1room_eco  15009 non-null  float64       \n",
            " 19  average_life_exp      15009 non-null  float64       \n",
            "dtypes: datetime64[ns](1), float64(14), int32(1), int64(4)\n",
            "memory usage: 2.2 MB\n",
            "<class 'pandas.core.frame.DataFrame'>\n",
            "RangeIndex: 3774 entries, 0 to 3773\n",
            "Data columns (total 19 columns):\n",
            " #   Column                Non-Null Count  Dtype         \n",
            "---  ------                --------------  -----         \n",
            " 0   id                    3774 non-null   int64         \n",
            " 1   timestamp             3774 non-null   datetime64[ns]\n",
            " 2   full_sq               3774 non-null   int64         \n",
            " 3   life_sq               3774 non-null   float64       \n",
            " 4   floor                 3774 non-null   float64       \n",
            " 5   state                 3774 non-null   float64       \n",
            " 6   max_floor             3774 non-null   float64       \n",
            " 7   material              3774 non-null   float64       \n",
            " 8   build_year            3774 non-null   float64       \n",
            " 9   num_room              3774 non-null   float64       \n",
            " 10  kitch_sq              3774 non-null   float64       \n",
            " 11  full_all              3774 non-null   int64         \n",
            " 12  sub_area              3774 non-null   int32         \n",
            " 13  salary                3774 non-null   float64       \n",
            " 14  fixed_basket          3774 non-null   float64       \n",
            " 15  rent_price_3room_eco  3774 non-null   float64       \n",
            " 16  rent_price_2room_eco  3774 non-null   float64       \n",
            " 17  rent_price_1room_eco  3774 non-null   float64       \n",
            " 18  average_life_exp      3774 non-null   float64       \n",
            "dtypes: datetime64[ns](1), float64(14), int32(1), int64(3)\n",
            "memory usage: 545.6 KB\n"
          ]
        },
        {
          "output_type": "execute_result",
          "data": {
            "text/plain": [
              "(None, None)"
            ]
          },
          "metadata": {},
          "execution_count": 88
        }
      ]
    },
    {
      "cell_type": "markdown",
      "source": [
        "# 2.Модификация существующих признаков"
      ],
      "metadata": {
        "id": "HnaZThSXsL6E"
      }
    },
    {
      "cell_type": "markdown",
      "source": [
        "## Изменение типов признаков для увеличения скорости обработки\n"
      ],
      "metadata": {
        "id": "tJzyyctcslHM"
      }
    },
    {
      "cell_type": "markdown",
      "source": [
        "train"
      ],
      "metadata": {
        "id": "JlhqWqw0s4Om"
      }
    },
    {
      "cell_type": "code",
      "source": [
        "train.head(10)"
      ],
      "metadata": {
        "colab": {
          "base_uri": "https://localhost:8080/",
          "height": 556
        },
        "id": "d5mhWU40s3KL",
        "outputId": "9971a9b1-91cb-4998-b367-c0063fd7b73d"
      },
      "execution_count": 89,
      "outputs": [
        {
          "output_type": "execute_result",
          "data": {
            "text/plain": [
              "      id  timestamp  full_sq  life_sq  floor  state  max_floor  material  \\\n",
              "0  13324 2013-12-23       42    28.00   8.00   2.00       9.00      1.00   \n",
              "1  10064 2013-08-26       55    41.00   4.00   3.00       5.00      2.00   \n",
              "2  12022 2013-11-11       43    29.00   4.00   2.00       5.00      2.00   \n",
              "3  10186 2013-08-30       62    35.00  15.00   2.00      22.00      1.00   \n",
              "4  30052 2015-05-29       80    55.00  15.00   1.00      24.00      6.00   \n",
              "5  10073 2013-08-26       42    33.60  19.00   2.00      23.00      1.00   \n",
              "6  23912 2014-10-24       32    25.60   1.00   3.00       9.00      1.00   \n",
              "7  21173 2014-07-30       37    29.60   7.00   3.00      17.00      1.00   \n",
              "8  24816 2014-11-17       51    40.00   6.00   4.00       9.00      1.00   \n",
              "9  17345 2014-04-14       37    29.60   5.00   3.00      16.00      1.00   \n",
              "\n",
              "   build_year  num_room  kitch_sq  full_all  sub_area  price_doc   salary  \\\n",
              "0     1969.00      2.00      8.00     43795        83    7100000 55485.20   \n",
              "1     1960.00      3.00      8.00     21040        23   11500000 55485.20   \n",
              "2     1960.00      2.00      8.00    157010        33    5800000 55485.20   \n",
              "3     1985.00      2.00     10.00    178264        37   11400000 55485.20   \n",
              "4     2017.00      3.00     12.00     76284        70   12697154 64310.00   \n",
              "5     2006.00      1.00     10.00     83369       110    2000000 55485.20   \n",
              "6     1970.00      1.00      8.00    145576        15    5700000 61208.00   \n",
              "7     1986.00      1.00      8.00    123000        43    7850000 61208.00   \n",
              "8     1969.00      3.00      8.00    157010        33    9500000 61208.00   \n",
              "9     1984.00      1.00      9.00   1318695       141    6100000 61208.00   \n",
              "\n",
              "   fixed_basket  rent_price_3room_eco  rent_price_2room_eco  \\\n",
              "0      15417.34                 48.50                 42.00   \n",
              "1      15241.93                 48.22                 42.33   \n",
              "2      15367.58                 49.29                 42.02   \n",
              "3      15241.93                 48.22                 42.33   \n",
              "4      18745.28                 50.42                 39.16   \n",
              "5      15241.93                 48.22                 42.33   \n",
              "6      16269.79                 52.82                 43.85   \n",
              "7      16251.41                 50.93                 41.97   \n",
              "8      16648.70                 53.21                 43.23   \n",
              "9      16041.58                 49.32                 40.95   \n",
              "\n",
              "   rent_price_1room_eco  average_life_exp  \n",
              "0                 33.97             76.37  \n",
              "1                 33.15             76.37  \n",
              "2                 34.55             76.37  \n",
              "3                 33.15             76.37  \n",
              "4                 31.09             76.77  \n",
              "5                 33.15             76.37  \n",
              "6                 35.37             76.70  \n",
              "7                 33.67             76.70  \n",
              "8                 34.30             76.70  \n",
              "9                 32.96             76.70  "
            ],
            "text/html": [
              "<div>\n",
              "<style scoped>\n",
              "    .dataframe tbody tr th:only-of-type {\n",
              "        vertical-align: middle;\n",
              "    }\n",
              "\n",
              "    .dataframe tbody tr th {\n",
              "        vertical-align: top;\n",
              "    }\n",
              "\n",
              "    .dataframe thead th {\n",
              "        text-align: right;\n",
              "    }\n",
              "</style>\n",
              "<table border=\"1\" class=\"dataframe\">\n",
              "  <thead>\n",
              "    <tr style=\"text-align: right;\">\n",
              "      <th></th>\n",
              "      <th>id</th>\n",
              "      <th>timestamp</th>\n",
              "      <th>full_sq</th>\n",
              "      <th>life_sq</th>\n",
              "      <th>floor</th>\n",
              "      <th>state</th>\n",
              "      <th>max_floor</th>\n",
              "      <th>material</th>\n",
              "      <th>build_year</th>\n",
              "      <th>num_room</th>\n",
              "      <th>kitch_sq</th>\n",
              "      <th>full_all</th>\n",
              "      <th>sub_area</th>\n",
              "      <th>price_doc</th>\n",
              "      <th>salary</th>\n",
              "      <th>fixed_basket</th>\n",
              "      <th>rent_price_3room_eco</th>\n",
              "      <th>rent_price_2room_eco</th>\n",
              "      <th>rent_price_1room_eco</th>\n",
              "      <th>average_life_exp</th>\n",
              "    </tr>\n",
              "  </thead>\n",
              "  <tbody>\n",
              "    <tr>\n",
              "      <th>0</th>\n",
              "      <td>13324</td>\n",
              "      <td>2013-12-23</td>\n",
              "      <td>42</td>\n",
              "      <td>28.00</td>\n",
              "      <td>8.00</td>\n",
              "      <td>2.00</td>\n",
              "      <td>9.00</td>\n",
              "      <td>1.00</td>\n",
              "      <td>1969.00</td>\n",
              "      <td>2.00</td>\n",
              "      <td>8.00</td>\n",
              "      <td>43795</td>\n",
              "      <td>83</td>\n",
              "      <td>7100000</td>\n",
              "      <td>55485.20</td>\n",
              "      <td>15417.34</td>\n",
              "      <td>48.50</td>\n",
              "      <td>42.00</td>\n",
              "      <td>33.97</td>\n",
              "      <td>76.37</td>\n",
              "    </tr>\n",
              "    <tr>\n",
              "      <th>1</th>\n",
              "      <td>10064</td>\n",
              "      <td>2013-08-26</td>\n",
              "      <td>55</td>\n",
              "      <td>41.00</td>\n",
              "      <td>4.00</td>\n",
              "      <td>3.00</td>\n",
              "      <td>5.00</td>\n",
              "      <td>2.00</td>\n",
              "      <td>1960.00</td>\n",
              "      <td>3.00</td>\n",
              "      <td>8.00</td>\n",
              "      <td>21040</td>\n",
              "      <td>23</td>\n",
              "      <td>11500000</td>\n",
              "      <td>55485.20</td>\n",
              "      <td>15241.93</td>\n",
              "      <td>48.22</td>\n",
              "      <td>42.33</td>\n",
              "      <td>33.15</td>\n",
              "      <td>76.37</td>\n",
              "    </tr>\n",
              "    <tr>\n",
              "      <th>2</th>\n",
              "      <td>12022</td>\n",
              "      <td>2013-11-11</td>\n",
              "      <td>43</td>\n",
              "      <td>29.00</td>\n",
              "      <td>4.00</td>\n",
              "      <td>2.00</td>\n",
              "      <td>5.00</td>\n",
              "      <td>2.00</td>\n",
              "      <td>1960.00</td>\n",
              "      <td>2.00</td>\n",
              "      <td>8.00</td>\n",
              "      <td>157010</td>\n",
              "      <td>33</td>\n",
              "      <td>5800000</td>\n",
              "      <td>55485.20</td>\n",
              "      <td>15367.58</td>\n",
              "      <td>49.29</td>\n",
              "      <td>42.02</td>\n",
              "      <td>34.55</td>\n",
              "      <td>76.37</td>\n",
              "    </tr>\n",
              "    <tr>\n",
              "      <th>3</th>\n",
              "      <td>10186</td>\n",
              "      <td>2013-08-30</td>\n",
              "      <td>62</td>\n",
              "      <td>35.00</td>\n",
              "      <td>15.00</td>\n",
              "      <td>2.00</td>\n",
              "      <td>22.00</td>\n",
              "      <td>1.00</td>\n",
              "      <td>1985.00</td>\n",
              "      <td>2.00</td>\n",
              "      <td>10.00</td>\n",
              "      <td>178264</td>\n",
              "      <td>37</td>\n",
              "      <td>11400000</td>\n",
              "      <td>55485.20</td>\n",
              "      <td>15241.93</td>\n",
              "      <td>48.22</td>\n",
              "      <td>42.33</td>\n",
              "      <td>33.15</td>\n",
              "      <td>76.37</td>\n",
              "    </tr>\n",
              "    <tr>\n",
              "      <th>4</th>\n",
              "      <td>30052</td>\n",
              "      <td>2015-05-29</td>\n",
              "      <td>80</td>\n",
              "      <td>55.00</td>\n",
              "      <td>15.00</td>\n",
              "      <td>1.00</td>\n",
              "      <td>24.00</td>\n",
              "      <td>6.00</td>\n",
              "      <td>2017.00</td>\n",
              "      <td>3.00</td>\n",
              "      <td>12.00</td>\n",
              "      <td>76284</td>\n",
              "      <td>70</td>\n",
              "      <td>12697154</td>\n",
              "      <td>64310.00</td>\n",
              "      <td>18745.28</td>\n",
              "      <td>50.42</td>\n",
              "      <td>39.16</td>\n",
              "      <td>31.09</td>\n",
              "      <td>76.77</td>\n",
              "    </tr>\n",
              "    <tr>\n",
              "      <th>5</th>\n",
              "      <td>10073</td>\n",
              "      <td>2013-08-26</td>\n",
              "      <td>42</td>\n",
              "      <td>33.60</td>\n",
              "      <td>19.00</td>\n",
              "      <td>2.00</td>\n",
              "      <td>23.00</td>\n",
              "      <td>1.00</td>\n",
              "      <td>2006.00</td>\n",
              "      <td>1.00</td>\n",
              "      <td>10.00</td>\n",
              "      <td>83369</td>\n",
              "      <td>110</td>\n",
              "      <td>2000000</td>\n",
              "      <td>55485.20</td>\n",
              "      <td>15241.93</td>\n",
              "      <td>48.22</td>\n",
              "      <td>42.33</td>\n",
              "      <td>33.15</td>\n",
              "      <td>76.37</td>\n",
              "    </tr>\n",
              "    <tr>\n",
              "      <th>6</th>\n",
              "      <td>23912</td>\n",
              "      <td>2014-10-24</td>\n",
              "      <td>32</td>\n",
              "      <td>25.60</td>\n",
              "      <td>1.00</td>\n",
              "      <td>3.00</td>\n",
              "      <td>9.00</td>\n",
              "      <td>1.00</td>\n",
              "      <td>1970.00</td>\n",
              "      <td>1.00</td>\n",
              "      <td>8.00</td>\n",
              "      <td>145576</td>\n",
              "      <td>15</td>\n",
              "      <td>5700000</td>\n",
              "      <td>61208.00</td>\n",
              "      <td>16269.79</td>\n",
              "      <td>52.82</td>\n",
              "      <td>43.85</td>\n",
              "      <td>35.37</td>\n",
              "      <td>76.70</td>\n",
              "    </tr>\n",
              "    <tr>\n",
              "      <th>7</th>\n",
              "      <td>21173</td>\n",
              "      <td>2014-07-30</td>\n",
              "      <td>37</td>\n",
              "      <td>29.60</td>\n",
              "      <td>7.00</td>\n",
              "      <td>3.00</td>\n",
              "      <td>17.00</td>\n",
              "      <td>1.00</td>\n",
              "      <td>1986.00</td>\n",
              "      <td>1.00</td>\n",
              "      <td>8.00</td>\n",
              "      <td>123000</td>\n",
              "      <td>43</td>\n",
              "      <td>7850000</td>\n",
              "      <td>61208.00</td>\n",
              "      <td>16251.41</td>\n",
              "      <td>50.93</td>\n",
              "      <td>41.97</td>\n",
              "      <td>33.67</td>\n",
              "      <td>76.70</td>\n",
              "    </tr>\n",
              "    <tr>\n",
              "      <th>8</th>\n",
              "      <td>24816</td>\n",
              "      <td>2014-11-17</td>\n",
              "      <td>51</td>\n",
              "      <td>40.00</td>\n",
              "      <td>6.00</td>\n",
              "      <td>4.00</td>\n",
              "      <td>9.00</td>\n",
              "      <td>1.00</td>\n",
              "      <td>1969.00</td>\n",
              "      <td>3.00</td>\n",
              "      <td>8.00</td>\n",
              "      <td>157010</td>\n",
              "      <td>33</td>\n",
              "      <td>9500000</td>\n",
              "      <td>61208.00</td>\n",
              "      <td>16648.70</td>\n",
              "      <td>53.21</td>\n",
              "      <td>43.23</td>\n",
              "      <td>34.30</td>\n",
              "      <td>76.70</td>\n",
              "    </tr>\n",
              "    <tr>\n",
              "      <th>9</th>\n",
              "      <td>17345</td>\n",
              "      <td>2014-04-14</td>\n",
              "      <td>37</td>\n",
              "      <td>29.60</td>\n",
              "      <td>5.00</td>\n",
              "      <td>3.00</td>\n",
              "      <td>16.00</td>\n",
              "      <td>1.00</td>\n",
              "      <td>1984.00</td>\n",
              "      <td>1.00</td>\n",
              "      <td>9.00</td>\n",
              "      <td>1318695</td>\n",
              "      <td>141</td>\n",
              "      <td>6100000</td>\n",
              "      <td>61208.00</td>\n",
              "      <td>16041.58</td>\n",
              "      <td>49.32</td>\n",
              "      <td>40.95</td>\n",
              "      <td>32.96</td>\n",
              "      <td>76.70</td>\n",
              "    </tr>\n",
              "  </tbody>\n",
              "</table>\n",
              "</div>"
            ]
          },
          "metadata": {},
          "execution_count": 89
        }
      ]
    },
    {
      "cell_type": "markdown",
      "source": [
        "Из здравого смысла и проанализировав таблицу выше, можно понять, что можно изменить тип колонок floor, state, max_floor, material, build_year, num_room с float на int16"
      ],
      "metadata": {
        "id": "xmRqd9grtD2R"
      }
    },
    {
      "cell_type": "code",
      "source": [
        "int_8_cols = ['floor', 'state', 'max_floor', 'material','num_room']\n",
        "train[int_8_cols] = train[int_8_cols].applymap(np.int8)\n",
        "train.build_year = train.build_year.map(np.int16)"
      ],
      "metadata": {
        "id": "Vsxy-goauQRN"
      },
      "execution_count": 90,
      "outputs": []
    },
    {
      "cell_type": "markdown",
      "source": [
        "test"
      ],
      "metadata": {
        "id": "-uAHRcH1u9R2"
      }
    },
    {
      "cell_type": "code",
      "source": [
        "test[int_8_cols] = test[int_8_cols].applymap(np.int8)\n",
        "test.build_year = test.build_year.map(np.int16)"
      ],
      "metadata": {
        "id": "AuOHd7Fmu_B0"
      },
      "execution_count": 98,
      "outputs": []
    },
    {
      "cell_type": "markdown",
      "source": [
        "## Стандартизация данных"
      ],
      "metadata": {
        "id": "tOvx4dcYvQgu"
      }
    },
    {
      "cell_type": "code",
      "source": [
        "scaler = StandardScaler()\n",
        "scaled_train = scaler.fit_transform(train.drop(['price_doc','timestamp'], 1))\n",
        "\n",
        "X = scaled_train\n",
        "y = train['price_doc']\n",
        "\n",
        "X_train, X_test, y_train, y_test = train_test_split(X, y, random_state = SEED, test_size=0.18)"
      ],
      "metadata": {
        "id": "a3fxkpBqvUSt"
      },
      "execution_count": 112,
      "outputs": []
    },
    {
      "cell_type": "markdown",
      "source": [
        "# 3.Применение моделей"
      ],
      "metadata": {
        "id": "x6fERx-Aw4I7"
      }
    },
    {
      "cell_type": "code",
      "source": [
        "regressors = {\n",
        "    'KNeighborsRegressor': KNeighborsRegressor(n_neighbors=7),\n",
        "    'DecisionTreeRegressor': DecisionTreeRegressor(random_state=SEED),\n",
        "    'RandomForestRegressor': RandomForestRegressor(random_state=SEED),\n",
        "    'MLPRegressor': MLPRegressor(random_state=SEED),\n",
        "    'AdaBoostRegressor': AdaBoostRegressor(random_state=SEED),\n",
        "    'XGBRegressor': XGBRegressor(random_state=SEED),\n",
        "    'GradientBoostingRegressor': GradientBoostingRegressor(random_state=SEED),\n",
        "    'CatBoostRegressor': CatBoostRegressor(random_seed = SEED, verbose=False),\n",
        "}"
      ],
      "metadata": {
        "id": "4X-PDFVkw_PQ"
      },
      "execution_count": 149,
      "outputs": []
    },
    {
      "cell_type": "code",
      "source": [
        "df = pd.DataFrame(columns=['regressor','MAE'])\n",
        "for name, model in regressors.items():\n",
        "    print(name)\n",
        "    regressor = model\n",
        "    regressor.fit(X_train, np.ravel(y_train))\n",
        "    predicts = regressor.predict(X_test)\n",
        "    mae = mean_absolute_error(y_test, predicts)\n",
        "    df = df.append({'regressor': name,'MAE': mae}, ignore_index=True)\n",
        "    \n",
        "df.sort_values(by=['MAE'],ascending = True)"
      ],
      "metadata": {
        "id": "ax4jZgLLxH9A"
      },
      "execution_count": null,
      "outputs": []
    },
    {
      "cell_type": "code",
      "source": [],
      "metadata": {
        "colab": {
          "base_uri": "https://localhost:8080/",
          "height": 331
        },
        "id": "v1Rwr47OzDaP",
        "outputId": "fe6b99c6-5dae-48cc-c598-e2cff31ee881"
      },
      "execution_count": 116,
      "outputs": [
        {
          "output_type": "execute_result",
          "data": {
            "text/plain": [
              "                   regressor        MAE\n",
              "7          CatBoostRegressor 1562862.01\n",
              "5               XGBRegressor 1631709.16\n",
              "2      RandomForestRegressor 1698597.65\n",
              "6  GradientBoostingRegressor 1775433.53\n",
              "0        KNeighborsRegressor 2173385.47\n",
              "1      DecisionTreeRegressor 2387352.70\n",
              "4          AdaBoostRegressor 2578535.28\n",
              "8                         lg 4014404.93\n",
              "3               MLPRegressor 7486212.99"
            ],
            "text/html": [
              "<div>\n",
              "<style scoped>\n",
              "    .dataframe tbody tr th:only-of-type {\n",
              "        vertical-align: middle;\n",
              "    }\n",
              "\n",
              "    .dataframe tbody tr th {\n",
              "        vertical-align: top;\n",
              "    }\n",
              "\n",
              "    .dataframe thead th {\n",
              "        text-align: right;\n",
              "    }\n",
              "</style>\n",
              "<table border=\"1\" class=\"dataframe\">\n",
              "  <thead>\n",
              "    <tr style=\"text-align: right;\">\n",
              "      <th></th>\n",
              "      <th>regressor</th>\n",
              "      <th>MAE</th>\n",
              "    </tr>\n",
              "  </thead>\n",
              "  <tbody>\n",
              "    <tr>\n",
              "      <th>7</th>\n",
              "      <td>CatBoostRegressor</td>\n",
              "      <td>1562862.01</td>\n",
              "    </tr>\n",
              "    <tr>\n",
              "      <th>5</th>\n",
              "      <td>XGBRegressor</td>\n",
              "      <td>1631709.16</td>\n",
              "    </tr>\n",
              "    <tr>\n",
              "      <th>2</th>\n",
              "      <td>RandomForestRegressor</td>\n",
              "      <td>1698597.65</td>\n",
              "    </tr>\n",
              "    <tr>\n",
              "      <th>6</th>\n",
              "      <td>GradientBoostingRegressor</td>\n",
              "      <td>1775433.53</td>\n",
              "    </tr>\n",
              "    <tr>\n",
              "      <th>0</th>\n",
              "      <td>KNeighborsRegressor</td>\n",
              "      <td>2173385.47</td>\n",
              "    </tr>\n",
              "    <tr>\n",
              "      <th>1</th>\n",
              "      <td>DecisionTreeRegressor</td>\n",
              "      <td>2387352.70</td>\n",
              "    </tr>\n",
              "    <tr>\n",
              "      <th>4</th>\n",
              "      <td>AdaBoostRegressor</td>\n",
              "      <td>2578535.28</td>\n",
              "    </tr>\n",
              "    <tr>\n",
              "      <th>8</th>\n",
              "      <td>lg</td>\n",
              "      <td>4014404.93</td>\n",
              "    </tr>\n",
              "    <tr>\n",
              "      <th>3</th>\n",
              "      <td>MLPRegressor</td>\n",
              "      <td>7486212.99</td>\n",
              "    </tr>\n",
              "  </tbody>\n",
              "</table>\n",
              "</div>"
            ]
          },
          "metadata": {},
          "execution_count": 116
        }
      ]
    },
    {
      "cell_type": "markdown",
      "source": [
        "CatBoost снова на высоте"
      ],
      "metadata": {
        "id": "ITDea4BE1Uja"
      }
    },
    {
      "cell_type": "markdown",
      "source": [
        "## CatBoost + стандартизация"
      ],
      "metadata": {
        "id": "Xld2f4We4VpD"
      }
    },
    {
      "cell_type": "code",
      "source": [
        "scaler = StandardScaler()\n",
        "scaled_train = scaler.fit_transform(train.drop(['price_doc','timestamp'], 1))\n",
        "\n",
        "X = scaled_train\n",
        "y = train['price_doc']\n",
        "\n",
        "X_train, X_test, y_train, y_test = train_test_split(X, y, random_state = SEED, test_size=0.18)\n",
        "\n",
        "clf = CatBoostRegressor(random_seed = SEED, verbose=False)\n",
        "clf = clf.fit(X_train, np.ravel(y_train))\n",
        "\n",
        "values = clf.feature_importances_   \n",
        "idx = train.drop(['price_doc','timestamp'], 1).columns\n",
        "plt.figure(figsize=(10,8))\n",
        "clrs = ['pink' if x > 3 else 'red' for x in values]\n",
        "sns.barplot(y=idx,x=values,palette=clrs).set(title='Сила признаков')\n",
        "plt.show()"
      ],
      "metadata": {
        "colab": {
          "base_uri": "https://localhost:8080/",
          "height": 697
        },
        "id": "6TKLQoEx1Wfb",
        "outputId": "eda5dd61-9842-4d55-ac9f-1f2797108859"
      },
      "execution_count": 137,
      "outputs": [
        {
          "output_type": "display_data",
          "data": {
            "text/plain": [
              "<Figure size 1000x800 with 1 Axes>"
            ],
            "image/png": "[encoded data removed]"
          },
          "metadata": {}
        }
      ]
    },
    {
      "cell_type": "markdown",
      "source": [
        "### Отбор признаков"
      ],
      "metadata": {
        "id": "tZPjIyle6D95"
      }
    },
    {
      "cell_type": "code",
      "source": [
        "strong_features = [key for key,value in dict(zip(train.drop(['price_doc','timestamp'], 1).columns, clf.feature_importances_ )).items() if value > 2]\n",
        "strong_features"
      ],
      "metadata": {
        "colab": {
          "base_uri": "https://localhost:8080/"
        },
        "id": "h5SHlwh34AF_",
        "outputId": "68df1b9a-880b-4a94-92f6-c68c0549557f"
      },
      "execution_count": 136,
      "outputs": [
        {
          "output_type": "execute_result",
          "data": {
            "text/plain": [
              "['full_sq',\n",
              " 'life_sq',\n",
              " 'floor',\n",
              " 'state',\n",
              " 'max_floor',\n",
              " 'build_year',\n",
              " 'kitch_sq',\n",
              " 'full_all',\n",
              " 'sub_area']"
            ]
          },
          "metadata": {},
          "execution_count": 136
        }
      ]
    },
    {
      "cell_type": "code",
      "source": [
        "scaler = StandardScaler()\n",
        "scaled_train = scaler.fit_transform(train[strong_features])\n",
        "\n",
        "X = scaled_train\n",
        "y = train['price_doc']\n",
        "\n",
        "X_train, X_test, y_train, y_test = train_test_split(X, y, random_state = SEED, test_size=0.18)\n",
        "\n",
        "clf = CatBoostRegressor(random_seed = SEED, verbose=False)\n",
        "clf = clf.fit(X_train, np.ravel(y_train))\n",
        "\n",
        "values = clf.feature_importances_   \n",
        "idx = train[strong_features].columns\n",
        "plt.figure(figsize=(10,8))\n",
        "clrs = ['pink' if x > 3 else 'red' for x in values]\n",
        "sns.barplot(y=idx,x=values,palette=clrs).set(title='Сила признаков')\n",
        "plt.show()"
      ],
      "metadata": {
        "colab": {
          "base_uri": "https://localhost:8080/",
          "height": 697
        },
        "id": "cv8Eq0CH7t_o",
        "outputId": "461934b2-ee19-452f-c052-1372ba605c3d"
      },
      "execution_count": 147,
      "outputs": [
        {
          "output_type": "display_data",
          "data": {
            "text/plain": [
              "<Figure size 1000x800 with 1 Axes>"
            ],
            "image/png": "[encoded data removed]"
          },
          "metadata": {}
        }
      ]
    },
    {
      "cell_type": "code",
      "source": [
        "df = pd.DataFrame(columns=['regressor','MAE'])\n",
        "for name, model in regressors.items():\n",
        "    print(name)\n",
        "    regressor = model\n",
        "    regressor.fit(X_train, np.ravel(y_train))\n",
        "    predicts = regressor.predict(X_test)\n",
        "    mae = mean_absolute_error(y_test, predicts)\n",
        "    df = df.append({'regressor': name,'MAE': mae}, ignore_index=True)\n",
        "    \n",
        "df.sort_values(by=['MAE'],ascending = True)"
      ],
      "metadata": {
        "colab": {
          "base_uri": "https://localhost:8080/",
          "height": 448
        },
        "id": "PVwQVSE57_jj",
        "outputId": "84ef5fc6-185b-4b85-9517-ebce3f901f42"
      },
      "execution_count": 150,
      "outputs": [
        {
          "output_type": "stream",
          "name": "stdout",
          "text": [
            "KNeighborsRegressor\n",
            "DecisionTreeRegressor\n",
            "RandomForestRegressor\n",
            "MLPRegressor\n",
            "AdaBoostRegressor\n",
            "XGBRegressor\n",
            "GradientBoostingRegressor\n",
            "CatBoostRegressor\n"
          ]
        },
        {
          "output_type": "execute_result",
          "data": {
            "text/plain": [
              "                   regressor        MAE\n",
              "7          CatBoostRegressor 1587563.19\n",
              "5               XGBRegressor 1626108.14\n",
              "2      RandomForestRegressor 1696246.79\n",
              "6  GradientBoostingRegressor 1774673.51\n",
              "0        KNeighborsRegressor 2090948.26\n",
              "1      DecisionTreeRegressor 2402018.42\n",
              "4          AdaBoostRegressor 2817160.79\n",
              "3               MLPRegressor 7500422.39"
            ],
            "text/html": [
              "<div>\n",
              "<style scoped>\n",
              "    .dataframe tbody tr th:only-of-type {\n",
              "        vertical-align: middle;\n",
              "    }\n",
              "\n",
              "    .dataframe tbody tr th {\n",
              "        vertical-align: top;\n",
              "    }\n",
              "\n",
              "    .dataframe thead th {\n",
              "        text-align: right;\n",
              "    }\n",
              "</style>\n",
              "<table border=\"1\" class=\"dataframe\">\n",
              "  <thead>\n",
              "    <tr style=\"text-align: right;\">\n",
              "      <th></th>\n",
              "      <th>regressor</th>\n",
              "      <th>MAE</th>\n",
              "    </tr>\n",
              "  </thead>\n",
              "  <tbody>\n",
              "    <tr>\n",
              "      <th>7</th>\n",
              "      <td>CatBoostRegressor</td>\n",
              "      <td>1587563.19</td>\n",
              "    </tr>\n",
              "    <tr>\n",
              "      <th>5</th>\n",
              "      <td>XGBRegressor</td>\n",
              "      <td>1626108.14</td>\n",
              "    </tr>\n",
              "    <tr>\n",
              "      <th>2</th>\n",
              "      <td>RandomForestRegressor</td>\n",
              "      <td>1696246.79</td>\n",
              "    </tr>\n",
              "    <tr>\n",
              "      <th>6</th>\n",
              "      <td>GradientBoostingRegressor</td>\n",
              "      <td>1774673.51</td>\n",
              "    </tr>\n",
              "    <tr>\n",
              "      <th>0</th>\n",
              "      <td>KNeighborsRegressor</td>\n",
              "      <td>2090948.26</td>\n",
              "    </tr>\n",
              "    <tr>\n",
              "      <th>1</th>\n",
              "      <td>DecisionTreeRegressor</td>\n",
              "      <td>2402018.42</td>\n",
              "    </tr>\n",
              "    <tr>\n",
              "      <th>4</th>\n",
              "      <td>AdaBoostRegressor</td>\n",
              "      <td>2817160.79</td>\n",
              "    </tr>\n",
              "    <tr>\n",
              "      <th>3</th>\n",
              "      <td>MLPRegressor</td>\n",
              "      <td>7500422.39</td>\n",
              "    </tr>\n",
              "  </tbody>\n",
              "</table>\n",
              "</div>"
            ]
          },
          "metadata": {},
          "execution_count": 150
        }
      ]
    },
    {
      "cell_type": "markdown",
      "source": [
        "Отбор признаков ухудшил показатели"
      ],
      "metadata": {
        "id": "tyRxXfPX8cEb"
      }
    },
    {
      "cell_type": "markdown",
      "source": [
        "### CatBoost без стандартизации"
      ],
      "metadata": {
        "id": "8Gnemcly8fTG"
      }
    },
    {
      "cell_type": "code",
      "source": [
        "X_train, X_test, y_train, y_test = train_test_split(train.drop(['price_doc','timestamp'], 1), train.price_doc, random_state = SEED, test_size=0.18)\n",
        "\n",
        "clf = CatBoostRegressor(random_seed = SEED, verbose=False)\n",
        "clf = clf.fit(X_train, np.ravel(y_train))\n",
        "\n",
        "values = clf.feature_importances_   \n",
        "idx = train.drop(['price_doc','timestamp'], 1).columns\n",
        "plt.figure(figsize=(10,8))\n",
        "clrs = ['pink' if x > 3 else 'red' for x in values]\n",
        "sns.barplot(y=idx,x=values,palette=clrs).set(title='Сила признаков')\n",
        "plt.show()"
      ],
      "metadata": {
        "colab": {
          "base_uri": "https://localhost:8080/",
          "height": 697
        },
        "id": "2ac0rrMk8ex_",
        "outputId": "b8cc2d8a-1827-4ad6-85d0-e6a960e80b2c"
      },
      "execution_count": 151,
      "outputs": [
        {
          "output_type": "display_data",
          "data": {
            "text/plain": [
              "<Figure size 1000x800 with 1 Axes>"
            ],
            "image/png": "[encoded data removed]"
          },
          "metadata": {}
        }
      ]
    },
    {
      "cell_type": "code",
      "source": [
        "df = pd.DataFrame(columns=['regressor','MAE'])\n",
        "for name, model in regressors.items():\n",
        "    print(name)\n",
        "    regressor = model\n",
        "    regressor.fit(X_train, np.ravel(y_train))\n",
        "    predicts = regressor.predict(X_test)\n",
        "    mae = mean_absolute_error(y_test, predicts)\n",
        "    df = df.append({'regressor': name,'MAE': mae}, ignore_index=True)\n",
        "    \n",
        "df.sort_values(by=['MAE'],ascending = True)"
      ],
      "metadata": {
        "colab": {
          "base_uri": "https://localhost:8080/",
          "height": 448
        },
        "id": "Qlyi6EDP8_A9",
        "outputId": "81f19378-cabe-4da8-c7bb-517505d9d67d"
      },
      "execution_count": 152,
      "outputs": [
        {
          "output_type": "stream",
          "name": "stdout",
          "text": [
            "KNeighborsRegressor\n",
            "DecisionTreeRegressor\n",
            "RandomForestRegressor\n",
            "MLPRegressor\n",
            "AdaBoostRegressor\n",
            "XGBRegressor\n",
            "GradientBoostingRegressor\n",
            "CatBoostRegressor\n"
          ]
        },
        {
          "output_type": "execute_result",
          "data": {
            "text/plain": [
              "                   regressor        MAE\n",
              "7          CatBoostRegressor 1562862.01\n",
              "5               XGBRegressor 1631451.97\n",
              "2      RandomForestRegressor 1698758.22\n",
              "6  GradientBoostingRegressor 1775994.83\n",
              "1      DecisionTreeRegressor 2390465.73\n",
              "4          AdaBoostRegressor 2557590.27\n",
              "0        KNeighborsRegressor 2870989.42\n",
              "3               MLPRegressor 2965402.85"
            ],
            "text/html": [
              "<div>\n",
              "<style scoped>\n",
              "    .dataframe tbody tr th:only-of-type {\n",
              "        vertical-align: middle;\n",
              "    }\n",
              "\n",
              "    .dataframe tbody tr th {\n",
              "        vertical-align: top;\n",
              "    }\n",
              "\n",
              "    .dataframe thead th {\n",
              "        text-align: right;\n",
              "    }\n",
              "</style>\n",
              "<table border=\"1\" class=\"dataframe\">\n",
              "  <thead>\n",
              "    <tr style=\"text-align: right;\">\n",
              "      <th></th>\n",
              "      <th>regressor</th>\n",
              "      <th>MAE</th>\n",
              "    </tr>\n",
              "  </thead>\n",
              "  <tbody>\n",
              "    <tr>\n",
              "      <th>7</th>\n",
              "      <td>CatBoostRegressor</td>\n",
              "      <td>1562862.01</td>\n",
              "    </tr>\n",
              "    <tr>\n",
              "      <th>5</th>\n",
              "      <td>XGBRegressor</td>\n",
              "      <td>1631451.97</td>\n",
              "    </tr>\n",
              "    <tr>\n",
              "      <th>2</th>\n",
              "      <td>RandomForestRegressor</td>\n",
              "      <td>1698758.22</td>\n",
              "    </tr>\n",
              "    <tr>\n",
              "      <th>6</th>\n",
              "      <td>GradientBoostingRegressor</td>\n",
              "      <td>1775994.83</td>\n",
              "    </tr>\n",
              "    <tr>\n",
              "      <th>1</th>\n",
              "      <td>DecisionTreeRegressor</td>\n",
              "      <td>2390465.73</td>\n",
              "    </tr>\n",
              "    <tr>\n",
              "      <th>4</th>\n",
              "      <td>AdaBoostRegressor</td>\n",
              "      <td>2557590.27</td>\n",
              "    </tr>\n",
              "    <tr>\n",
              "      <th>0</th>\n",
              "      <td>KNeighborsRegressor</td>\n",
              "      <td>2870989.42</td>\n",
              "    </tr>\n",
              "    <tr>\n",
              "      <th>3</th>\n",
              "      <td>MLPRegressor</td>\n",
              "      <td>2965402.85</td>\n",
              "    </tr>\n",
              "  </tbody>\n",
              "</table>\n",
              "</div>"
            ]
          },
          "metadata": {},
          "execution_count": 152
        }
      ]
    },
    {
      "cell_type": "markdown",
      "source": [
        "На CatBoost стандартизация не дала прироста"
      ],
      "metadata": {
        "id": "FpMtuHqt9OvA"
      }
    },
    {
      "cell_type": "markdown",
      "source": [
        "## Эксперимент"
      ],
      "metadata": {
        "id": "bZS4eckF9bi_"
      }
    },
    {
      "cell_type": "code",
      "source": [
        "X_train, X_test, y_train, y_test = train_test_split(train[strong_features], train.price_doc, random_state = SEED, test_size=0.18)\n",
        "\n",
        "Model = []\n",
        "MAE = []\n",
        "cv = KFold(5, random_state = SEED, shuffle=True)\n",
        "\n",
        "#Creating a Function to append the cross validation scores of the algorithms\n",
        "def input_scores(name, model, x, y):\n",
        "    Model.append(name)\n",
        "    MAE.append(np.sqrt((-1) * cross_val_score(model, x, y, cv=cv, \n",
        "                                               scoring='neg_mean_squared_error').mean()))"
      ],
      "metadata": {
        "id": "OqnXAJVF9dvB"
      },
      "execution_count": 163,
      "outputs": []
    },
    {
      "cell_type": "code",
      "source": [
        "from sklearn.linear_model import LinearRegression, Ridge, Lasso\n",
        "from sklearn.neighbors import KNeighborsRegressor\n",
        "from sklearn.tree import DecisionTreeRegressor\n",
        "from sklearn.ensemble import (RandomForestRegressor, GradientBoostingRegressor, \n",
        "                              AdaBoostRegressor)\n",
        "\n",
        "names = ['Linear Regression', 'Ridge Regression', 'Lasso Regression',\n",
        "         'K Neighbors Regressor', 'Decision Tree Regressor', \n",
        "         'Random Forest Regressor', 'Gradient Boosting Regressor',\n",
        "         'Adaboost Regressor','CatBoostRegressor']\n",
        "models = [LinearRegression(), Ridge(), Lasso(),\n",
        "          KNeighborsRegressor(), DecisionTreeRegressor(),\n",
        "          RandomForestRegressor(), GradientBoostingRegressor(), \n",
        "          AdaBoostRegressor(),CatBoostRegressor(verbose=False)]\n",
        "\n",
        "#Running all algorithms\n",
        "for name, model in zip(names, models):\n",
        "    input_scores(name, model, X_train, y_train)"
      ],
      "metadata": {
        "id": "XUXBQINL94iN"
      },
      "execution_count": 164,
      "outputs": []
    },
    {
      "cell_type": "code",
      "source": [
        "evaluation = pd.DataFrame({'Model': Model,\n",
        "                           'MAE': MAE})\n",
        "print(\"FOLLOWING ARE THE TRAINING SCORES: \")\n",
        "evaluation.sort_values(by=['MAE'])"
      ],
      "metadata": {
        "colab": {
          "base_uri": "https://localhost:8080/",
          "height": 350
        },
        "id": "Y9HKfoXk-BhD",
        "outputId": "f39e4ae1-56af-4ddc-cc82-2024ae85c9db"
      },
      "execution_count": 165,
      "outputs": [
        {
          "output_type": "stream",
          "name": "stdout",
          "text": [
            "FOLLOWING ARE THE TRAINING SCORES: \n"
          ]
        },
        {
          "output_type": "execute_result",
          "data": {
            "text/plain": [
              "                         Model        MAE\n",
              "8            CatBoostRegressor 2956665.37\n",
              "5      Random Forest Regressor 3152867.01\n",
              "6  Gradient Boosting Regressor 3173655.46\n",
              "3        K Neighbors Regressor 3385874.84\n",
              "1             Ridge Regression 3618641.29\n",
              "0            Linear Regression 3618641.37\n",
              "2             Lasso Regression 3618641.37\n",
              "7           Adaboost Regressor 3965030.57\n",
              "4      Decision Tree Regressor 4305686.12"
            ],
            "text/html": [
              "<div>\n",
              "<style scoped>\n",
              "    .dataframe tbody tr th:only-of-type {\n",
              "        vertical-align: middle;\n",
              "    }\n",
              "\n",
              "    .dataframe tbody tr th {\n",
              "        vertical-align: top;\n",
              "    }\n",
              "\n",
              "    .dataframe thead th {\n",
              "        text-align: right;\n",
              "    }\n",
              "</style>\n",
              "<table border=\"1\" class=\"dataframe\">\n",
              "  <thead>\n",
              "    <tr style=\"text-align: right;\">\n",
              "      <th></th>\n",
              "      <th>Model</th>\n",
              "      <th>MAE</th>\n",
              "    </tr>\n",
              "  </thead>\n",
              "  <tbody>\n",
              "    <tr>\n",
              "      <th>8</th>\n",
              "      <td>CatBoostRegressor</td>\n",
              "      <td>2956665.37</td>\n",
              "    </tr>\n",
              "    <tr>\n",
              "      <th>5</th>\n",
              "      <td>Random Forest Regressor</td>\n",
              "      <td>3152867.01</td>\n",
              "    </tr>\n",
              "    <tr>\n",
              "      <th>6</th>\n",
              "      <td>Gradient Boosting Regressor</td>\n",
              "      <td>3173655.46</td>\n",
              "    </tr>\n",
              "    <tr>\n",
              "      <th>3</th>\n",
              "      <td>K Neighbors Regressor</td>\n",
              "      <td>3385874.84</td>\n",
              "    </tr>\n",
              "    <tr>\n",
              "      <th>1</th>\n",
              "      <td>Ridge Regression</td>\n",
              "      <td>3618641.29</td>\n",
              "    </tr>\n",
              "    <tr>\n",
              "      <th>0</th>\n",
              "      <td>Linear Regression</td>\n",
              "      <td>3618641.37</td>\n",
              "    </tr>\n",
              "    <tr>\n",
              "      <th>2</th>\n",
              "      <td>Lasso Regression</td>\n",
              "      <td>3618641.37</td>\n",
              "    </tr>\n",
              "    <tr>\n",
              "      <th>7</th>\n",
              "      <td>Adaboost Regressor</td>\n",
              "      <td>3965030.57</td>\n",
              "    </tr>\n",
              "    <tr>\n",
              "      <th>4</th>\n",
              "      <td>Decision Tree Regressor</td>\n",
              "      <td>4305686.12</td>\n",
              "    </tr>\n",
              "  </tbody>\n",
              "</table>\n",
              "</div>"
            ]
          },
          "metadata": {},
          "execution_count": 165
        }
      ]
    },
    {
      "cell_type": "markdown",
      "source": [
        "С кроссвалидацией показатели значительно хуже, есть вероятность переобучения"
      ],
      "metadata": {
        "id": "9dqn7Z9L_CGZ"
      }
    },
    {
      "cell_type": "markdown",
      "source": [
        "# Первый сабмит"
      ],
      "metadata": {
        "id": "a0VmlYUs_VBz"
      }
    },
    {
      "cell_type": "code",
      "source": [
        "cat_clf = CatBoostRegressor(random_state=SEED, verbose=False)\n",
        "cat_clf.fit(train.drop(['price_doc','timestamp'],axis = 1),train['price_doc'])\n",
        "\n",
        "test['price_doc']=cat_clf.predict(test.drop(['timestamp'],axis = 1))\n",
        "test['id'] = test.index\n",
        "test[['id', 'price_doc']].to_csv('sub_chernykh_1.csv', index=None)\n"
      ],
      "metadata": {
        "id": "iYCAsb7B_WpI"
      },
      "execution_count": 182,
      "outputs": []
    },
    {
      "cell_type": "markdown",
      "source": [
        "1656650.39351 скор\n"
      ],
      "metadata": {
        "id": "CG-Jtb6LGCI0"
      }
    },
    {
      "cell_type": "markdown",
      "source": [
        "# 4.Улучшение модели"
      ],
      "metadata": {
        "id": "AQENpouY_KG2"
      }
    },
    {
      "cell_type": "markdown",
      "source": [
        "## Сабмит с сильными признаками 1\n"
      ],
      "metadata": {
        "id": "TQdEKWwSGbQP"
      }
    },
    {
      "cell_type": "code",
      "source": [
        "strong_features"
      ],
      "metadata": {
        "colab": {
          "base_uri": "https://localhost:8080/"
        },
        "id": "KIrudHu7GxK6",
        "outputId": "90ed2ada-4847-40ca-98fb-21aed1c108df"
      },
      "execution_count": 186,
      "outputs": [
        {
          "output_type": "execute_result",
          "data": {
            "text/plain": [
              "['full_sq',\n",
              " 'life_sq',\n",
              " 'floor',\n",
              " 'state',\n",
              " 'max_floor',\n",
              " 'build_year',\n",
              " 'kitch_sq',\n",
              " 'full_all',\n",
              " 'sub_area']"
            ]
          },
          "metadata": {},
          "execution_count": 186
        }
      ]
    },
    {
      "cell_type": "code",
      "source": [
        "cat_clf = CatBoostRegressor(random_state=SEED, verbose=False)\n",
        "cat_clf.fit(train[strong_features],train['price_doc'])\n",
        "\n",
        "test['price_doc']=cat_clf.predict(test[strong_features])\n",
        "test['id'] = test.index\n",
        "test[['id', 'price_doc']].to_csv('sub_chernykh_2_strong.csv', index=None)"
      ],
      "metadata": {
        "id": "4TWtHpllEL3u"
      },
      "execution_count": 188,
      "outputs": []
    },
    {
      "cell_type": "markdown",
      "source": [
        "1632337.49585 прирост в 20 000"
      ],
      "metadata": {
        "id": "AU8_xZFvG-Uy"
      }
    },
    {
      "cell_type": "markdown",
      "source": [
        "## Сабмит с сильными признаками 2"
      ],
      "metadata": {
        "id": "e1t2OnGYHWAo"
      }
    },
    {
      "cell_type": "code",
      "source": [
        "strong_features_2 = [key for key,value in dict(zip(train.drop(['price_doc','timestamp'], 1).columns, clf.feature_importances_ )).items() if value > 4]\n",
        "strong_features_2"
      ],
      "metadata": {
        "colab": {
          "base_uri": "https://localhost:8080/"
        },
        "id": "Rd1uT7wtHBGy",
        "outputId": "d7fc5876-db14-4e43-f555-72f8046b40e7"
      },
      "execution_count": 190,
      "outputs": [
        {
          "output_type": "execute_result",
          "data": {
            "text/plain": [
              "['full_sq', 'state', 'max_floor', 'build_year', 'full_all', 'sub_area']"
            ]
          },
          "metadata": {},
          "execution_count": 190
        }
      ]
    },
    {
      "cell_type": "code",
      "source": [
        "cat_clf = CatBoostRegressor(random_state=SEED, verbose=False)\n",
        "cat_clf.fit(train[strong_features_2],train['price_doc'])\n",
        "\n",
        "test['price_doc']=cat_clf.predict(test[strong_features_2])\n",
        "test['id'] = test.index\n",
        "test[['id', 'price_doc']].to_csv('sub_chernykh_3_strong.csv', index=None)"
      ],
      "metadata": {
        "id": "nSydGaLiHZll"
      },
      "execution_count": 191,
      "outputs": []
    },
    {
      "cell_type": "markdown",
      "source": [
        "1620423.95075 прирост в 12 000\n"
      ],
      "metadata": {
        "id": "Ou7XMNDUHjpH"
      }
    },
    {
      "cell_type": "markdown",
      "source": [
        "## подбор гиперпараметров"
      ],
      "metadata": {
        "id": "ONfcNwbfIExO"
      }
    },
    {
      "cell_type": "markdown",
      "source": [
        "### со всеми признаками"
      ],
      "metadata": {
        "id": "frcv_NsDP6P4"
      }
    },
    {
      "cell_type": "code",
      "source": [
        "X_train, X_test, y_train, y_test = train_test_split(train.drop(['price_doc','timestamp'], 1), train.price_doc, random_state = SEED, test_size=0.18)"
      ],
      "metadata": {
        "id": "xi0ByMrUJYdJ"
      },
      "execution_count": 217,
      "outputs": []
    },
    {
      "cell_type": "code",
      "source": [
        "\n",
        "\n",
        "def objective_cat(trial):   \n",
        "    param = {\n",
        "        'iterations': trial.suggest_categorical('iterations', [1100, 1150, 1200, 1250, 1300]), \n",
        "        'verbose': 0, \n",
        "        'random_seed': SEED,\n",
        "        'loss_function': 'MAE',\n",
        "        'l2_leaf_reg': trial.suggest_float('l2_leaf_reg', 4, 8),\n",
        "        'early_stopping_rounds' : 3000,\n",
        "        'eval_metric': 'MAE',\n",
        "        'learning_rate': trial.suggest_categorical('learning_rate', [0.01, 0.05, 0.1, 0.15, 0.2]),\n",
        "        'max_depth': trial.suggest_categorical('max_depth', [5, 6, 7, 8])\n",
        "    }\n",
        "    model = CatBoostRegressor(**param)  \n",
        "    \n",
        "    model.fit(X_train, y_train)\n",
        "    \n",
        "    preds = model.predict(X_test)\n",
        "    \n",
        "    MAE = mean_absolute_error(y_test, preds)\n",
        "    \n",
        "    return MAE"
      ],
      "metadata": {
        "id": "0skUyHcPHn0L"
      },
      "execution_count": 218,
      "outputs": []
    },
    {
      "cell_type": "code",
      "source": [
        "# sampler=optuna.samplers.TPESampler(seed=SEED) нужен для повторения результатов при перезапуске\n",
        "study_cat = optuna.create_study(direction='minimize', sampler=optuna.samplers.TPESampler(seed=SEED))\n",
        "\n",
        "# Здесь n_trials показывает, сколько раз будет построена модель со случайными параметрами\n",
        "\n",
        "study_cat.optimize(objective_cat, n_trials=100)\n",
        "\n",
        "print('Параметры, полученные при лучшей оценке:', study_cat.best_trial.params)"
      ],
      "metadata": {
        "colab": {
          "base_uri": "https://localhost:8080/"
        },
        "id": "2scqLSPcJfsp",
        "outputId": "c623473a-1b44-4b9b-c5ca-b042c50e1f93"
      },
      "execution_count": 219,
      "outputs": [
        {
          "output_type": "stream",
          "name": "stderr",
          "text": [
            "\u001b[32m[I 2023-03-21 13:01:13,026]\u001b[0m A new study created in memory with name: no-name-5dcec492-1da9-4196-95ba-4cd0b0bec738\u001b[0m\n",
            "\u001b[32m[I 2023-03-21 13:01:16,167]\u001b[0m Trial 0 finished with value: 1436157.9818560884 and parameters: {'iterations': 1300, 'l2_leaf_reg': 4.050812788139071, 'learning_rate': 0.15, 'max_depth': 5}. Best is trial 0 with value: 1436157.9818560884.\u001b[0m\n",
            "\u001b[32m[I 2023-03-21 13:01:20,076]\u001b[0m Trial 1 finished with value: 1489936.355553364 and parameters: {'iterations': 1100, 'l2_leaf_reg': 4.092945196955616, 'learning_rate': 0.2, 'max_depth': 7}. Best is trial 0 with value: 1436157.9818560884.\u001b[0m\n",
            "\u001b[32m[I 2023-03-21 13:01:24,000]\u001b[0m Trial 2 finished with value: 1452570.6433443006 and parameters: {'iterations': 1100, 'l2_leaf_reg': 6.9721887669825415, 'learning_rate': 0.1, 'max_depth': 7}. Best is trial 0 with value: 1436157.9818560884.\u001b[0m\n",
            "\u001b[32m[I 2023-03-21 13:01:28,233]\u001b[0m Trial 3 finished with value: 1452294.643501075 and parameters: {'iterations': 1200, 'l2_leaf_reg': 5.573905074335195, 'learning_rate': 0.15, 'max_depth': 7}. Best is trial 0 with value: 1436157.9818560884.\u001b[0m\n",
            "\u001b[32m[I 2023-03-21 13:01:33,957]\u001b[0m Trial 4 finished with value: 1452664.6041513844 and parameters: {'iterations': 1150, 'l2_leaf_reg': 5.723207289855774, 'learning_rate': 0.1, 'max_depth': 8}. Best is trial 0 with value: 1436157.9818560884.\u001b[0m\n",
            "\u001b[32m[I 2023-03-21 13:01:37,652]\u001b[0m Trial 5 finished with value: 1453399.9324803918 and parameters: {'iterations': 1250, 'l2_leaf_reg': 6.858359856877987, 'learning_rate': 0.15, 'max_depth': 6}. Best is trial 0 with value: 1436157.9818560884.\u001b[0m\n",
            "\u001b[32m[I 2023-03-21 13:01:42,257]\u001b[0m Trial 6 finished with value: 1464029.5430459366 and parameters: {'iterations': 1300, 'l2_leaf_reg': 6.590005956569925, 'learning_rate': 0.2, 'max_depth': 7}. Best is trial 0 with value: 1436157.9818560884.\u001b[0m\n",
            "\u001b[32m[I 2023-03-21 13:01:46,531]\u001b[0m Trial 7 finished with value: 1575955.4305536246 and parameters: {'iterations': 1200, 'l2_leaf_reg': 7.490253299323136, 'learning_rate': 0.01, 'max_depth': 7}. Best is trial 0 with value: 1436157.9818560884.\u001b[0m\n",
            "\u001b[32m[I 2023-03-21 13:01:52,668]\u001b[0m Trial 8 finished with value: 1467951.1512092287 and parameters: {'iterations': 1250, 'l2_leaf_reg': 4.0157775970825895, 'learning_rate': 0.1, 'max_depth': 8}. Best is trial 0 with value: 1436157.9818560884.\u001b[0m\n",
            "\u001b[32m[I 2023-03-21 13:01:58,106]\u001b[0m Trial 9 finished with value: 1508181.8428631113 and parameters: {'iterations': 1100, 'l2_leaf_reg': 7.356008305729379, 'learning_rate': 0.2, 'max_depth': 8}. Best is trial 0 with value: 1436157.9818560884.\u001b[0m\n",
            "\u001b[32m[I 2023-03-21 13:02:01,209]\u001b[0m Trial 10 finished with value: 1458630.627401468 and parameters: {'iterations': 1300, 'l2_leaf_reg': 4.81995855121286, 'learning_rate': 0.05, 'max_depth': 5}. Best is trial 0 with value: 1436157.9818560884.\u001b[0m\n",
            "\u001b[32m[I 2023-03-21 13:02:04,060]\u001b[0m Trial 11 finished with value: 1442786.4386201976 and parameters: {'iterations': 1200, 'l2_leaf_reg': 5.453106927627564, 'learning_rate': 0.15, 'max_depth': 5}. Best is trial 0 with value: 1436157.9818560884.\u001b[0m\n",
            "\u001b[32m[I 2023-03-21 13:02:06,920]\u001b[0m Trial 12 finished with value: 1427646.0036730696 and parameters: {'iterations': 1200, 'l2_leaf_reg': 5.057386449387124, 'learning_rate': 0.15, 'max_depth': 5}. Best is trial 12 with value: 1427646.0036730696.\u001b[0m\n",
            "\u001b[32m[I 2023-03-21 13:02:10,008]\u001b[0m Trial 13 finished with value: 1444265.5055282216 and parameters: {'iterations': 1300, 'l2_leaf_reg': 4.8237343749843316, 'learning_rate': 0.15, 'max_depth': 5}. Best is trial 12 with value: 1427646.0036730696.\u001b[0m\n",
            "\u001b[32m[I 2023-03-21 13:02:12,758]\u001b[0m Trial 14 finished with value: 1435750.7571749145 and parameters: {'iterations': 1150, 'l2_leaf_reg': 4.9545773139575315, 'learning_rate': 0.15, 'max_depth': 5}. Best is trial 12 with value: 1427646.0036730696.\u001b[0m\n",
            "\u001b[32m[I 2023-03-21 13:02:15,527]\u001b[0m Trial 15 finished with value: 1661174.205168638 and parameters: {'iterations': 1150, 'l2_leaf_reg': 7.979659947086715, 'learning_rate': 0.01, 'max_depth': 5}. Best is trial 12 with value: 1427646.0036730696.\u001b[0m\n",
            "\u001b[32m[I 2023-03-21 13:02:18,845]\u001b[0m Trial 16 finished with value: 1438051.853448806 and parameters: {'iterations': 1150, 'l2_leaf_reg': 6.118143326680415, 'learning_rate': 0.05, 'max_depth': 6}. Best is trial 12 with value: 1427646.0036730696.\u001b[0m\n",
            "\u001b[32m[I 2023-03-21 13:02:21,683]\u001b[0m Trial 17 finished with value: 1434226.6542775254 and parameters: {'iterations': 1200, 'l2_leaf_reg': 4.952732120587634, 'learning_rate': 0.15, 'max_depth': 5}. Best is trial 12 with value: 1427646.0036730696.\u001b[0m\n",
            "\u001b[32m[I 2023-03-21 13:02:24,521]\u001b[0m Trial 18 finished with value: 1430141.7636537943 and parameters: {'iterations': 1200, 'l2_leaf_reg': 5.246848180844394, 'learning_rate': 0.15, 'max_depth': 5}. Best is trial 12 with value: 1427646.0036730696.\u001b[0m\n",
            "\u001b[32m[I 2023-03-21 13:02:27,390]\u001b[0m Trial 19 finished with value: 1444710.1007894315 and parameters: {'iterations': 1200, 'l2_leaf_reg': 6.159341335098235, 'learning_rate': 0.15, 'max_depth': 5}. Best is trial 12 with value: 1427646.0036730696.\u001b[0m\n",
            "\u001b[32m[I 2023-03-21 13:02:30,814]\u001b[0m Trial 20 finished with value: 1440699.2042008252 and parameters: {'iterations': 1200, 'l2_leaf_reg': 5.318839753605902, 'learning_rate': 0.05, 'max_depth': 6}. Best is trial 12 with value: 1427646.0036730696.\u001b[0m\n",
            "\u001b[32m[I 2023-03-21 13:02:33,667]\u001b[0m Trial 21 finished with value: 1435759.2935626237 and parameters: {'iterations': 1200, 'l2_leaf_reg': 5.044629645321644, 'learning_rate': 0.15, 'max_depth': 5}. Best is trial 12 with value: 1427646.0036730696.\u001b[0m\n",
            "\u001b[32m[I 2023-03-21 13:02:36,554]\u001b[0m Trial 22 finished with value: 1436641.98558966 and parameters: {'iterations': 1200, 'l2_leaf_reg': 4.62095469248137, 'learning_rate': 0.15, 'max_depth': 5}. Best is trial 12 with value: 1427646.0036730696.\u001b[0m\n",
            "\u001b[32m[I 2023-03-21 13:02:39,436]\u001b[0m Trial 23 finished with value: 1433111.9346313998 and parameters: {'iterations': 1200, 'l2_leaf_reg': 5.2212828049682685, 'learning_rate': 0.15, 'max_depth': 5}. Best is trial 12 with value: 1427646.0036730696.\u001b[0m\n",
            "\u001b[32m[I 2023-03-21 13:02:42,291]\u001b[0m Trial 24 finished with value: 1437196.5339391015 and parameters: {'iterations': 1200, 'l2_leaf_reg': 5.753539398083199, 'learning_rate': 0.15, 'max_depth': 5}. Best is trial 12 with value: 1427646.0036730696.\u001b[0m\n",
            "\u001b[32m[I 2023-03-21 13:02:45,236]\u001b[0m Trial 25 finished with value: 1654377.855731254 and parameters: {'iterations': 1200, 'l2_leaf_reg': 5.201170699918655, 'learning_rate': 0.01, 'max_depth': 5}. Best is trial 12 with value: 1427646.0036730696.\u001b[0m\n",
            "\u001b[32m[I 2023-03-21 13:02:48,304]\u001b[0m Trial 26 finished with value: 1448584.8081695396 and parameters: {'iterations': 1250, 'l2_leaf_reg': 4.485622105207302, 'learning_rate': 0.15, 'max_depth': 5}. Best is trial 12 with value: 1427646.0036730696.\u001b[0m\n",
            "\u001b[32m[I 2023-03-21 13:02:51,273]\u001b[0m Trial 27 finished with value: 1433111.9346313998 and parameters: {'iterations': 1200, 'l2_leaf_reg': 5.225778009642039, 'learning_rate': 0.15, 'max_depth': 5}. Best is trial 12 with value: 1427646.0036730696.\u001b[0m\n",
            "\u001b[32m[I 2023-03-21 13:02:57,565]\u001b[0m Trial 28 finished with value: 1491127.0107746643 and parameters: {'iterations': 1200, 'l2_leaf_reg': 5.854545554578726, 'learning_rate': 0.15, 'max_depth': 8}. Best is trial 12 with value: 1427646.0036730696.\u001b[0m\n",
            "\u001b[32m[I 2023-03-21 13:03:00,457]\u001b[0m Trial 29 finished with value: 1445386.5674540894 and parameters: {'iterations': 1200, 'l2_leaf_reg': 5.451579301671156, 'learning_rate': 0.15, 'max_depth': 5}. Best is trial 12 with value: 1427646.0036730696.\u001b[0m\n",
            "\u001b[32m[I 2023-03-21 13:03:03,943]\u001b[0m Trial 30 finished with value: 1612672.6998747794 and parameters: {'iterations': 1200, 'l2_leaf_reg': 4.483065690361863, 'learning_rate': 0.01, 'max_depth': 6}. Best is trial 12 with value: 1427646.0036730696.\u001b[0m\n",
            "\u001b[32m[I 2023-03-21 13:03:07,276]\u001b[0m Trial 31 finished with value: 1434926.9611796741 and parameters: {'iterations': 1200, 'l2_leaf_reg': 5.234062413587049, 'learning_rate': 0.15, 'max_depth': 5}. Best is trial 12 with value: 1427646.0036730696.\u001b[0m\n",
            "\u001b[32m[I 2023-03-21 13:03:10,275]\u001b[0m Trial 32 finished with value: 1429545.4876590085 and parameters: {'iterations': 1200, 'l2_leaf_reg': 5.258258578834334, 'learning_rate': 0.15, 'max_depth': 5}. Best is trial 12 with value: 1427646.0036730696.\u001b[0m\n",
            "\u001b[32m[I 2023-03-21 13:03:12,915]\u001b[0m Trial 33 finished with value: 1436865.8653859557 and parameters: {'iterations': 1100, 'l2_leaf_reg': 5.547971387813736, 'learning_rate': 0.2, 'max_depth': 5}. Best is trial 12 with value: 1427646.0036730696.\u001b[0m\n",
            "\u001b[32m[I 2023-03-21 13:03:15,919]\u001b[0m Trial 34 finished with value: 1458834.0176073087 and parameters: {'iterations': 1200, 'l2_leaf_reg': 4.374266858890582, 'learning_rate': 0.1, 'max_depth': 5}. Best is trial 12 with value: 1427646.0036730696.\u001b[0m\n",
            "\u001b[32m[I 2023-03-21 13:03:18,807]\u001b[0m Trial 35 finished with value: 1442584.004104912 and parameters: {'iterations': 1100, 'l2_leaf_reg': 5.120497846262978, 'learning_rate': 0.15, 'max_depth': 5}. Best is trial 12 with value: 1427646.0036730696.\u001b[0m\n",
            "\u001b[32m[I 2023-03-21 13:03:23,357]\u001b[0m Trial 36 finished with value: 1465936.4341696908 and parameters: {'iterations': 1200, 'l2_leaf_reg': 5.579490731388093, 'learning_rate': 0.15, 'max_depth': 7}. Best is trial 12 with value: 1427646.0036730696.\u001b[0m\n",
            "\u001b[32m[I 2023-03-21 13:03:26,540]\u001b[0m Trial 37 finished with value: 1447328.2256372124 and parameters: {'iterations': 1250, 'l2_leaf_reg': 4.726965847611729, 'learning_rate': 0.1, 'max_depth': 5}. Best is trial 12 with value: 1427646.0036730696.\u001b[0m\n",
            "\u001b[32m[I 2023-03-21 13:03:31,554]\u001b[0m Trial 38 finished with value: 1468277.1482327636 and parameters: {'iterations': 1300, 'l2_leaf_reg': 5.041506364078193, 'learning_rate': 0.15, 'max_depth': 7}. Best is trial 12 with value: 1427646.0036730696.\u001b[0m\n",
            "\u001b[32m[I 2023-03-21 13:03:37,972]\u001b[0m Trial 39 finished with value: 1443954.4417403906 and parameters: {'iterations': 1200, 'l2_leaf_reg': 4.215034015369918, 'learning_rate': 0.05, 'max_depth': 8}. Best is trial 12 with value: 1427646.0036730696.\u001b[0m\n",
            "\u001b[32m[I 2023-03-21 13:03:41,894]\u001b[0m Trial 40 finished with value: 1465176.7430269874 and parameters: {'iterations': 1200, 'l2_leaf_reg': 5.916025849414338, 'learning_rate': 0.2, 'max_depth': 6}. Best is trial 12 with value: 1427646.0036730696.\u001b[0m\n",
            "\u001b[32m[I 2023-03-21 13:03:45,219]\u001b[0m Trial 41 finished with value: 1438011.092668378 and parameters: {'iterations': 1200, 'l2_leaf_reg': 5.299664336252639, 'learning_rate': 0.15, 'max_depth': 5}. Best is trial 12 with value: 1427646.0036730696.\u001b[0m\n",
            "\u001b[32m[I 2023-03-21 13:03:48,320]\u001b[0m Trial 42 finished with value: 1437308.7640550905 and parameters: {'iterations': 1200, 'l2_leaf_reg': 5.345064916980517, 'learning_rate': 0.15, 'max_depth': 5}. Best is trial 12 with value: 1427646.0036730696.\u001b[0m\n",
            "\u001b[32m[I 2023-03-21 13:03:51,139]\u001b[0m Trial 43 finished with value: 1433293.0683849417 and parameters: {'iterations': 1200, 'l2_leaf_reg': 5.616697160155119, 'learning_rate': 0.15, 'max_depth': 5}. Best is trial 12 with value: 1427646.0036730696.\u001b[0m\n",
            "\u001b[32m[I 2023-03-21 13:03:53,994]\u001b[0m Trial 44 finished with value: 1449377.0396723985 and parameters: {'iterations': 1200, 'l2_leaf_reg': 4.860794012222599, 'learning_rate': 0.15, 'max_depth': 5}. Best is trial 12 with value: 1427646.0036730696.\u001b[0m\n",
            "\u001b[32m[I 2023-03-21 13:03:56,570]\u001b[0m Trial 45 finished with value: 1440169.215787414 and parameters: {'iterations': 1100, 'l2_leaf_reg': 5.147760349495167, 'learning_rate': 0.15, 'max_depth': 5}. Best is trial 12 with value: 1427646.0036730696.\u001b[0m\n",
            "\u001b[32m[I 2023-03-21 13:04:01,324]\u001b[0m Trial 46 finished with value: 1440077.7252468744 and parameters: {'iterations': 1250, 'l2_leaf_reg': 4.7285729764806375, 'learning_rate': 0.1, 'max_depth': 7}. Best is trial 12 with value: 1427646.0036730696.\u001b[0m\n",
            "\u001b[32m[I 2023-03-21 13:04:08,565]\u001b[0m Trial 47 finished with value: 1488016.5631091748 and parameters: {'iterations': 1300, 'l2_leaf_reg': 5.443098571054423, 'learning_rate': 0.15, 'max_depth': 8}. Best is trial 12 with value: 1427646.0036730696.\u001b[0m\n",
            "\u001b[32m[I 2023-03-21 13:04:11,785]\u001b[0m Trial 48 finished with value: 1435750.7571749145 and parameters: {'iterations': 1150, 'l2_leaf_reg': 4.94792259017747, 'learning_rate': 0.15, 'max_depth': 5}. Best is trial 12 with value: 1427646.0036730696.\u001b[0m\n",
            "\u001b[32m[I 2023-03-21 13:04:14,854]\u001b[0m Trial 49 finished with value: 1443420.2208569373 and parameters: {'iterations': 1200, 'l2_leaf_reg': 5.141381344392508, 'learning_rate': 0.2, 'max_depth': 5}. Best is trial 12 with value: 1427646.0036730696.\u001b[0m\n",
            "\u001b[32m[I 2023-03-21 13:04:17,856]\u001b[0m Trial 50 finished with value: 1655107.7909937836 and parameters: {'iterations': 1200, 'l2_leaf_reg': 5.700016148769098, 'learning_rate': 0.01, 'max_depth': 5}. Best is trial 12 with value: 1427646.0036730696.\u001b[0m\n",
            "\u001b[32m[I 2023-03-21 13:04:20,696]\u001b[0m Trial 51 finished with value: 1443962.3355644252 and parameters: {'iterations': 1200, 'l2_leaf_reg': 5.606981538250556, 'learning_rate': 0.15, 'max_depth': 5}. Best is trial 12 with value: 1427646.0036730696.\u001b[0m\n",
            "\u001b[32m[I 2023-03-21 13:04:23,615]\u001b[0m Trial 52 finished with value: 1439709.7434457643 and parameters: {'iterations': 1200, 'l2_leaf_reg': 5.429554417802009, 'learning_rate': 0.15, 'max_depth': 5}. Best is trial 12 with value: 1427646.0036730696.\u001b[0m\n",
            "\u001b[32m[I 2023-03-21 13:04:26,694]\u001b[0m Trial 53 finished with value: 1437781.7329419407 and parameters: {'iterations': 1200, 'l2_leaf_reg': 5.293846920100247, 'learning_rate': 0.15, 'max_depth': 5}. Best is trial 12 with value: 1427646.0036730696.\u001b[0m\n",
            "\u001b[32m[I 2023-03-21 13:04:29,625]\u001b[0m Trial 54 finished with value: 1435141.7688134774 and parameters: {'iterations': 1200, 'l2_leaf_reg': 5.010905695748862, 'learning_rate': 0.15, 'max_depth': 5}. Best is trial 12 with value: 1427646.0036730696.\u001b[0m\n",
            "\u001b[32m[I 2023-03-21 13:04:32,433]\u001b[0m Trial 55 finished with value: 1458004.6908248584 and parameters: {'iterations': 1150, 'l2_leaf_reg': 5.627038342202502, 'learning_rate': 0.05, 'max_depth': 5}. Best is trial 12 with value: 1427646.0036730696.\u001b[0m\n",
            "\u001b[32m[I 2023-03-21 13:04:35,966]\u001b[0m Trial 56 finished with value: 1457114.5073753304 and parameters: {'iterations': 1200, 'l2_leaf_reg': 5.2213838327973185, 'learning_rate': 0.15, 'max_depth': 6}. Best is trial 12 with value: 1427646.0036730696.\u001b[0m\n",
            "\u001b[32m[I 2023-03-21 13:04:39,103]\u001b[0m Trial 57 finished with value: 1442241.1820657544 and parameters: {'iterations': 1300, 'l2_leaf_reg': 6.01845413975758, 'learning_rate': 0.15, 'max_depth': 5}. Best is trial 12 with value: 1427646.0036730696.\u001b[0m\n",
            "\u001b[32m[I 2023-03-21 13:04:42,155]\u001b[0m Trial 58 finished with value: 1457472.6116601264 and parameters: {'iterations': 1200, 'l2_leaf_reg': 5.835825420674996, 'learning_rate': 0.15, 'max_depth': 5}. Best is trial 12 with value: 1427646.0036730696.\u001b[0m\n",
            "\u001b[32m[I 2023-03-21 13:04:48,595]\u001b[0m Trial 59 finished with value: 1493453.8190509009 and parameters: {'iterations': 1200, 'l2_leaf_reg': 4.830005969144561, 'learning_rate': 0.15, 'max_depth': 8}. Best is trial 12 with value: 1427646.0036730696.\u001b[0m\n",
            "\u001b[32m[I 2023-03-21 13:04:53,413]\u001b[0m Trial 60 finished with value: 1448119.259210255 and parameters: {'iterations': 1250, 'l2_leaf_reg': 5.43706626712569, 'learning_rate': 0.15, 'max_depth': 7}. Best is trial 12 with value: 1427646.0036730696.\u001b[0m\n",
            "\u001b[32m[I 2023-03-21 13:04:56,364]\u001b[0m Trial 61 finished with value: 1434226.6542775254 and parameters: {'iterations': 1200, 'l2_leaf_reg': 4.953474359924808, 'learning_rate': 0.15, 'max_depth': 5}. Best is trial 12 with value: 1427646.0036730696.\u001b[0m\n",
            "\u001b[32m[I 2023-03-21 13:04:59,230]\u001b[0m Trial 62 finished with value: 1448431.5858388604 and parameters: {'iterations': 1200, 'l2_leaf_reg': 5.096068607948154, 'learning_rate': 0.15, 'max_depth': 5}. Best is trial 12 with value: 1427646.0036730696.\u001b[0m\n",
            "\u001b[32m[I 2023-03-21 13:05:02,124]\u001b[0m Trial 63 finished with value: 1421319.7931537633 and parameters: {'iterations': 1200, 'l2_leaf_reg': 5.282663586156693, 'learning_rate': 0.15, 'max_depth': 5}. Best is trial 63 with value: 1421319.7931537633.\u001b[0m\n",
            "\u001b[32m[I 2023-03-21 13:05:05,015]\u001b[0m Trial 64 finished with value: 1652921.0694709166 and parameters: {'iterations': 1200, 'l2_leaf_reg': 5.3152580239278135, 'learning_rate': 0.01, 'max_depth': 5}. Best is trial 63 with value: 1421319.7931537633.\u001b[0m\n",
            "\u001b[32m[I 2023-03-21 13:05:07,883]\u001b[0m Trial 65 finished with value: 1441054.8066343765 and parameters: {'iterations': 1200, 'l2_leaf_reg': 5.499866766335449, 'learning_rate': 0.15, 'max_depth': 5}. Best is trial 63 with value: 1421319.7931537633.\u001b[0m\n",
            "\u001b[32m[I 2023-03-21 13:05:10,533]\u001b[0m Trial 66 finished with value: 1451854.6178390968 and parameters: {'iterations': 1100, 'l2_leaf_reg': 5.743936218233469, 'learning_rate': 0.1, 'max_depth': 5}. Best is trial 63 with value: 1421319.7931537633.\u001b[0m\n",
            "\u001b[32m[I 2023-03-21 13:05:13,440]\u001b[0m Trial 67 finished with value: 1436853.9449014198 and parameters: {'iterations': 1200, 'l2_leaf_reg': 5.200569286132232, 'learning_rate': 0.15, 'max_depth': 5}. Best is trial 63 with value: 1421319.7931537633.\u001b[0m\n",
            "\u001b[32m[I 2023-03-21 13:05:16,369]\u001b[0m Trial 68 finished with value: 1453903.8365568884 and parameters: {'iterations': 1200, 'l2_leaf_reg': 5.379330502898451, 'learning_rate': 0.05, 'max_depth': 5}. Best is trial 63 with value: 1421319.7931537633.\u001b[0m\n",
            "\u001b[32m[I 2023-03-21 13:05:19,715]\u001b[0m Trial 69 finished with value: 1468236.9393174273 and parameters: {'iterations': 1150, 'l2_leaf_reg': 5.545967582895213, 'learning_rate': 0.2, 'max_depth': 6}. Best is trial 63 with value: 1421319.7931537633.\u001b[0m\n",
            "\u001b[32m[I 2023-03-21 13:05:22,593]\u001b[0m Trial 70 finished with value: 1435141.7688134774 and parameters: {'iterations': 1200, 'l2_leaf_reg': 5.0143233918738535, 'learning_rate': 0.15, 'max_depth': 5}. Best is trial 63 with value: 1421319.7931537633.\u001b[0m\n",
            "\u001b[32m[I 2023-03-21 13:05:25,440]\u001b[0m Trial 71 finished with value: 1428976.7684287117 and parameters: {'iterations': 1200, 'l2_leaf_reg': 4.90548870911514, 'learning_rate': 0.15, 'max_depth': 5}. Best is trial 63 with value: 1421319.7931537633.\u001b[0m\n",
            "\u001b[32m[I 2023-03-21 13:05:28,306]\u001b[0m Trial 72 finished with value: 1441442.2270475149 and parameters: {'iterations': 1200, 'l2_leaf_reg': 5.2179044959041, 'learning_rate': 0.15, 'max_depth': 5}. Best is trial 63 with value: 1421319.7931537633.\u001b[0m\n",
            "\u001b[32m[I 2023-03-21 13:05:31,144]\u001b[0m Trial 73 finished with value: 1448431.5858388604 and parameters: {'iterations': 1200, 'l2_leaf_reg': 5.093989063929758, 'learning_rate': 0.15, 'max_depth': 5}. Best is trial 63 with value: 1421319.7931537633.\u001b[0m\n",
            "\u001b[32m[I 2023-03-21 13:05:34,062]\u001b[0m Trial 74 finished with value: 1442917.3375400144 and parameters: {'iterations': 1200, 'l2_leaf_reg': 4.701206941026021, 'learning_rate': 0.15, 'max_depth': 5}. Best is trial 63 with value: 1421319.7931537633.\u001b[0m\n",
            "\u001b[32m[I 2023-03-21 13:05:37,161]\u001b[0m Trial 75 finished with value: 1443275.8378745285 and parameters: {'iterations': 1200, 'l2_leaf_reg': 5.377150886918143, 'learning_rate': 0.15, 'max_depth': 5}. Best is trial 63 with value: 1421319.7931537633.\u001b[0m\n",
            "\u001b[32m[I 2023-03-21 13:05:40,074]\u001b[0m Trial 76 finished with value: 1442949.7636576153 and parameters: {'iterations': 1200, 'l2_leaf_reg': 4.8823938081379215, 'learning_rate': 0.15, 'max_depth': 5}. Best is trial 63 with value: 1421319.7931537633.\u001b[0m\n",
            "\u001b[32m[I 2023-03-21 13:05:46,760]\u001b[0m Trial 77 finished with value: 1480264.7940214395 and parameters: {'iterations': 1300, 'l2_leaf_reg': 5.27938707449105, 'learning_rate': 0.15, 'max_depth': 8}. Best is trial 63 with value: 1421319.7931537633.\u001b[0m\n",
            "\u001b[32m[I 2023-03-21 13:05:49,601]\u001b[0m Trial 78 finished with value: 1435008.6539599812 and parameters: {'iterations': 1200, 'l2_leaf_reg': 5.071451922144913, 'learning_rate': 0.15, 'max_depth': 5}. Best is trial 63 with value: 1421319.7931537633.\u001b[0m\n",
            "\u001b[32m[I 2023-03-21 13:05:54,464]\u001b[0m Trial 79 finished with value: 1572946.8317451703 and parameters: {'iterations': 1250, 'l2_leaf_reg': 4.896589095368589, 'learning_rate': 0.01, 'max_depth': 7}. Best is trial 63 with value: 1421319.7931537633.\u001b[0m\n",
            "\u001b[32m[I 2023-03-21 13:05:57,428]\u001b[0m Trial 80 finished with value: 1437401.8492081636 and parameters: {'iterations': 1200, 'l2_leaf_reg': 5.171008517841164, 'learning_rate': 0.1, 'max_depth': 5}. Best is trial 63 with value: 1421319.7931537633.\u001b[0m\n",
            "\u001b[32m[I 2023-03-21 13:06:00,469]\u001b[0m Trial 81 finished with value: 1427868.4002232354 and parameters: {'iterations': 1200, 'l2_leaf_reg': 4.7746399666900325, 'learning_rate': 0.15, 'max_depth': 5}. Best is trial 63 with value: 1421319.7931537633.\u001b[0m\n",
            "\u001b[32m[I 2023-03-21 13:06:03,591]\u001b[0m Trial 82 finished with value: 1434108.1850257397 and parameters: {'iterations': 1200, 'l2_leaf_reg': 4.80576385769787, 'learning_rate': 0.15, 'max_depth': 5}. Best is trial 63 with value: 1421319.7931537633.\u001b[0m\n",
            "\u001b[32m[I 2023-03-21 13:06:06,753]\u001b[0m Trial 83 finished with value: 1437608.7268297067 and parameters: {'iterations': 1200, 'l2_leaf_reg': 4.652100783476394, 'learning_rate': 0.15, 'max_depth': 5}. Best is trial 63 with value: 1421319.7931537633.\u001b[0m\n",
            "\u001b[32m[I 2023-03-21 13:06:09,493]\u001b[0m Trial 84 finished with value: 1434887.9687836785 and parameters: {'iterations': 1100, 'l2_leaf_reg': 5.000124394690507, 'learning_rate': 0.15, 'max_depth': 5}. Best is trial 63 with value: 1421319.7931537633.\u001b[0m\n",
            "\u001b[32m[I 2023-03-21 13:06:12,429]\u001b[0m Trial 85 finished with value: 1439852.897963307 and parameters: {'iterations': 1200, 'l2_leaf_reg': 4.53071450705436, 'learning_rate': 0.15, 'max_depth': 5}. Best is trial 63 with value: 1421319.7931537633.\u001b[0m\n",
            "\u001b[32m[I 2023-03-21 13:06:15,285]\u001b[0m Trial 86 finished with value: 1458705.6816454271 and parameters: {'iterations': 1200, 'l2_leaf_reg': 4.779123231121258, 'learning_rate': 0.2, 'max_depth': 5}. Best is trial 63 with value: 1421319.7931537633.\u001b[0m\n",
            "\u001b[32m[I 2023-03-21 13:06:18,673]\u001b[0m Trial 87 finished with value: 1449611.3920770301 and parameters: {'iterations': 1200, 'l2_leaf_reg': 5.345175115826812, 'learning_rate': 0.15, 'max_depth': 6}. Best is trial 63 with value: 1421319.7931537633.\u001b[0m\n",
            "\u001b[32m[I 2023-03-21 13:06:21,570]\u001b[0m Trial 88 finished with value: 1455936.0007306794 and parameters: {'iterations': 1200, 'l2_leaf_reg': 5.138389486204936, 'learning_rate': 0.05, 'max_depth': 5}. Best is trial 63 with value: 1421319.7931537633.\u001b[0m\n",
            "\u001b[32m[I 2023-03-21 13:06:24,394]\u001b[0m Trial 89 finished with value: 1449156.5362908777 and parameters: {'iterations': 1200, 'l2_leaf_reg': 5.637533833329538, 'learning_rate': 0.15, 'max_depth': 5}. Best is trial 63 with value: 1421319.7931537633.\u001b[0m\n",
            "\u001b[32m[I 2023-03-21 13:06:27,119]\u001b[0m Trial 90 finished with value: 1439535.007721307 and parameters: {'iterations': 1150, 'l2_leaf_reg': 5.513983811629054, 'learning_rate': 0.15, 'max_depth': 5}. Best is trial 63 with value: 1421319.7931537633.\u001b[0m\n",
            "\u001b[32m[I 2023-03-21 13:06:29,950]\u001b[0m Trial 91 finished with value: 1442859.2903490765 and parameters: {'iterations': 1200, 'l2_leaf_reg': 4.823278281694574, 'learning_rate': 0.15, 'max_depth': 5}. Best is trial 63 with value: 1421319.7931537633.\u001b[0m\n",
            "\u001b[32m[I 2023-03-21 13:06:32,808]\u001b[0m Trial 92 finished with value: 1435042.7376405934 and parameters: {'iterations': 1200, 'l2_leaf_reg': 4.9367433152533975, 'learning_rate': 0.15, 'max_depth': 5}. Best is trial 63 with value: 1421319.7931537633.\u001b[0m\n",
            "\u001b[32m[I 2023-03-21 13:06:35,643]\u001b[0m Trial 93 finished with value: 1427868.4002232354 and parameters: {'iterations': 1200, 'l2_leaf_reg': 4.777260755181216, 'learning_rate': 0.15, 'max_depth': 5}. Best is trial 63 with value: 1421319.7931537633.\u001b[0m\n",
            "\u001b[32m[I 2023-03-21 13:06:38,455]\u001b[0m Trial 94 finished with value: 1437607.203573796 and parameters: {'iterations': 1200, 'l2_leaf_reg': 5.244084376908323, 'learning_rate': 0.15, 'max_depth': 5}. Best is trial 63 with value: 1421319.7931537633.\u001b[0m\n",
            "\u001b[32m[I 2023-03-21 13:06:41,270]\u001b[0m Trial 95 finished with value: 1448019.4716780707 and parameters: {'iterations': 1200, 'l2_leaf_reg': 4.591179849725976, 'learning_rate': 0.15, 'max_depth': 5}. Best is trial 63 with value: 1421319.7931537633.\u001b[0m\n",
            "\u001b[32m[I 2023-03-21 13:06:47,174]\u001b[0m Trial 96 finished with value: 1518341.2721402985 and parameters: {'iterations': 1200, 'l2_leaf_reg': 5.0432835359198664, 'learning_rate': 0.15, 'max_depth': 8}. Best is trial 63 with value: 1421319.7931537633.\u001b[0m\n",
            "\u001b[32m[I 2023-03-21 13:06:51,896]\u001b[0m Trial 97 finished with value: 1458970.352573912 and parameters: {'iterations': 1300, 'l2_leaf_reg': 4.927174342176539, 'learning_rate': 0.15, 'max_depth': 7}. Best is trial 63 with value: 1421319.7931537633.\u001b[0m\n",
            "\u001b[32m[I 2023-03-21 13:06:55,005]\u001b[0m Trial 98 finished with value: 1433905.304908695 and parameters: {'iterations': 1200, 'l2_leaf_reg': 4.7259051281582884, 'learning_rate': 0.15, 'max_depth': 5}. Best is trial 63 with value: 1421319.7931537633.\u001b[0m\n",
            "\u001b[32m[I 2023-03-21 13:06:58,032]\u001b[0m Trial 99 finished with value: 1433592.7733788902 and parameters: {'iterations': 1250, 'l2_leaf_reg': 5.2837259325733825, 'learning_rate': 0.15, 'max_depth': 5}. Best is trial 63 with value: 1421319.7931537633.\u001b[0m\n"
          ]
        },
        {
          "output_type": "stream",
          "name": "stdout",
          "text": [
            "Параметры, полученные при лучшей оценке: {'iterations': 1200, 'l2_leaf_reg': 5.282663586156693, 'learning_rate': 0.15, 'max_depth': 5}\n"
          ]
        }
      ]
    },
    {
      "cell_type": "code",
      "source": [
        "params = study_cat.best_trial.params\n",
        "\n",
        "\n",
        "cat_clf = CatBoostRegressor(**params,verbose=False)\n",
        "cat_clf.fit(train.drop(['price_doc','timestamp'],axis = 1),train['price_doc'])\n",
        "\n",
        "test['price_doc']=cat_clf.predict(test.drop(['timestamp'],axis = 1))\n",
        "test['id'] = test.index\n",
        "test[['id', 'price_doc']].to_csv('sub_chernykh_4.csv', index=None)"
      ],
      "metadata": {
        "id": "K0CjoEfoNZPd"
      },
      "execution_count": 230,
      "outputs": []
    },
    {
      "cell_type": "markdown",
      "source": [
        "1806589.89836 модель значительно ухудшилась"
      ],
      "metadata": {
        "id": "Ur8odkVqPShx"
      }
    },
    {
      "cell_type": "markdown",
      "source": [
        "### С сильными признаками 1"
      ],
      "metadata": {
        "id": "YqhHK_iRQGVs"
      }
    },
    {
      "cell_type": "code",
      "source": [
        "X_train, X_test, y_train, y_test = train_test_split(train[strong_features], train.price_doc, random_state = SEED, test_size=0.18)\n",
        "\n",
        "def objective_cat(trial):   \n",
        "    param = {\n",
        "        'iterations': trial.suggest_categorical('iterations', [1100, 1150, 1200, 1250, 1300]), \n",
        "        'verbose': 0, \n",
        "        'random_seed': SEED,\n",
        "        'loss_function': 'MAE',\n",
        "        'l2_leaf_reg': trial.suggest_float('l2_leaf_reg', 4, 8),\n",
        "        'early_stopping_rounds' : 3000,\n",
        "        'eval_metric': 'MAE',\n",
        "        'learning_rate': trial.suggest_categorical('learning_rate', [0.01, 0.05, 0.1, 0.15, 0.2]),\n",
        "        'max_depth': trial.suggest_categorical('max_depth', [5, 6, 7, 8])\n",
        "    }\n",
        "    model = CatBoostRegressor(**param)  \n",
        "    \n",
        "    model.fit(X_train, y_train)\n",
        "    \n",
        "    preds = model.predict(X_test)\n",
        "    \n",
        "    MAE = mean_absolute_error(y_test, preds)\n",
        "    \n",
        "    return MAE\n",
        "\n",
        "# sampler=optuna.samplers.TPESampler(seed=SEED) нужен для повторения результатов при перезапуске\n",
        "study_cat = optuna.create_study(direction='minimize', sampler=optuna.samplers.TPESampler(seed=SEED))\n",
        "\n",
        "# Здесь n_trials показывает, сколько раз будет построена модель со случайными параметрами\n",
        "\n",
        "study_cat.optimize(objective_cat, n_trials=100)\n",
        "\n",
        "print('Параметры, полученные при лучшей оценке:', study_cat.best_trial.params)"
      ],
      "metadata": {
        "colab": {
          "base_uri": "https://localhost:8080/"
        },
        "id": "XSZngd_9QKJY",
        "outputId": "e48abec3-88ee-4304-b5a7-fc7e69a4a66c"
      },
      "execution_count": 241,
      "outputs": [
        {
          "output_type": "stream",
          "name": "stderr",
          "text": [
            "\u001b[32m[I 2023-03-21 13:20:00,283]\u001b[0m A new study created in memory with name: no-name-2ce9bf43-2f48-42f0-8be6-7b063b1cbcde\u001b[0m\n",
            "\u001b[32m[I 2023-03-21 13:20:03,211]\u001b[0m Trial 0 finished with value: 1466311.1881227917 and parameters: {'iterations': 1300, 'l2_leaf_reg': 4.050812788139071, 'learning_rate': 0.15, 'max_depth': 5}. Best is trial 0 with value: 1466311.1881227917.\u001b[0m\n",
            "\u001b[32m[I 2023-03-21 13:20:06,888]\u001b[0m Trial 1 finished with value: 1511731.8373303816 and parameters: {'iterations': 1100, 'l2_leaf_reg': 4.092945196955616, 'learning_rate': 0.2, 'max_depth': 7}. Best is trial 0 with value: 1466311.1881227917.\u001b[0m\n",
            "\u001b[32m[I 2023-03-21 13:20:10,379]\u001b[0m Trial 2 finished with value: 1451524.645384084 and parameters: {'iterations': 1100, 'l2_leaf_reg': 6.9721887669825415, 'learning_rate': 0.1, 'max_depth': 7}. Best is trial 2 with value: 1451524.645384084.\u001b[0m\n",
            "\u001b[32m[I 2023-03-21 13:20:14,201]\u001b[0m Trial 3 finished with value: 1456619.629768042 and parameters: {'iterations': 1200, 'l2_leaf_reg': 5.573905074335195, 'learning_rate': 0.15, 'max_depth': 7}. Best is trial 2 with value: 1451524.645384084.\u001b[0m\n",
            "\u001b[32m[I 2023-03-21 13:20:19,258]\u001b[0m Trial 4 finished with value: 1471041.4998046358 and parameters: {'iterations': 1150, 'l2_leaf_reg': 5.723207289855774, 'learning_rate': 0.1, 'max_depth': 8}. Best is trial 2 with value: 1451524.645384084.\u001b[0m\n",
            "\u001b[32m[I 2023-03-21 13:20:22,517]\u001b[0m Trial 5 finished with value: 1458518.638160146 and parameters: {'iterations': 1250, 'l2_leaf_reg': 6.858359856877987, 'learning_rate': 0.15, 'max_depth': 6}. Best is trial 2 with value: 1451524.645384084.\u001b[0m\n",
            "\u001b[32m[I 2023-03-21 13:20:26,605]\u001b[0m Trial 6 finished with value: 1491468.0538793947 and parameters: {'iterations': 1300, 'l2_leaf_reg': 6.590005956569925, 'learning_rate': 0.2, 'max_depth': 7}. Best is trial 2 with value: 1451524.645384084.\u001b[0m\n",
            "\u001b[32m[I 2023-03-21 13:20:30,480]\u001b[0m Trial 7 finished with value: 1589852.3998383149 and parameters: {'iterations': 1200, 'l2_leaf_reg': 7.490253299323136, 'learning_rate': 0.01, 'max_depth': 7}. Best is trial 2 with value: 1451524.645384084.\u001b[0m\n",
            "\u001b[32m[I 2023-03-21 13:20:36,004]\u001b[0m Trial 8 finished with value: 1469664.848249661 and parameters: {'iterations': 1250, 'l2_leaf_reg': 4.0157775970825895, 'learning_rate': 0.1, 'max_depth': 8}. Best is trial 2 with value: 1451524.645384084.\u001b[0m\n",
            "\u001b[32m[I 2023-03-21 13:20:41,267]\u001b[0m Trial 9 finished with value: 1510408.3251334566 and parameters: {'iterations': 1100, 'l2_leaf_reg': 7.356008305729379, 'learning_rate': 0.2, 'max_depth': 8}. Best is trial 2 with value: 1451524.645384084.\u001b[0m\n",
            "\u001b[32m[I 2023-03-21 13:20:43,933]\u001b[0m Trial 10 finished with value: 1480918.0005383033 and parameters: {'iterations': 1100, 'l2_leaf_reg': 7.994757805077363, 'learning_rate': 0.05, 'max_depth': 5}. Best is trial 2 with value: 1451524.645384084.\u001b[0m\n",
            "\u001b[32m[I 2023-03-21 13:20:47,877]\u001b[0m Trial 11 finished with value: 1470541.8854080047 and parameters: {'iterations': 1200, 'l2_leaf_reg': 5.797755141706157, 'learning_rate': 0.15, 'max_depth': 7}. Best is trial 2 with value: 1451524.645384084.\u001b[0m\n",
            "\u001b[32m[I 2023-03-21 13:20:52,071]\u001b[0m Trial 12 finished with value: 1441884.0070532835 and parameters: {'iterations': 1200, 'l2_leaf_reg': 5.218804992950136, 'learning_rate': 0.1, 'max_depth': 7}. Best is trial 12 with value: 1441884.0070532835.\u001b[0m\n",
            "\u001b[32m[I 2023-03-21 13:20:55,103]\u001b[0m Trial 13 finished with value: 1448502.4114628942 and parameters: {'iterations': 1150, 'l2_leaf_reg': 5.133188634942069, 'learning_rate': 0.1, 'max_depth': 6}. Best is trial 12 with value: 1441884.0070532835.\u001b[0m\n",
            "\u001b[32m[I 2023-03-21 13:20:58,104]\u001b[0m Trial 14 finished with value: 1451854.47699685 and parameters: {'iterations': 1150, 'l2_leaf_reg': 5.018209852492437, 'learning_rate': 0.1, 'max_depth': 6}. Best is trial 12 with value: 1441884.0070532835.\u001b[0m\n",
            "\u001b[32m[I 2023-03-21 13:21:01,191]\u001b[0m Trial 15 finished with value: 1459844.792969954 and parameters: {'iterations': 1150, 'l2_leaf_reg': 4.83592486213562, 'learning_rate': 0.1, 'max_depth': 6}. Best is trial 12 with value: 1441884.0070532835.\u001b[0m\n",
            "\u001b[32m[I 2023-03-21 13:21:04,300]\u001b[0m Trial 16 finished with value: 1624103.0372220953 and parameters: {'iterations': 1150, 'l2_leaf_reg': 6.2512120282031844, 'learning_rate': 0.01, 'max_depth': 6}. Best is trial 12 with value: 1441884.0070532835.\u001b[0m\n",
            "\u001b[32m[I 2023-03-21 13:21:07,528]\u001b[0m Trial 17 finished with value: 1464697.176428295 and parameters: {'iterations': 1200, 'l2_leaf_reg': 5.059189884216211, 'learning_rate': 0.05, 'max_depth': 6}. Best is trial 12 with value: 1441884.0070532835.\u001b[0m\n",
            "\u001b[32m[I 2023-03-21 13:21:10,224]\u001b[0m Trial 18 finished with value: 1469761.7627860662 and parameters: {'iterations': 1150, 'l2_leaf_reg': 5.375592444306988, 'learning_rate': 0.1, 'max_depth': 5}. Best is trial 12 with value: 1441884.0070532835.\u001b[0m\n",
            "\u001b[32m[I 2023-03-21 13:21:13,520]\u001b[0m Trial 19 finished with value: 1454930.2588043846 and parameters: {'iterations': 1200, 'l2_leaf_reg': 6.159341335098235, 'learning_rate': 0.1, 'max_depth': 6}. Best is trial 12 with value: 1441884.0070532835.\u001b[0m\n",
            "\u001b[32m[I 2023-03-21 13:21:17,629]\u001b[0m Trial 20 finished with value: 1445787.9463047255 and parameters: {'iterations': 1250, 'l2_leaf_reg': 4.7771482371781175, 'learning_rate': 0.1, 'max_depth': 7}. Best is trial 12 with value: 1441884.0070532835.\u001b[0m\n",
            "\u001b[32m[I 2023-03-21 13:21:21,984]\u001b[0m Trial 21 finished with value: 1454002.40211125 and parameters: {'iterations': 1250, 'l2_leaf_reg': 4.674541281566228, 'learning_rate': 0.1, 'max_depth': 7}. Best is trial 12 with value: 1441884.0070532835.\u001b[0m\n",
            "\u001b[32m[I 2023-03-21 13:21:26,120]\u001b[0m Trial 22 finished with value: 1447086.85258688 and parameters: {'iterations': 1250, 'l2_leaf_reg': 5.3245533492373935, 'learning_rate': 0.1, 'max_depth': 7}. Best is trial 12 with value: 1441884.0070532835.\u001b[0m\n",
            "\u001b[32m[I 2023-03-21 13:21:30,182]\u001b[0m Trial 23 finished with value: 1467559.591670876 and parameters: {'iterations': 1250, 'l2_leaf_reg': 4.643720428813543, 'learning_rate': 0.1, 'max_depth': 7}. Best is trial 12 with value: 1441884.0070532835.\u001b[0m\n",
            "\u001b[32m[I 2023-03-21 13:21:34,412]\u001b[0m Trial 24 finished with value: 1432307.0050839644 and parameters: {'iterations': 1250, 'l2_leaf_reg': 5.3439917372314065, 'learning_rate': 0.1, 'max_depth': 7}. Best is trial 24 with value: 1432307.0050839644.\u001b[0m\n",
            "\u001b[32m[I 2023-03-21 13:21:38,542]\u001b[0m Trial 25 finished with value: 1450677.2810641942 and parameters: {'iterations': 1250, 'l2_leaf_reg': 4.4470173540669835, 'learning_rate': 0.05, 'max_depth': 7}. Best is trial 24 with value: 1432307.0050839644.\u001b[0m\n",
            "\u001b[32m[I 2023-03-21 13:21:42,640]\u001b[0m Trial 26 finished with value: 1580049.790142689 and parameters: {'iterations': 1250, 'l2_leaf_reg': 5.405455686577546, 'learning_rate': 0.01, 'max_depth': 7}. Best is trial 24 with value: 1432307.0050839644.\u001b[0m\n",
            "\u001b[32m[I 2023-03-21 13:21:46,774]\u001b[0m Trial 27 finished with value: 1475396.0628578693 and parameters: {'iterations': 1250, 'l2_leaf_reg': 5.919851596805344, 'learning_rate': 0.1, 'max_depth': 7}. Best is trial 24 with value: 1432307.0050839644.\u001b[0m\n",
            "\u001b[32m[I 2023-03-21 13:21:51,005]\u001b[0m Trial 28 finished with value: 1454157.2738509008 and parameters: {'iterations': 1300, 'l2_leaf_reg': 5.529695592686416, 'learning_rate': 0.1, 'max_depth': 7}. Best is trial 24 with value: 1432307.0050839644.\u001b[0m\n",
            "\u001b[32m[I 2023-03-21 13:21:54,294]\u001b[0m Trial 29 finished with value: 1463283.1979981195 and parameters: {'iterations': 1300, 'l2_leaf_reg': 4.356964135319702, 'learning_rate': 0.1, 'max_depth': 5}. Best is trial 24 with value: 1432307.0050839644.\u001b[0m\n",
            "\u001b[32m[I 2023-03-21 13:21:58,745]\u001b[0m Trial 30 finished with value: 1584749.5107322515 and parameters: {'iterations': 1200, 'l2_leaf_reg': 4.88586677172375, 'learning_rate': 0.01, 'max_depth': 7}. Best is trial 24 with value: 1432307.0050839644.\u001b[0m\n",
            "\u001b[32m[I 2023-03-21 13:22:02,971]\u001b[0m Trial 31 finished with value: 1442430.8163426232 and parameters: {'iterations': 1250, 'l2_leaf_reg': 5.15974965396729, 'learning_rate': 0.1, 'max_depth': 7}. Best is trial 24 with value: 1432307.0050839644.\u001b[0m\n",
            "\u001b[32m[I 2023-03-21 13:22:07,096]\u001b[0m Trial 32 finished with value: 1442696.4026830988 and parameters: {'iterations': 1250, 'l2_leaf_reg': 5.169932352453369, 'learning_rate': 0.1, 'max_depth': 7}. Best is trial 24 with value: 1432307.0050839644.\u001b[0m\n",
            "\u001b[32m[I 2023-03-21 13:22:11,097]\u001b[0m Trial 33 finished with value: 1483231.773721933 and parameters: {'iterations': 1250, 'l2_leaf_reg': 5.14512788539057, 'learning_rate': 0.2, 'max_depth': 7}. Best is trial 24 with value: 1432307.0050839644.\u001b[0m\n",
            "\u001b[32m[I 2023-03-21 13:22:15,255]\u001b[0m Trial 34 finished with value: 1447188.3630136596 and parameters: {'iterations': 1250, 'l2_leaf_reg': 5.232744997265042, 'learning_rate': 0.1, 'max_depth': 7}. Best is trial 24 with value: 1432307.0050839644.\u001b[0m\n",
            "\u001b[32m[I 2023-03-21 13:22:19,436]\u001b[0m Trial 35 finished with value: 1471927.385172978 and parameters: {'iterations': 1250, 'l2_leaf_reg': 5.803375478574622, 'learning_rate': 0.15, 'max_depth': 7}. Best is trial 24 with value: 1432307.0050839644.\u001b[0m\n",
            "\u001b[32m[I 2023-03-21 13:22:25,439]\u001b[0m Trial 36 finished with value: 1466819.085939042 and parameters: {'iterations': 1200, 'l2_leaf_reg': 5.522388405420472, 'learning_rate': 0.1, 'max_depth': 8}. Best is trial 24 with value: 1432307.0050839644.\u001b[0m\n",
            "\u001b[32m[I 2023-03-21 13:22:29,192]\u001b[0m Trial 37 finished with value: 1470480.9563745325 and parameters: {'iterations': 1100, 'l2_leaf_reg': 5.630426547707073, 'learning_rate': 0.1, 'max_depth': 7}. Best is trial 24 with value: 1432307.0050839644.\u001b[0m\n",
            "\u001b[32m[I 2023-03-21 13:22:31,963]\u001b[0m Trial 38 finished with value: 1467632.2311399758 and parameters: {'iterations': 1250, 'l2_leaf_reg': 4.969254047132255, 'learning_rate': 0.2, 'max_depth': 5}. Best is trial 24 with value: 1432307.0050839644.\u001b[0m\n",
            "\u001b[32m[I 2023-03-21 13:22:36,160]\u001b[0m Trial 39 finished with value: 1458525.430456137 and parameters: {'iterations': 1300, 'l2_leaf_reg': 5.260496871188483, 'learning_rate': 0.15, 'max_depth': 7}. Best is trial 24 with value: 1432307.0050839644.\u001b[0m\n",
            "\u001b[32m[I 2023-03-21 13:22:41,660]\u001b[0m Trial 40 finished with value: 1473049.6967026698 and parameters: {'iterations': 1250, 'l2_leaf_reg': 5.470167625509717, 'learning_rate': 0.1, 'max_depth': 8}. Best is trial 24 with value: 1432307.0050839644.\u001b[0m\n",
            "\u001b[32m[I 2023-03-21 13:22:45,674]\u001b[0m Trial 41 finished with value: 1444963.182440939 and parameters: {'iterations': 1250, 'l2_leaf_reg': 4.806556675168987, 'learning_rate': 0.1, 'max_depth': 7}. Best is trial 24 with value: 1432307.0050839644.\u001b[0m\n",
            "\u001b[32m[I 2023-03-21 13:22:49,668]\u001b[0m Trial 42 finished with value: 1434128.458856325 and parameters: {'iterations': 1250, 'l2_leaf_reg': 4.982465388431321, 'learning_rate': 0.1, 'max_depth': 7}. Best is trial 24 with value: 1432307.0050839644.\u001b[0m\n",
            "\u001b[32m[I 2023-03-21 13:22:53,676]\u001b[0m Trial 43 finished with value: 1437704.1127359988 and parameters: {'iterations': 1250, 'l2_leaf_reg': 5.198314752693061, 'learning_rate': 0.1, 'max_depth': 7}. Best is trial 24 with value: 1432307.0050839644.\u001b[0m\n",
            "\u001b[32m[I 2023-03-21 13:22:57,573]\u001b[0m Trial 44 finished with value: 1461837.1599967717 and parameters: {'iterations': 1200, 'l2_leaf_reg': 5.718947052485979, 'learning_rate': 0.05, 'max_depth': 7}. Best is trial 24 with value: 1432307.0050839644.\u001b[0m\n",
            "\u001b[32m[I 2023-03-21 13:23:01,082]\u001b[0m Trial 45 finished with value: 1433337.2016653565 and parameters: {'iterations': 1100, 'l2_leaf_reg': 5.006769823803945, 'learning_rate': 0.1, 'max_depth': 7}. Best is trial 24 with value: 1432307.0050839644.\u001b[0m\n",
            "\u001b[32m[I 2023-03-21 13:23:04,638]\u001b[0m Trial 46 finished with value: 1449339.008980605 and parameters: {'iterations': 1100, 'l2_leaf_reg': 4.968153704263374, 'learning_rate': 0.1, 'max_depth': 7}. Best is trial 24 with value: 1432307.0050839644.\u001b[0m\n",
            "\u001b[32m[I 2023-03-21 13:23:08,369]\u001b[0m Trial 47 finished with value: 1505624.6673337733 and parameters: {'iterations': 1100, 'l2_leaf_reg': 5.324357016720411, 'learning_rate': 0.2, 'max_depth': 7}. Best is trial 24 with value: 1432307.0050839644.\u001b[0m\n",
            "\u001b[32m[I 2023-03-21 13:23:13,124]\u001b[0m Trial 48 finished with value: 1460120.0196364606 and parameters: {'iterations': 1100, 'l2_leaf_reg': 4.547943751624573, 'learning_rate': 0.1, 'max_depth': 8}. Best is trial 24 with value: 1432307.0050839644.\u001b[0m\n",
            "\u001b[32m[I 2023-03-21 13:23:16,620]\u001b[0m Trial 49 finished with value: 1480961.7427642494 and parameters: {'iterations': 1100, 'l2_leaf_reg': 5.010984099695729, 'learning_rate': 0.15, 'max_depth': 7}. Best is trial 24 with value: 1432307.0050839644.\u001b[0m\n",
            "\u001b[32m[I 2023-03-21 13:23:19,436]\u001b[0m Trial 50 finished with value: 1657550.3788358588 and parameters: {'iterations': 1200, 'l2_leaf_reg': 4.27884563561873, 'learning_rate': 0.01, 'max_depth': 5}. Best is trial 24 with value: 1432307.0050839644.\u001b[0m\n",
            "\u001b[32m[I 2023-03-21 13:23:23,420]\u001b[0m Trial 51 finished with value: 1450520.8876267427 and parameters: {'iterations': 1250, 'l2_leaf_reg': 5.104385277740982, 'learning_rate': 0.1, 'max_depth': 7}. Best is trial 24 with value: 1432307.0050839644.\u001b[0m\n",
            "\u001b[32m[I 2023-03-21 13:23:27,516]\u001b[0m Trial 52 finished with value: 1452711.0283620842 and parameters: {'iterations': 1250, 'l2_leaf_reg': 4.755377755936118, 'learning_rate': 0.1, 'max_depth': 7}. Best is trial 24 with value: 1432307.0050839644.\u001b[0m\n",
            "\u001b[32m[I 2023-03-21 13:23:31,364]\u001b[0m Trial 53 finished with value: 1450672.7178543245 and parameters: {'iterations': 1100, 'l2_leaf_reg': 4.931676367360704, 'learning_rate': 0.1, 'max_depth': 7}. Best is trial 24 with value: 1432307.0050839644.\u001b[0m\n",
            "\u001b[32m[I 2023-03-21 13:23:35,792]\u001b[0m Trial 54 finished with value: 1438758.6249278456 and parameters: {'iterations': 1250, 'l2_leaf_reg': 5.208414483229352, 'learning_rate': 0.1, 'max_depth': 7}. Best is trial 24 with value: 1432307.0050839644.\u001b[0m\n",
            "\u001b[32m[I 2023-03-21 13:23:40,042]\u001b[0m Trial 55 finished with value: 1463951.724707483 and parameters: {'iterations': 1200, 'l2_leaf_reg': 5.394628988295297, 'learning_rate': 0.1, 'max_depth': 7}. Best is trial 24 with value: 1432307.0050839644.\u001b[0m\n",
            "\u001b[32m[I 2023-03-21 13:23:44,575]\u001b[0m Trial 56 finished with value: 1459071.5067913563 and parameters: {'iterations': 1250, 'l2_leaf_reg': 4.575950612340367, 'learning_rate': 0.05, 'max_depth': 7}. Best is trial 24 with value: 1432307.0050839644.\u001b[0m\n",
            "\u001b[32m[I 2023-03-21 13:23:48,257]\u001b[0m Trial 57 finished with value: 1455458.2657698095 and parameters: {'iterations': 1150, 'l2_leaf_reg': 5.672597314296207, 'learning_rate': 0.1, 'max_depth': 7}. Best is trial 24 with value: 1432307.0050839644.\u001b[0m\n",
            "\u001b[32m[I 2023-03-21 13:23:51,646]\u001b[0m Trial 58 finished with value: 1456208.4292522667 and parameters: {'iterations': 1300, 'l2_leaf_reg': 5.279994123400149, 'learning_rate': 0.1, 'max_depth': 6}. Best is trial 24 with value: 1432307.0050839644.\u001b[0m\n",
            "\u001b[32m[I 2023-03-21 13:23:55,637]\u001b[0m Trial 59 finished with value: 1447491.2824552304 and parameters: {'iterations': 1250, 'l2_leaf_reg': 5.535884405666879, 'learning_rate': 0.1, 'max_depth': 7}. Best is trial 24 with value: 1432307.0050839644.\u001b[0m\n",
            "\u001b[32m[I 2023-03-21 13:24:00,410]\u001b[0m Trial 60 finished with value: 1480170.8718168484 and parameters: {'iterations': 1100, 'l2_leaf_reg': 4.858663326528857, 'learning_rate': 0.1, 'max_depth': 8}. Best is trial 24 with value: 1432307.0050839644.\u001b[0m\n",
            "\u001b[32m[I 2023-03-21 13:24:04,405]\u001b[0m Trial 61 finished with value: 1450520.8876267427 and parameters: {'iterations': 1250, 'l2_leaf_reg': 5.105550733288536, 'learning_rate': 0.1, 'max_depth': 7}. Best is trial 24 with value: 1432307.0050839644.\u001b[0m\n",
            "\u001b[32m[I 2023-03-21 13:24:08,422]\u001b[0m Trial 62 finished with value: 1429527.7003508892 and parameters: {'iterations': 1250, 'l2_leaf_reg': 5.248110834214657, 'learning_rate': 0.1, 'max_depth': 7}. Best is trial 62 with value: 1429527.7003508892.\u001b[0m\n",
            "\u001b[32m[I 2023-03-21 13:24:12,597]\u001b[0m Trial 63 finished with value: 1443430.292838162 and parameters: {'iterations': 1250, 'l2_leaf_reg': 5.38174992934944, 'learning_rate': 0.1, 'max_depth': 7}. Best is trial 62 with value: 1429527.7003508892.\u001b[0m\n",
            "\u001b[32m[I 2023-03-21 13:24:16,678]\u001b[0m Trial 64 finished with value: 1447925.0198218648 and parameters: {'iterations': 1250, 'l2_leaf_reg': 4.703836218677017, 'learning_rate': 0.1, 'max_depth': 7}. Best is trial 62 with value: 1429527.7003508892.\u001b[0m\n",
            "\u001b[32m[I 2023-03-21 13:24:21,516]\u001b[0m Trial 65 finished with value: 1447188.3630136596 and parameters: {'iterations': 1250, 'l2_leaf_reg': 5.228060193455739, 'learning_rate': 0.1, 'max_depth': 7}. Best is trial 62 with value: 1429527.7003508892.\u001b[0m\n",
            "\u001b[32m[I 2023-03-21 13:24:24,374]\u001b[0m Trial 66 finished with value: 1656446.4146524933 and parameters: {'iterations': 1200, 'l2_leaf_reg': 5.063967933825699, 'learning_rate': 0.01, 'max_depth': 5}. Best is trial 62 with value: 1429527.7003508892.\u001b[0m\n",
            "\u001b[32m[I 2023-03-21 13:24:28,548]\u001b[0m Trial 67 finished with value: 1465673.6668392667 and parameters: {'iterations': 1250, 'l2_leaf_reg': 5.451355822308484, 'learning_rate': 0.1, 'max_depth': 7}. Best is trial 62 with value: 1429527.7003508892.\u001b[0m\n",
            "\u001b[32m[I 2023-03-21 13:24:31,600]\u001b[0m Trial 68 finished with value: 1460652.214406212 and parameters: {'iterations': 1150, 'l2_leaf_reg': 4.900934310648358, 'learning_rate': 0.2, 'max_depth': 6}. Best is trial 62 with value: 1429527.7003508892.\u001b[0m\n",
            "\u001b[32m[I 2023-03-21 13:24:35,698]\u001b[0m Trial 69 finished with value: 1459303.1821654788 and parameters: {'iterations': 1250, 'l2_leaf_reg': 5.563568387694888, 'learning_rate': 0.05, 'max_depth': 7}. Best is trial 62 with value: 1429527.7003508892.\u001b[0m\n",
            "\u001b[32m[I 2023-03-21 13:24:39,722]\u001b[0m Trial 70 finished with value: 1447188.3630136596 and parameters: {'iterations': 1250, 'l2_leaf_reg': 5.2362743655974535, 'learning_rate': 0.1, 'max_depth': 7}. Best is trial 62 with value: 1429527.7003508892.\u001b[0m\n",
            "\u001b[32m[I 2023-03-21 13:24:43,762]\u001b[0m Trial 71 finished with value: 1443216.373677699 and parameters: {'iterations': 1250, 'l2_leaf_reg': 5.147514814320896, 'learning_rate': 0.1, 'max_depth': 7}. Best is trial 62 with value: 1429527.7003508892.\u001b[0m\n",
            "\u001b[32m[I 2023-03-21 13:24:47,774]\u001b[0m Trial 72 finished with value: 1431948.7293083577 and parameters: {'iterations': 1250, 'l2_leaf_reg': 5.013878253045762, 'learning_rate': 0.1, 'max_depth': 7}. Best is trial 62 with value: 1429527.7003508892.\u001b[0m\n",
            "\u001b[32m[I 2023-03-21 13:24:51,837]\u001b[0m Trial 73 finished with value: 1433081.925568962 and parameters: {'iterations': 1250, 'l2_leaf_reg': 5.048105013732054, 'learning_rate': 0.1, 'max_depth': 7}. Best is trial 62 with value: 1429527.7003508892.\u001b[0m\n",
            "\u001b[32m[I 2023-03-21 13:24:55,824]\u001b[0m Trial 74 finished with value: 1456413.3310859283 and parameters: {'iterations': 1250, 'l2_leaf_reg': 4.7540344472517075, 'learning_rate': 0.1, 'max_depth': 7}. Best is trial 62 with value: 1429527.7003508892.\u001b[0m\n",
            "\u001b[32m[I 2023-03-21 13:24:59,894]\u001b[0m Trial 75 finished with value: 1450403.45095198 and parameters: {'iterations': 1250, 'l2_leaf_reg': 4.988899834554783, 'learning_rate': 0.1, 'max_depth': 7}. Best is trial 62 with value: 1429527.7003508892.\u001b[0m\n",
            "\u001b[32m[I 2023-03-21 13:25:03,882]\u001b[0m Trial 76 finished with value: 1462102.7460953551 and parameters: {'iterations': 1250, 'l2_leaf_reg': 4.848848762857549, 'learning_rate': 0.15, 'max_depth': 7}. Best is trial 62 with value: 1429527.7003508892.\u001b[0m\n",
            "\u001b[32m[I 2023-03-21 13:25:07,944]\u001b[0m Trial 77 finished with value: 1435095.9594410337 and parameters: {'iterations': 1250, 'l2_leaf_reg': 5.062564316015246, 'learning_rate': 0.1, 'max_depth': 7}. Best is trial 62 with value: 1429527.7003508892.\u001b[0m\n",
            "\u001b[32m[I 2023-03-21 13:25:11,979]\u001b[0m Trial 78 finished with value: 1437671.0131425625 and parameters: {'iterations': 1250, 'l2_leaf_reg': 5.0577203862843385, 'learning_rate': 0.1, 'max_depth': 7}. Best is trial 62 with value: 1429527.7003508892.\u001b[0m\n",
            "\u001b[32m[I 2023-03-21 13:25:15,997]\u001b[0m Trial 79 finished with value: 1438558.3719053585 and parameters: {'iterations': 1250, 'l2_leaf_reg': 5.028932591606091, 'learning_rate': 0.1, 'max_depth': 7}. Best is trial 62 with value: 1429527.7003508892.\u001b[0m\n",
            "\u001b[32m[I 2023-03-21 13:25:18,844]\u001b[0m Trial 80 finished with value: 1458097.4888786762 and parameters: {'iterations': 1300, 'l2_leaf_reg': 4.696089134899824, 'learning_rate': 0.1, 'max_depth': 5}. Best is trial 62 with value: 1429527.7003508892.\u001b[0m\n",
            "\u001b[32m[I 2023-03-21 13:25:22,902]\u001b[0m Trial 81 finished with value: 1444363.936968149 and parameters: {'iterations': 1250, 'l2_leaf_reg': 5.334011617619722, 'learning_rate': 0.1, 'max_depth': 7}. Best is trial 62 with value: 1429527.7003508892.\u001b[0m\n",
            "\u001b[32m[I 2023-03-21 13:25:27,063]\u001b[0m Trial 82 finished with value: 1448531.8298734121 and parameters: {'iterations': 1250, 'l2_leaf_reg': 4.9222622007225905, 'learning_rate': 0.1, 'max_depth': 7}. Best is trial 62 with value: 1429527.7003508892.\u001b[0m\n",
            "\u001b[32m[I 2023-03-21 13:25:31,063]\u001b[0m Trial 83 finished with value: 1439000.6385807395 and parameters: {'iterations': 1250, 'l2_leaf_reg': 5.052381452699433, 'learning_rate': 0.1, 'max_depth': 7}. Best is trial 62 with value: 1429527.7003508892.\u001b[0m\n",
            "\u001b[32m[I 2023-03-21 13:25:35,093]\u001b[0m Trial 84 finished with value: 1444963.182440939 and parameters: {'iterations': 1250, 'l2_leaf_reg': 4.812892734212451, 'learning_rate': 0.1, 'max_depth': 7}. Best is trial 62 with value: 1429527.7003508892.\u001b[0m\n",
            "\u001b[32m[I 2023-03-21 13:25:39,070]\u001b[0m Trial 85 finished with value: 1442174.0540620321 and parameters: {'iterations': 1250, 'l2_leaf_reg': 5.137456345654054, 'learning_rate': 0.1, 'max_depth': 7}. Best is trial 62 with value: 1429527.7003508892.\u001b[0m\n",
            "\u001b[32m[I 2023-03-21 13:25:43,813]\u001b[0m Trial 86 finished with value: 1572729.8025476886 and parameters: {'iterations': 1100, 'l2_leaf_reg': 5.316447438222768, 'learning_rate': 0.01, 'max_depth': 8}. Best is trial 62 with value: 1429527.7003508892.\u001b[0m\n",
            "\u001b[32m[I 2023-03-21 13:25:47,812]\u001b[0m Trial 87 finished with value: 1476077.3082231735 and parameters: {'iterations': 1250, 'l2_leaf_reg': 4.950336284163809, 'learning_rate': 0.2, 'max_depth': 7}. Best is trial 62 with value: 1429527.7003508892.\u001b[0m\n",
            "\u001b[32m[I 2023-03-21 13:25:51,041]\u001b[0m Trial 88 finished with value: 1451873.2232342677 and parameters: {'iterations': 1250, 'l2_leaf_reg': 5.436274692819431, 'learning_rate': 0.1, 'max_depth': 6}. Best is trial 62 with value: 1429527.7003508892.\u001b[0m\n",
            "\u001b[32m[I 2023-03-21 13:25:55,011]\u001b[0m Trial 89 finished with value: 1432305.3740363736 and parameters: {'iterations': 1250, 'l2_leaf_reg': 5.053775077117902, 'learning_rate': 0.1, 'max_depth': 7}. Best is trial 62 with value: 1429527.7003508892.\u001b[0m\n",
            "\u001b[32m[I 2023-03-21 13:25:58,731]\u001b[0m Trial 90 finished with value: 1462802.7104435426 and parameters: {'iterations': 1150, 'l2_leaf_reg': 4.59327552978022, 'learning_rate': 0.15, 'max_depth': 7}. Best is trial 62 with value: 1429527.7003508892.\u001b[0m\n",
            "\u001b[32m[I 2023-03-21 13:26:02,716]\u001b[0m Trial 91 finished with value: 1434767.8077743456 and parameters: {'iterations': 1250, 'l2_leaf_reg': 5.0689870543575966, 'learning_rate': 0.1, 'max_depth': 7}. Best is trial 62 with value: 1429527.7003508892.\u001b[0m\n",
            "\u001b[32m[I 2023-03-21 13:26:06,666]\u001b[0m Trial 92 finished with value: 1436717.083117442 and parameters: {'iterations': 1250, 'l2_leaf_reg': 5.0518741626598835, 'learning_rate': 0.1, 'max_depth': 7}. Best is trial 62 with value: 1429527.7003508892.\u001b[0m\n",
            "\u001b[32m[I 2023-03-21 13:26:10,692]\u001b[0m Trial 93 finished with value: 1433378.2102445303 and parameters: {'iterations': 1250, 'l2_leaf_reg': 4.8574555019713594, 'learning_rate': 0.1, 'max_depth': 7}. Best is trial 62 with value: 1429527.7003508892.\u001b[0m\n",
            "\u001b[32m[I 2023-03-21 13:26:14,711]\u001b[0m Trial 94 finished with value: 1443532.7180461385 and parameters: {'iterations': 1250, 'l2_leaf_reg': 4.835833617356576, 'learning_rate': 0.1, 'max_depth': 7}. Best is trial 62 with value: 1429527.7003508892.\u001b[0m\n",
            "\u001b[32m[I 2023-03-21 13:26:18,693]\u001b[0m Trial 95 finished with value: 1450661.6446664026 and parameters: {'iterations': 1250, 'l2_leaf_reg': 4.93464867016512, 'learning_rate': 0.1, 'max_depth': 7}. Best is trial 62 with value: 1429527.7003508892.\u001b[0m\n",
            "\u001b[32m[I 2023-03-21 13:26:22,198]\u001b[0m Trial 96 finished with value: 1457542.5483619347 and parameters: {'iterations': 1100, 'l2_leaf_reg': 4.743692762018747, 'learning_rate': 0.05, 'max_depth': 7}. Best is trial 62 with value: 1429527.7003508892.\u001b[0m\n",
            "\u001b[32m[I 2023-03-21 13:26:26,581]\u001b[0m Trial 97 finished with value: 1451627.550710642 and parameters: {'iterations': 1250, 'l2_leaf_reg': 5.273240439724072, 'learning_rate': 0.1, 'max_depth': 7}. Best is trial 62 with value: 1429527.7003508892.\u001b[0m\n",
            "\u001b[32m[I 2023-03-21 13:26:30,920]\u001b[0m Trial 98 finished with value: 1462604.6919160546 and parameters: {'iterations': 1250, 'l2_leaf_reg': 4.656709216684316, 'learning_rate': 0.1, 'max_depth': 7}. Best is trial 62 with value: 1429527.7003508892.\u001b[0m\n",
            "\u001b[32m[I 2023-03-21 13:26:35,555]\u001b[0m Trial 99 finished with value: 1447708.6342173698 and parameters: {'iterations': 1300, 'l2_leaf_reg': 5.12145517716985, 'learning_rate': 0.1, 'max_depth': 7}. Best is trial 62 with value: 1429527.7003508892.\u001b[0m\n"
          ]
        },
        {
          "output_type": "stream",
          "name": "stdout",
          "text": [
            "Параметры, полученные при лучшей оценке: {'iterations': 1250, 'l2_leaf_reg': 5.248110834214657, 'learning_rate': 0.1, 'max_depth': 7}\n"
          ]
        }
      ]
    },
    {
      "cell_type": "code",
      "source": [
        "params = study_cat.best_trial.params\n",
        "\n",
        "\n",
        "cat_clf = CatBoostRegressor(**params,verbose=250)\n",
        "cat_clf.fit(train[strong_features],train['price_doc'])\n",
        "\n",
        "test['price_doc']=cat_clf.predict(test[strong_features])\n",
        "test['id'] = test.index\n",
        "test[['id', 'price_doc']].to_csv('sub_chernykh_8.csv', index=None)"
      ],
      "metadata": {
        "colab": {
          "base_uri": "https://localhost:8080/"
        },
        "id": "o4varKFGQZOT",
        "outputId": "2bd69501-dd1e-463a-e7ce-566a8bfe5e64"
      },
      "execution_count": 242,
      "outputs": [
        {
          "output_type": "stream",
          "name": "stdout",
          "text": [
            "0:\tlearn: 4735513.2354191\ttotal: 3.84ms\tremaining: 4.79s\n",
            "250:\tlearn: 2381635.6208952\ttotal: 828ms\tremaining: 3.29s\n",
            "500:\tlearn: 2130710.0129819\ttotal: 1.7s\tremaining: 2.55s\n",
            "750:\tlearn: 1960487.2525996\ttotal: 2.51s\tremaining: 1.67s\n",
            "1000:\tlearn: 1835309.2349514\ttotal: 3.33s\tremaining: 828ms\n",
            "1249:\tlearn: 1737511.3974273\ttotal: 4.2s\tremaining: 0us\n"
          ]
        }
      ]
    },
    {
      "cell_type": "markdown",
      "source": [
        "1650381.32879 хуже чем до подбора параметров"
      ],
      "metadata": {
        "id": "ZDz7skNnR-LP"
      }
    },
    {
      "cell_type": "markdown",
      "source": [
        "## С сильными признаками 2"
      ],
      "metadata": {
        "id": "6cVdcnWzSNVE"
      }
    },
    {
      "cell_type": "code",
      "source": [
        "X_train, X_test, y_train, y_test = train_test_split(train[strong_features_2], train.price_doc, random_state = SEED, test_size=0.18)\n",
        "\n",
        "def objective_cat(trial):   \n",
        "    param = {\n",
        "        'iterations': trial.suggest_categorical('iterations', [1100, 1150, 1200, 1250, 1300]), \n",
        "        'verbose': 0, \n",
        "        'random_seed': SEED,\n",
        "        'loss_function': 'MAE',\n",
        "        'l2_leaf_reg': trial.suggest_float('l2_leaf_reg', 4, 8),\n",
        "        'early_stopping_rounds' : 3000,\n",
        "        'eval_metric': 'MAE',\n",
        "        'learning_rate': trial.suggest_categorical('learning_rate', [0.01, 0.05, 0.1, 0.15, 0.2]),\n",
        "        'max_depth': trial.suggest_categorical('max_depth', [5, 6, 7, 8])\n",
        "    }\n",
        "    model = CatBoostRegressor(**param)  \n",
        "    \n",
        "    model.fit(X_train, y_train)\n",
        "    \n",
        "    preds = model.predict(X_test)\n",
        "    \n",
        "    MAE = mean_absolute_error(y_test, preds)\n",
        "    \n",
        "    return MAE\n",
        "\n",
        "# sampler=optuna.samplers.TPESampler(seed=SEED) нужен для повторения результатов при перезапуске\n",
        "study_cat = optuna.create_study(direction='minimize', sampler=optuna.samplers.TPESampler(seed=SEED))\n",
        "\n",
        "# Здесь n_trials показывает, сколько раз будет построена модель со случайными параметрами\n",
        "\n",
        "study_cat.optimize(objective_cat, n_trials=100)\n",
        "\n",
        "print('Параметры, полученные при лучшей оценке:', study_cat.best_trial.params)"
      ],
      "metadata": {
        "colab": {
          "base_uri": "https://localhost:8080/"
        },
        "id": "QC9hXMruR-0w",
        "outputId": "76908300-f094-4c1f-edfd-eb8b3488ecf0"
      },
      "execution_count": 243,
      "outputs": [
        {
          "output_type": "stream",
          "name": "stderr",
          "text": [
            "\u001b[32m[I 2023-03-21 13:29:29,903]\u001b[0m A new study created in memory with name: no-name-4695e620-7037-4059-8ab6-e3dffd973923\u001b[0m\n",
            "\u001b[32m[I 2023-03-21 13:29:32,706]\u001b[0m Trial 0 finished with value: 1447205.278399721 and parameters: {'iterations': 1300, 'l2_leaf_reg': 4.050812788139071, 'learning_rate': 0.15, 'max_depth': 5}. Best is trial 0 with value: 1447205.278399721.\u001b[0m\n",
            "\u001b[32m[I 2023-03-21 13:29:35,842]\u001b[0m Trial 1 finished with value: 1443215.478776386 and parameters: {'iterations': 1100, 'l2_leaf_reg': 4.092945196955616, 'learning_rate': 0.2, 'max_depth': 7}. Best is trial 1 with value: 1443215.478776386.\u001b[0m\n",
            "\u001b[32m[I 2023-03-21 13:29:39,061]\u001b[0m Trial 2 finished with value: 1432507.65355755 and parameters: {'iterations': 1100, 'l2_leaf_reg': 6.9721887669825415, 'learning_rate': 0.1, 'max_depth': 7}. Best is trial 2 with value: 1432507.65355755.\u001b[0m\n",
            "\u001b[32m[I 2023-03-21 13:29:42,577]\u001b[0m Trial 3 finished with value: 1441696.7683908409 and parameters: {'iterations': 1200, 'l2_leaf_reg': 5.573905074335195, 'learning_rate': 0.15, 'max_depth': 7}. Best is trial 2 with value: 1432507.65355755.\u001b[0m\n",
            "\u001b[32m[I 2023-03-21 13:29:46,844]\u001b[0m Trial 4 finished with value: 1426043.6848111209 and parameters: {'iterations': 1150, 'l2_leaf_reg': 5.723207289855774, 'learning_rate': 0.1, 'max_depth': 8}. Best is trial 4 with value: 1426043.6848111209.\u001b[0m\n",
            "\u001b[32m[I 2023-03-21 13:29:49,875]\u001b[0m Trial 5 finished with value: 1457388.7875306946 and parameters: {'iterations': 1250, 'l2_leaf_reg': 6.858359856877987, 'learning_rate': 0.15, 'max_depth': 6}. Best is trial 4 with value: 1426043.6848111209.\u001b[0m\n",
            "\u001b[32m[I 2023-03-21 13:29:53,625]\u001b[0m Trial 6 finished with value: 1465679.902759464 and parameters: {'iterations': 1300, 'l2_leaf_reg': 6.590005956569925, 'learning_rate': 0.2, 'max_depth': 7}. Best is trial 4 with value: 1426043.6848111209.\u001b[0m\n",
            "\u001b[32m[I 2023-03-21 13:29:57,049]\u001b[0m Trial 7 finished with value: 1586913.466675352 and parameters: {'iterations': 1200, 'l2_leaf_reg': 7.490253299323136, 'learning_rate': 0.01, 'max_depth': 7}. Best is trial 4 with value: 1426043.6848111209.\u001b[0m\n",
            "\u001b[32m[I 2023-03-21 13:30:01,573]\u001b[0m Trial 8 finished with value: 1428164.0201309102 and parameters: {'iterations': 1250, 'l2_leaf_reg': 4.0157775970825895, 'learning_rate': 0.1, 'max_depth': 8}. Best is trial 4 with value: 1426043.6848111209.\u001b[0m\n",
            "\u001b[32m[I 2023-03-21 13:30:05,562]\u001b[0m Trial 9 finished with value: 1480348.118222672 and parameters: {'iterations': 1100, 'l2_leaf_reg': 7.356008305729379, 'learning_rate': 0.2, 'max_depth': 8}. Best is trial 4 with value: 1426043.6848111209.\u001b[0m\n",
            "\u001b[32m[I 2023-03-21 13:30:09,789]\u001b[0m Trial 10 finished with value: 1439401.6996274292 and parameters: {'iterations': 1150, 'l2_leaf_reg': 7.994757805077363, 'learning_rate': 0.05, 'max_depth': 8}. Best is trial 4 with value: 1426043.6848111209.\u001b[0m\n",
            "\u001b[32m[I 2023-03-21 13:30:14,374]\u001b[0m Trial 11 finished with value: 1441568.2784204236 and parameters: {'iterations': 1250, 'l2_leaf_reg': 5.150831825670343, 'learning_rate': 0.1, 'max_depth': 8}. Best is trial 4 with value: 1426043.6848111209.\u001b[0m\n",
            "\u001b[32m[I 2023-03-21 13:30:18,574]\u001b[0m Trial 12 finished with value: 1441725.7987617885 and parameters: {'iterations': 1150, 'l2_leaf_reg': 4.829248714363659, 'learning_rate': 0.1, 'max_depth': 8}. Best is trial 4 with value: 1426043.6848111209.\u001b[0m\n",
            "\u001b[32m[I 2023-03-21 13:30:23,220]\u001b[0m Trial 13 finished with value: 1430035.2546492983 and parameters: {'iterations': 1250, 'l2_leaf_reg': 6.106272082775415, 'learning_rate': 0.1, 'max_depth': 8}. Best is trial 4 with value: 1426043.6848111209.\u001b[0m\n",
            "\u001b[32m[I 2023-03-21 13:30:25,957]\u001b[0m Trial 14 finished with value: 1440014.8129971467 and parameters: {'iterations': 1150, 'l2_leaf_reg': 4.8136767501588205, 'learning_rate': 0.1, 'max_depth': 6}. Best is trial 4 with value: 1426043.6848111209.\u001b[0m\n",
            "\u001b[32m[I 2023-03-21 13:30:28,565]\u001b[0m Trial 15 finished with value: 1653043.6684590825 and parameters: {'iterations': 1250, 'l2_leaf_reg': 5.992000665347294, 'learning_rate': 0.01, 'max_depth': 5}. Best is trial 4 with value: 1426043.6848111209.\u001b[0m\n",
            "\u001b[32m[I 2023-03-21 13:30:32,773]\u001b[0m Trial 16 finished with value: 1432906.9576854042 and parameters: {'iterations': 1150, 'l2_leaf_reg': 4.526845074391531, 'learning_rate': 0.05, 'max_depth': 8}. Best is trial 4 with value: 1426043.6848111209.\u001b[0m\n",
            "\u001b[32m[I 2023-03-21 13:30:37,327]\u001b[0m Trial 17 finished with value: 1439561.6627145708 and parameters: {'iterations': 1250, 'l2_leaf_reg': 5.4332724863043635, 'learning_rate': 0.1, 'max_depth': 8}. Best is trial 4 with value: 1426043.6848111209.\u001b[0m\n",
            "\u001b[32m[I 2023-03-21 13:30:41,495]\u001b[0m Trial 18 finished with value: 1432288.167321093 and parameters: {'iterations': 1150, 'l2_leaf_reg': 4.44353941983511, 'learning_rate': 0.1, 'max_depth': 8}. Best is trial 4 with value: 1426043.6848111209.\u001b[0m\n",
            "\u001b[32m[I 2023-03-21 13:30:44,347]\u001b[0m Trial 19 finished with value: 1435988.2930923512 and parameters: {'iterations': 1200, 'l2_leaf_reg': 5.844501582140468, 'learning_rate': 0.1, 'max_depth': 6}. Best is trial 4 with value: 1426043.6848111209.\u001b[0m\n",
            "\u001b[32m[I 2023-03-21 13:30:47,085]\u001b[0m Trial 20 finished with value: 1470417.7452829166 and parameters: {'iterations': 1300, 'l2_leaf_reg': 5.077231729669981, 'learning_rate': 0.05, 'max_depth': 5}. Best is trial 4 with value: 1426043.6848111209.\u001b[0m\n",
            "\u001b[32m[I 2023-03-21 13:30:51,612]\u001b[0m Trial 21 finished with value: 1431831.5507879204 and parameters: {'iterations': 1250, 'l2_leaf_reg': 6.334958805621946, 'learning_rate': 0.1, 'max_depth': 8}. Best is trial 4 with value: 1426043.6848111209.\u001b[0m\n",
            "\u001b[32m[I 2023-03-21 13:30:56,192]\u001b[0m Trial 22 finished with value: 1423825.2386577884 and parameters: {'iterations': 1250, 'l2_leaf_reg': 5.659529978833564, 'learning_rate': 0.1, 'max_depth': 8}. Best is trial 22 with value: 1423825.2386577884.\u001b[0m\n",
            "\u001b[32m[I 2023-03-21 13:31:00,770]\u001b[0m Trial 23 finished with value: 1413738.8500915074 and parameters: {'iterations': 1250, 'l2_leaf_reg': 5.610508789108149, 'learning_rate': 0.1, 'max_depth': 8}. Best is trial 23 with value: 1413738.8500915074.\u001b[0m\n",
            "\u001b[32m[I 2023-03-21 13:31:05,452]\u001b[0m Trial 24 finished with value: 1423825.2386577884 and parameters: {'iterations': 1250, 'l2_leaf_reg': 5.660753556527384, 'learning_rate': 0.1, 'max_depth': 8}. Best is trial 23 with value: 1413738.8500915074.\u001b[0m\n",
            "\u001b[32m[I 2023-03-21 13:31:10,054]\u001b[0m Trial 25 finished with value: 1548777.6479745111 and parameters: {'iterations': 1250, 'l2_leaf_reg': 5.435587215339956, 'learning_rate': 0.01, 'max_depth': 8}. Best is trial 23 with value: 1413738.8500915074.\u001b[0m\n",
            "\u001b[32m[I 2023-03-21 13:31:14,594]\u001b[0m Trial 26 finished with value: 1430776.4662371224 and parameters: {'iterations': 1250, 'l2_leaf_reg': 5.804520707273944, 'learning_rate': 0.1, 'max_depth': 8}. Best is trial 23 with value: 1413738.8500915074.\u001b[0m\n",
            "\u001b[32m[I 2023-03-21 13:31:19,142]\u001b[0m Trial 27 finished with value: 1427450.3282394984 and parameters: {'iterations': 1250, 'l2_leaf_reg': 6.174325504789511, 'learning_rate': 0.1, 'max_depth': 8}. Best is trial 23 with value: 1413738.8500915074.\u001b[0m\n",
            "\u001b[32m[I 2023-03-21 13:31:22,102]\u001b[0m Trial 28 finished with value: 1444981.6347852442 and parameters: {'iterations': 1250, 'l2_leaf_reg': 5.32689624388903, 'learning_rate': 0.1, 'max_depth': 6}. Best is trial 23 with value: 1413738.8500915074.\u001b[0m\n",
            "\u001b[32m[I 2023-03-21 13:31:24,769]\u001b[0m Trial 29 finished with value: 1444829.9691931768 and parameters: {'iterations': 1300, 'l2_leaf_reg': 5.54968772730865, 'learning_rate': 0.15, 'max_depth': 5}. Best is trial 23 with value: 1413738.8500915074.\u001b[0m\n",
            "\u001b[32m[I 2023-03-21 13:31:27,397]\u001b[0m Trial 30 finished with value: 1655397.412395417 and parameters: {'iterations': 1250, 'l2_leaf_reg': 5.868610193915927, 'learning_rate': 0.01, 'max_depth': 5}. Best is trial 23 with value: 1413738.8500915074.\u001b[0m\n",
            "\u001b[32m[I 2023-03-21 13:31:31,678]\u001b[0m Trial 31 finished with value: 1415579.6365181373 and parameters: {'iterations': 1150, 'l2_leaf_reg': 5.6102460692763, 'learning_rate': 0.1, 'max_depth': 8}. Best is trial 23 with value: 1413738.8500915074.\u001b[0m\n",
            "\u001b[32m[I 2023-03-21 13:31:35,682]\u001b[0m Trial 32 finished with value: 1427887.5838524867 and parameters: {'iterations': 1100, 'l2_leaf_reg': 5.585349912829333, 'learning_rate': 0.1, 'max_depth': 8}. Best is trial 23 with value: 1413738.8500915074.\u001b[0m\n",
            "\u001b[32m[I 2023-03-21 13:31:40,202]\u001b[0m Trial 33 finished with value: 1478774.5155815275 and parameters: {'iterations': 1250, 'l2_leaf_reg': 6.2770814500223855, 'learning_rate': 0.2, 'max_depth': 8}. Best is trial 23 with value: 1413738.8500915074.\u001b[0m\n",
            "\u001b[32m[I 2023-03-21 13:31:44,555]\u001b[0m Trial 34 finished with value: 1421378.4907683264 and parameters: {'iterations': 1200, 'l2_leaf_reg': 5.983234380368765, 'learning_rate': 0.1, 'max_depth': 8}. Best is trial 23 with value: 1413738.8500915074.\u001b[0m\n",
            "\u001b[32m[I 2023-03-21 13:31:48,982]\u001b[0m Trial 35 finished with value: 1448756.0173243182 and parameters: {'iterations': 1200, 'l2_leaf_reg': 5.99324571919573, 'learning_rate': 0.15, 'max_depth': 8}. Best is trial 23 with value: 1413738.8500915074.\u001b[0m\n",
            "\u001b[32m[I 2023-03-21 13:31:52,441]\u001b[0m Trial 36 finished with value: 1423491.8144182623 and parameters: {'iterations': 1200, 'l2_leaf_reg': 5.265099717019712, 'learning_rate': 0.1, 'max_depth': 7}. Best is trial 23 with value: 1413738.8500915074.\u001b[0m\n",
            "\u001b[32m[I 2023-03-21 13:31:55,863]\u001b[0m Trial 37 finished with value: 1434755.4670301327 and parameters: {'iterations': 1200, 'l2_leaf_reg': 5.2850761969634545, 'learning_rate': 0.1, 'max_depth': 7}. Best is trial 23 with value: 1413738.8500915074.\u001b[0m\n",
            "\u001b[32m[I 2023-03-21 13:31:59,290]\u001b[0m Trial 38 finished with value: 1462892.891600199 and parameters: {'iterations': 1200, 'l2_leaf_reg': 6.399261296111411, 'learning_rate': 0.2, 'max_depth': 7}. Best is trial 23 with value: 1413738.8500915074.\u001b[0m\n",
            "\u001b[32m[I 2023-03-21 13:32:02,702]\u001b[0m Trial 39 finished with value: 1437569.682906996 and parameters: {'iterations': 1200, 'l2_leaf_reg': 5.836031240452692, 'learning_rate': 0.15, 'max_depth': 7}. Best is trial 23 with value: 1413738.8500915074.\u001b[0m\n",
            "\u001b[32m[I 2023-03-21 13:32:06,138]\u001b[0m Trial 40 finished with value: 1429153.4495342395 and parameters: {'iterations': 1200, 'l2_leaf_reg': 6.548844349256518, 'learning_rate': 0.1, 'max_depth': 7}. Best is trial 23 with value: 1413738.8500915074.\u001b[0m\n",
            "\u001b[32m[I 2023-03-21 13:32:09,573]\u001b[0m Trial 41 finished with value: 1435502.716831509 and parameters: {'iterations': 1200, 'l2_leaf_reg': 5.679543415719983, 'learning_rate': 0.1, 'max_depth': 7}. Best is trial 23 with value: 1413738.8500915074.\u001b[0m\n",
            "\u001b[32m[I 2023-03-21 13:32:13,594]\u001b[0m Trial 42 finished with value: 1423481.0410255208 and parameters: {'iterations': 1100, 'l2_leaf_reg': 6.041419730138078, 'learning_rate': 0.1, 'max_depth': 8}. Best is trial 23 with value: 1413738.8500915074.\u001b[0m\n",
            "\u001b[32m[I 2023-03-21 13:32:16,737]\u001b[0m Trial 43 finished with value: 1435787.7806316062 and parameters: {'iterations': 1100, 'l2_leaf_reg': 6.071406417803617, 'learning_rate': 0.1, 'max_depth': 7}. Best is trial 23 with value: 1413738.8500915074.\u001b[0m\n",
            "\u001b[32m[I 2023-03-21 13:32:20,783]\u001b[0m Trial 44 finished with value: 1433230.5304659372 and parameters: {'iterations': 1100, 'l2_leaf_reg': 5.432270891622816, 'learning_rate': 0.05, 'max_depth': 8}. Best is trial 23 with value: 1413738.8500915074.\u001b[0m\n",
            "\u001b[32m[I 2023-03-21 13:32:23,412]\u001b[0m Trial 45 finished with value: 1436753.762105645 and parameters: {'iterations': 1100, 'l2_leaf_reg': 5.928110497252764, 'learning_rate': 0.1, 'max_depth': 6}. Best is trial 23 with value: 1413738.8500915074.\u001b[0m\n",
            "\u001b[32m[I 2023-03-21 13:32:27,618]\u001b[0m Trial 46 finished with value: 1445225.834673197 and parameters: {'iterations': 1150, 'l2_leaf_reg': 5.136212977319961, 'learning_rate': 0.1, 'max_depth': 8}. Best is trial 23 with value: 1413738.8500915074.\u001b[0m\n",
            "\u001b[32m[I 2023-03-21 13:32:31,658]\u001b[0m Trial 47 finished with value: 1478874.8458808893 and parameters: {'iterations': 1100, 'l2_leaf_reg': 6.196161947299907, 'learning_rate': 0.2, 'max_depth': 8}. Best is trial 23 with value: 1413738.8500915074.\u001b[0m\n",
            "\u001b[32m[I 2023-03-21 13:32:35,085]\u001b[0m Trial 48 finished with value: 1427214.794972035 and parameters: {'iterations': 1200, 'l2_leaf_reg': 6.0550168558355155, 'learning_rate': 0.1, 'max_depth': 7}. Best is trial 23 with value: 1413738.8500915074.\u001b[0m\n",
            "\u001b[32m[I 2023-03-21 13:32:39,691]\u001b[0m Trial 49 finished with value: 1430109.0927390766 and parameters: {'iterations': 1150, 'l2_leaf_reg': 5.543762107767875, 'learning_rate': 0.1, 'max_depth': 8}. Best is trial 23 with value: 1413738.8500915074.\u001b[0m\n",
            "\u001b[32m[I 2023-03-21 13:32:44,603]\u001b[0m Trial 50 finished with value: 1539284.0885274215 and parameters: {'iterations': 1300, 'l2_leaf_reg': 5.738271403380983, 'learning_rate': 0.01, 'max_depth': 8}. Best is trial 23 with value: 1413738.8500915074.\u001b[0m\n",
            "\u001b[32m[I 2023-03-21 13:32:49,001]\u001b[0m Trial 51 finished with value: 1425176.8277313726 and parameters: {'iterations': 1200, 'l2_leaf_reg': 5.71941706603645, 'learning_rate': 0.1, 'max_depth': 8}. Best is trial 23 with value: 1413738.8500915074.\u001b[0m\n",
            "\u001b[32m[I 2023-03-21 13:32:53,013]\u001b[0m Trial 52 finished with value: 1428090.974881995 and parameters: {'iterations': 1100, 'l2_leaf_reg': 5.940077979157499, 'learning_rate': 0.1, 'max_depth': 8}. Best is trial 23 with value: 1413738.8500915074.\u001b[0m\n",
            "\u001b[32m[I 2023-03-21 13:32:57,231]\u001b[0m Trial 53 finished with value: 1450126.1098464318 and parameters: {'iterations': 1150, 'l2_leaf_reg': 5.240586419142778, 'learning_rate': 0.1, 'max_depth': 8}. Best is trial 23 with value: 1413738.8500915074.\u001b[0m\n",
            "\u001b[32m[I 2023-03-21 13:33:01,640]\u001b[0m Trial 54 finished with value: 1443861.8406208905 and parameters: {'iterations': 1200, 'l2_leaf_reg': 5.02476648712661, 'learning_rate': 0.1, 'max_depth': 8}. Best is trial 23 with value: 1413738.8500915074.\u001b[0m\n",
            "\u001b[32m[I 2023-03-21 13:33:04,036]\u001b[0m Trial 55 finished with value: 1481650.6833826273 and parameters: {'iterations': 1150, 'l2_leaf_reg': 5.422762611560667, 'learning_rate': 0.05, 'max_depth': 5}. Best is trial 23 with value: 1413738.8500915074.\u001b[0m\n",
            "\u001b[32m[I 2023-03-21 13:33:08,782]\u001b[0m Trial 56 finished with value: 1413446.610802379 and parameters: {'iterations': 1300, 'l2_leaf_reg': 5.645296248482421, 'learning_rate': 0.1, 'max_depth': 8}. Best is trial 56 with value: 1413446.610802379.\u001b[0m\n",
            "\u001b[32m[I 2023-03-21 13:33:12,104]\u001b[0m Trial 57 finished with value: 1431702.8522692102 and parameters: {'iterations': 1300, 'l2_leaf_reg': 6.174508593884402, 'learning_rate': 0.1, 'max_depth': 6}. Best is trial 56 with value: 1413446.610802379.\u001b[0m\n",
            "\u001b[32m[I 2023-03-21 13:33:17,170]\u001b[0m Trial 58 finished with value: 1416634.674781447 and parameters: {'iterations': 1300, 'l2_leaf_reg': 5.8172122895251634, 'learning_rate': 0.1, 'max_depth': 8}. Best is trial 56 with value: 1413446.610802379.\u001b[0m\n",
            "\u001b[32m[I 2023-03-21 13:33:22,148]\u001b[0m Trial 59 finished with value: 1444154.8721806714 and parameters: {'iterations': 1300, 'l2_leaf_reg': 5.827973376935104, 'learning_rate': 0.15, 'max_depth': 8}. Best is trial 56 with value: 1413446.610802379.\u001b[0m\n",
            "\u001b[32m[I 2023-03-21 13:33:27,179]\u001b[0m Trial 60 finished with value: 1426499.4967697917 and parameters: {'iterations': 1300, 'l2_leaf_reg': 5.996170373531108, 'learning_rate': 0.1, 'max_depth': 8}. Best is trial 56 with value: 1413446.610802379.\u001b[0m\n",
            "\u001b[32m[I 2023-03-21 13:33:32,222]\u001b[0m Trial 61 finished with value: 1425443.0447638857 and parameters: {'iterations': 1300, 'l2_leaf_reg': 5.602007240394151, 'learning_rate': 0.1, 'max_depth': 8}. Best is trial 56 with value: 1413446.610802379.\u001b[0m\n",
            "\u001b[32m[I 2023-03-21 13:33:37,084]\u001b[0m Trial 62 finished with value: 1435135.8359653624 and parameters: {'iterations': 1300, 'l2_leaf_reg': 5.783123141186223, 'learning_rate': 0.1, 'max_depth': 8}. Best is trial 56 with value: 1413446.610802379.\u001b[0m\n",
            "\u001b[32m[I 2023-03-21 13:33:41,986]\u001b[0m Trial 63 finished with value: 1426161.4321711077 and parameters: {'iterations': 1300, 'l2_leaf_reg': 5.5334916931870985, 'learning_rate': 0.1, 'max_depth': 8}. Best is trial 56 with value: 1413446.610802379.\u001b[0m\n",
            "\u001b[32m[I 2023-03-21 13:33:46,977]\u001b[0m Trial 64 finished with value: 1437938.914060116 and parameters: {'iterations': 1300, 'l2_leaf_reg': 5.342582655871681, 'learning_rate': 0.1, 'max_depth': 8}. Best is trial 56 with value: 1413446.610802379.\u001b[0m\n",
            "\u001b[32m[I 2023-03-21 13:33:51,156]\u001b[0m Trial 65 finished with value: 1434901.9809649892 and parameters: {'iterations': 1100, 'l2_leaf_reg': 5.907990745408145, 'learning_rate': 0.1, 'max_depth': 8}. Best is trial 56 with value: 1413446.610802379.\u001b[0m\n",
            "\u001b[32m[I 2023-03-21 13:33:56,070]\u001b[0m Trial 66 finished with value: 1564149.1103994246 and parameters: {'iterations': 1150, 'l2_leaf_reg': 5.696872700335238, 'learning_rate': 0.01, 'max_depth': 8}. Best is trial 56 with value: 1413446.610802379.\u001b[0m\n",
            "\u001b[32m[I 2023-03-21 13:33:58,875]\u001b[0m Trial 67 finished with value: 1440799.3425161121 and parameters: {'iterations': 1300, 'l2_leaf_reg': 5.501782060694168, 'learning_rate': 0.1, 'max_depth': 5}. Best is trial 56 with value: 1413446.610802379.\u001b[0m\n",
            "\u001b[32m[I 2023-03-21 13:34:02,356]\u001b[0m Trial 68 finished with value: 1443310.5658615308 and parameters: {'iterations': 1200, 'l2_leaf_reg': 6.120888510234986, 'learning_rate': 0.05, 'max_depth': 7}. Best is trial 56 with value: 1413446.610802379.\u001b[0m\n",
            "\u001b[32m[I 2023-03-21 13:34:05,445]\u001b[0m Trial 69 finished with value: 1451988.664867587 and parameters: {'iterations': 1300, 'l2_leaf_reg': 5.232789524068008, 'learning_rate': 0.2, 'max_depth': 6}. Best is trial 56 with value: 1413446.610802379.\u001b[0m\n",
            "\u001b[32m[I 2023-03-21 13:34:09,850]\u001b[0m Trial 70 finished with value: 1428426.344762266 and parameters: {'iterations': 1200, 'l2_leaf_reg': 5.631818721482841, 'learning_rate': 0.1, 'max_depth': 8}. Best is trial 56 with value: 1413446.610802379.\u001b[0m\n",
            "\u001b[32m[I 2023-03-21 13:34:14,387]\u001b[0m Trial 71 finished with value: 1431216.0499126264 and parameters: {'iterations': 1250, 'l2_leaf_reg': 5.729098728934251, 'learning_rate': 0.1, 'max_depth': 8}. Best is trial 56 with value: 1413446.610802379.\u001b[0m\n",
            "\u001b[32m[I 2023-03-21 13:34:18,963]\u001b[0m Trial 72 finished with value: 1444834.0170335446 and parameters: {'iterations': 1250, 'l2_leaf_reg': 5.3927960958890395, 'learning_rate': 0.1, 'max_depth': 8}. Best is trial 56 with value: 1413446.610802379.\u001b[0m\n",
            "\u001b[32m[I 2023-03-21 13:34:23,528]\u001b[0m Trial 73 finished with value: 1430981.9561182738 and parameters: {'iterations': 1250, 'l2_leaf_reg': 5.850718437907245, 'learning_rate': 0.1, 'max_depth': 8}. Best is trial 56 with value: 1413446.610802379.\u001b[0m\n",
            "\u001b[32m[I 2023-03-21 13:34:28,099]\u001b[0m Trial 74 finished with value: 1422044.6101551862 and parameters: {'iterations': 1250, 'l2_leaf_reg': 6.005390133230414, 'learning_rate': 0.1, 'max_depth': 8}. Best is trial 56 with value: 1413446.610802379.\u001b[0m\n",
            "\u001b[32m[I 2023-03-21 13:34:32,638]\u001b[0m Trial 75 finished with value: 1430344.8812395984 and parameters: {'iterations': 1250, 'l2_leaf_reg': 6.0585115412965775, 'learning_rate': 0.1, 'max_depth': 8}. Best is trial 56 with value: 1413446.610802379.\u001b[0m\n",
            "\u001b[32m[I 2023-03-21 13:34:35,984]\u001b[0m Trial 76 finished with value: 1438198.7253583707 and parameters: {'iterations': 1150, 'l2_leaf_reg': 5.910241227976285, 'learning_rate': 0.1, 'max_depth': 7}. Best is trial 56 with value: 1413446.610802379.\u001b[0m\n",
            "\u001b[32m[I 2023-03-21 13:34:40,032]\u001b[0m Trial 77 finished with value: 1438843.4620480423 and parameters: {'iterations': 1100, 'l2_leaf_reg': 6.317097954595299, 'learning_rate': 0.1, 'max_depth': 8}. Best is trial 56 with value: 1413446.610802379.\u001b[0m\n",
            "\u001b[32m[I 2023-03-21 13:34:44,402]\u001b[0m Trial 78 finished with value: 1451550.8107245287 and parameters: {'iterations': 1200, 'l2_leaf_reg': 5.607657193581622, 'learning_rate': 0.15, 'max_depth': 8}. Best is trial 56 with value: 1413446.610802379.\u001b[0m\n",
            "\u001b[32m[I 2023-03-21 13:34:49,120]\u001b[0m Trial 79 finished with value: 1412655.389631438 and parameters: {'iterations': 1250, 'l2_leaf_reg': 5.998670802106769, 'learning_rate': 0.1, 'max_depth': 8}. Best is trial 79 with value: 1412655.389631438.\u001b[0m\n",
            "\u001b[32m[I 2023-03-21 13:34:53,786]\u001b[0m Trial 80 finished with value: 1432256.43705814 and parameters: {'iterations': 1250, 'l2_leaf_reg': 6.207518383386149, 'learning_rate': 0.1, 'max_depth': 8}. Best is trial 79 with value: 1412655.389631438.\u001b[0m\n",
            "\u001b[32m[I 2023-03-21 13:34:58,510]\u001b[0m Trial 81 finished with value: 1423913.1965535711 and parameters: {'iterations': 1250, 'l2_leaf_reg': 5.989994457287917, 'learning_rate': 0.1, 'max_depth': 8}. Best is trial 79 with value: 1412655.389631438.\u001b[0m\n",
            "\u001b[32m[I 2023-03-21 13:35:03,088]\u001b[0m Trial 82 finished with value: 1432574.9483492796 and parameters: {'iterations': 1250, 'l2_leaf_reg': 5.776105923010931, 'learning_rate': 0.1, 'max_depth': 8}. Best is trial 79 with value: 1412655.389631438.\u001b[0m\n",
            "\u001b[32m[I 2023-03-21 13:35:07,690]\u001b[0m Trial 83 finished with value: 1424829.0717625236 and parameters: {'iterations': 1250, 'l2_leaf_reg': 6.385628289162779, 'learning_rate': 0.1, 'max_depth': 8}. Best is trial 79 with value: 1412655.389631438.\u001b[0m\n",
            "\u001b[32m[I 2023-03-21 13:35:11,281]\u001b[0m Trial 84 finished with value: 1433825.0140335872 and parameters: {'iterations': 1250, 'l2_leaf_reg': 6.089850508439949, 'learning_rate': 0.1, 'max_depth': 7}. Best is trial 79 with value: 1412655.389631438.\u001b[0m\n",
            "\u001b[32m[I 2023-03-21 13:35:15,695]\u001b[0m Trial 85 finished with value: 1556643.8200437196 and parameters: {'iterations': 1200, 'l2_leaf_reg': 5.930588174900179, 'learning_rate': 0.01, 'max_depth': 8}. Best is trial 79 with value: 1412655.389631438.\u001b[0m\n",
            "\u001b[32m[I 2023-03-21 13:35:17,992]\u001b[0m Trial 86 finished with value: 1451747.19756042 and parameters: {'iterations': 1100, 'l2_leaf_reg': 5.460723760590724, 'learning_rate': 0.1, 'max_depth': 5}. Best is trial 79 with value: 1412655.389631438.\u001b[0m\n",
            "\u001b[32m[I 2023-03-21 13:35:22,169]\u001b[0m Trial 87 finished with value: 1466792.5141614855 and parameters: {'iterations': 1150, 'l2_leaf_reg': 5.65459346649407, 'learning_rate': 0.2, 'max_depth': 8}. Best is trial 79 with value: 1412655.389631438.\u001b[0m\n",
            "\u001b[32m[I 2023-03-21 13:35:25,283]\u001b[0m Trial 88 finished with value: 1434330.0976977167 and parameters: {'iterations': 1300, 'l2_leaf_reg': 6.255386943709896, 'learning_rate': 0.1, 'max_depth': 6}. Best is trial 79 with value: 1412655.389631438.\u001b[0m\n",
            "\u001b[32m[I 2023-03-21 13:35:29,875]\u001b[0m Trial 89 finished with value: 1432675.3041430078 and parameters: {'iterations': 1250, 'l2_leaf_reg': 5.8143242402244395, 'learning_rate': 0.05, 'max_depth': 8}. Best is trial 79 with value: 1412655.389631438.\u001b[0m\n",
            "\u001b[32m[I 2023-03-21 13:35:34,259]\u001b[0m Trial 90 finished with value: 1441597.6285644185 and parameters: {'iterations': 1200, 'l2_leaf_reg': 5.513983811629054, 'learning_rate': 0.1, 'max_depth': 8}. Best is trial 79 with value: 1412655.389631438.\u001b[0m\n",
            "\u001b[32m[I 2023-03-21 13:35:38,868]\u001b[0m Trial 91 finished with value: 1431216.0499126264 and parameters: {'iterations': 1250, 'l2_leaf_reg': 5.729563918878898, 'learning_rate': 0.1, 'max_depth': 8}. Best is trial 79 with value: 1412655.389631438.\u001b[0m\n",
            "\u001b[32m[I 2023-03-21 13:35:43,411]\u001b[0m Trial 92 finished with value: 1416366.058615891 and parameters: {'iterations': 1250, 'l2_leaf_reg': 6.025131588079144, 'learning_rate': 0.1, 'max_depth': 8}. Best is trial 79 with value: 1412655.389631438.\u001b[0m\n",
            "\u001b[32m[I 2023-03-21 13:35:47,961]\u001b[0m Trial 93 finished with value: 1420653.5169132028 and parameters: {'iterations': 1250, 'l2_leaf_reg': 6.143226450722229, 'learning_rate': 0.1, 'max_depth': 8}. Best is trial 79 with value: 1412655.389631438.\u001b[0m\n",
            "\u001b[32m[I 2023-03-21 13:35:52,519]\u001b[0m Trial 94 finished with value: 1431259.62067255 and parameters: {'iterations': 1250, 'l2_leaf_reg': 6.16964726674352, 'learning_rate': 0.1, 'max_depth': 8}. Best is trial 79 with value: 1412655.389631438.\u001b[0m\n",
            "\u001b[32m[I 2023-03-21 13:35:57,060]\u001b[0m Trial 95 finished with value: 1422784.6970627313 and parameters: {'iterations': 1250, 'l2_leaf_reg': 5.985370707144945, 'learning_rate': 0.1, 'max_depth': 8}. Best is trial 79 with value: 1412655.389631438.\u001b[0m\n",
            "\u001b[32m[I 2023-03-21 13:36:01,639]\u001b[0m Trial 96 finished with value: 1423913.1965535711 and parameters: {'iterations': 1250, 'l2_leaf_reg': 5.99041797807539, 'learning_rate': 0.1, 'max_depth': 8}. Best is trial 79 with value: 1412655.389631438.\u001b[0m\n",
            "\u001b[32m[I 2023-03-21 13:36:06,220]\u001b[0m Trial 97 finished with value: 1416155.7868252178 and parameters: {'iterations': 1250, 'l2_leaf_reg': 6.4660720869944495, 'learning_rate': 0.1, 'max_depth': 8}. Best is trial 79 with value: 1412655.389631438.\u001b[0m\n",
            "\u001b[32m[I 2023-03-21 13:36:10,783]\u001b[0m Trial 98 finished with value: 1463249.5188612223 and parameters: {'iterations': 1250, 'l2_leaf_reg': 6.478516776244803, 'learning_rate': 0.15, 'max_depth': 8}. Best is trial 79 with value: 1412655.389631438.\u001b[0m\n",
            "\u001b[32m[I 2023-03-21 13:36:15,344]\u001b[0m Trial 99 finished with value: 1425823.1535236582 and parameters: {'iterations': 1250, 'l2_leaf_reg': 6.584019788774825, 'learning_rate': 0.1, 'max_depth': 8}. Best is trial 79 with value: 1412655.389631438.\u001b[0m\n"
          ]
        },
        {
          "output_type": "stream",
          "name": "stdout",
          "text": [
            "Параметры, полученные при лучшей оценке: {'iterations': 1250, 'l2_leaf_reg': 5.998670802106769, 'learning_rate': 0.1, 'max_depth': 8}\n"
          ]
        }
      ]
    },
    {
      "cell_type": "code",
      "source": [
        "params = study_cat.best_trial.params\n",
        "\n",
        "\n",
        "cat_clf = CatBoostRegressor(**params,verbose=250)\n",
        "cat_clf.fit(train[strong_features_2],train['price_doc'])\n",
        "\n",
        "test['price_doc']=cat_clf.predict(test[strong_features_2])\n",
        "test['id'] = test.index\n",
        "test[['id', 'price_doc']].to_csv('sub_chernykh_9.csv', index=None)"
      ],
      "metadata": {
        "colab": {
          "base_uri": "https://localhost:8080/"
        },
        "id": "rxn1CQxFSWJh",
        "outputId": "022c7837-559e-408f-fb00-a77f7527b255"
      },
      "execution_count": 245,
      "outputs": [
        {
          "output_type": "stream",
          "name": "stdout",
          "text": [
            "0:\tlearn: 4736641.5745998\ttotal: 4.41ms\tremaining: 5.51s\n",
            "250:\tlearn: 2373584.0546128\ttotal: 963ms\tremaining: 3.83s\n",
            "500:\tlearn: 2128414.5380367\ttotal: 2.03s\tremaining: 3.04s\n",
            "750:\tlearn: 1986081.9778378\ttotal: 2.97s\tremaining: 1.97s\n",
            "1000:\tlearn: 1882165.4925671\ttotal: 3.92s\tremaining: 975ms\n",
            "1249:\tlearn: 1794983.5434812\ttotal: 4.85s\tremaining: 0us\n"
          ]
        }
      ]
    },
    {
      "cell_type": "markdown",
      "source": [
        "### Итоговый сабмит (sub_chernykh_9.csv)"
      ],
      "metadata": {
        "id": "7IhXtJ4PU9FF"
      }
    },
    {
      "cell_type": "markdown",
      "source": [
        "1604101.87994\n"
      ],
      "metadata": {
        "id": "0-uOX8LIU76I"
      }
    }
  ]
}